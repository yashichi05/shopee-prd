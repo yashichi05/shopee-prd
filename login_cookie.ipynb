{
 "cells": [
  {
   "cell_type": "code",
   "execution_count": null,
   "metadata": {},
   "outputs": [],
   "source": [
    "import requests\n",
    "import sys\n",
    "import io\n",
    "\n",
    "#sys.stdout = io.TextIOWrapper(sys.stdout.buffer,encoding='utf8') #改變標準輸出的默認編碼\n",
    "\n",
    "#登錄後才能訪問的網頁\n",
    "url = 'http://www.daiyi.url.tw/a/index.php' \n",
    "\n",
    "#瀏覽器登錄後得到的cookie，也就是剛才複製的字符串\n",
    "cookie_str = r'language=tw; currency=TWD; PHPSESSID=8494c038ee939fd5e59a8454cd9c7595'\n",
    "\n",
    "#把cookie字符串處理成字典，以便接下來使用\n",
    "cookies = {}\n",
    "for line in cookie_str.split(';'): #cookie_str.split(';') 依分號 分割成陣列 並列出\n",
    "\n",
    "    key, value = line.split('=', 1) #將陣列依序指派給key value\n",
    "    cookies[key] = value #新增物件\n",
    "    \n",
    "session = requests.Session()\n",
    "res = session.get(url,cookies=cookies)\n",
    "\n",
    "\n",
    "    \n",
    "print(res.text)"
   ]
  },
  {
   "cell_type": "code",
   "execution_count": 138,
   "metadata": {},
   "outputs": [
    {
     "name": "stdout",
     "output_type": "stream",
     "text": [
      "{'domain': '.shopee.tw', 'expiry': 1548320017, 'httpOnly': False, 'name': '_gcl_au', 'path': '/', 'secure': False, 'value': '1.1.583229615.1540544017'}\n"
     ]
    }
   ],
   "source": [
    "from selenium import webdriver\n",
    "chromeDriver = webdriver.Chrome()\n",
    "chromeDriver.get('https://shopee.tw/')\n",
    "for row in chromeDriver.get_cookies():\n",
    "    print(row)\n"
   ]
  },
  {
   "cell_type": "code",
   "execution_count": 137,
   "metadata": {},
   "outputs": [
    {
     "ename": "WebDriverException",
     "evalue": "Message: chrome not reachable\n  (Session info: chrome=69.0.3497.100)\n  (Driver info: chromedriver=2.40.565498 (ea082db3280dd6843ebfb08a625e3eb905c4f5ab),platform=Windows NT 10.0.17134 x86_64)\n",
     "output_type": "error",
     "traceback": [
      "\u001b[1;31m---------------------------------------------------------------------------\u001b[0m",
      "\u001b[1;31mWebDriverException\u001b[0m                        Traceback (most recent call last)",
      "\u001b[1;32m<ipython-input-137-69fdbb7c570a>\u001b[0m in \u001b[0;36m<module>\u001b[1;34m()\u001b[0m\n\u001b[0;32m      1\u001b[0m \u001b[0m我的cookies\u001b[0m \u001b[1;33m=\u001b[0m \u001b[1;33m[\u001b[0m\u001b[1;33m{\u001b[0m\u001b[1;34m'domain'\u001b[0m\u001b[1;33m:\u001b[0m \u001b[1;34m'.shopee.tw'\u001b[0m\u001b[1;33m,\u001b[0m \u001b[1;34m'expiry'\u001b[0m\u001b[1;33m:\u001b[0m \u001b[1;36m2171255390.071453\u001b[0m\u001b[1;33m,\u001b[0m \u001b[1;34m'httpOnly'\u001b[0m\u001b[1;33m:\u001b[0m \u001b[1;32mTrue\u001b[0m\u001b[1;33m,\u001b[0m \u001b[1;34m'name'\u001b[0m\u001b[1;33m:\u001b[0m \u001b[1;34m'SPC_EC'\u001b[0m\u001b[1;33m,\u001b[0m \u001b[1;34m'path'\u001b[0m\u001b[1;33m:\u001b[0m \u001b[1;34m'/'\u001b[0m\u001b[1;33m,\u001b[0m \u001b[1;34m'secure'\u001b[0m\u001b[1;33m:\u001b[0m \u001b[1;32mFalse\u001b[0m\u001b[1;33m,\u001b[0m \u001b[1;34m'value'\u001b[0m\u001b[1;33m:\u001b[0m \u001b[1;34m'\"07PSm4EiuR25rdOSHw74lcmQiv+uVkCGugRMgK+X8BAfr5nlTeRCdvKa3lWOEq0gO6LQ8wVUpVKO0djtR1p8HvtEZhwv7GWtzOzTMY9YGKPM7r6ypyrAWD018TfR4TvStgDpY0Hi8J4zyLw6BUWhTw==\"'\u001b[0m\u001b[1;33m}\u001b[0m\u001b[1;33m]\u001b[0m\u001b[1;33m\u001b[0m\u001b[0m\n\u001b[0;32m      2\u001b[0m \u001b[1;31m#公司cookies = [{'domain': '.shopee.tw', 'expiry': 2171255390.071453, 'httpOnly': True, 'name': 'SPC_EC', 'path': '/', 'secure': False, 'value': '\"eAPfg5Oqwgqg5+SNotv9MLPXgwkCRBAALN9sJwBqB/0vutyStvJ4msxYaWVteOrQP86VFidHx6fEOC63bQO2eAMDOUkt7AczGfi92BlUylqgfq3OQd4LiH+i6PT3NJz2xX6aHrIduc1h3MckCq4V9w==\"'}]\u001b[0m\u001b[1;33m\u001b[0m\u001b[1;33m\u001b[0m\u001b[0m\n\u001b[1;32m----> 3\u001b[1;33m \u001b[0mchromeDriver\u001b[0m\u001b[1;33m.\u001b[0m\u001b[0mdelete_all_cookies\u001b[0m\u001b[1;33m(\u001b[0m\u001b[1;33m)\u001b[0m\u001b[1;33m\u001b[0m\u001b[0m\n\u001b[0m\u001b[0;32m      4\u001b[0m \u001b[1;32mfor\u001b[0m \u001b[0mcookieData\u001b[0m \u001b[1;32min\u001b[0m \u001b[0mcookies\u001b[0m\u001b[1;33m:\u001b[0m\u001b[1;33m\u001b[0m\u001b[0m\n\u001b[0;32m      5\u001b[0m     \u001b[0mchromeDriver\u001b[0m\u001b[1;33m.\u001b[0m\u001b[0madd_cookie\u001b[0m\u001b[1;33m(\u001b[0m\u001b[0mcookieData\u001b[0m\u001b[1;33m)\u001b[0m\u001b[1;33m\u001b[0m\u001b[0m\n",
      "\u001b[1;32mC:\\ProgramData\\Anaconda3\\lib\\site-packages\\selenium\\webdriver\\remote\\webdriver.py\u001b[0m in \u001b[0;36mdelete_all_cookies\u001b[1;34m(self)\u001b[0m\n\u001b[0;32m    864\u001b[0m             \u001b[0mdriver\u001b[0m\u001b[1;33m.\u001b[0m\u001b[0mdelete_all_cookies\u001b[0m\u001b[1;33m(\u001b[0m\u001b[1;33m)\u001b[0m\u001b[1;33m\u001b[0m\u001b[0m\n\u001b[0;32m    865\u001b[0m         \"\"\"\n\u001b[1;32m--> 866\u001b[1;33m         \u001b[0mself\u001b[0m\u001b[1;33m.\u001b[0m\u001b[0mexecute\u001b[0m\u001b[1;33m(\u001b[0m\u001b[0mCommand\u001b[0m\u001b[1;33m.\u001b[0m\u001b[0mDELETE_ALL_COOKIES\u001b[0m\u001b[1;33m)\u001b[0m\u001b[1;33m\u001b[0m\u001b[0m\n\u001b[0m\u001b[0;32m    867\u001b[0m \u001b[1;33m\u001b[0m\u001b[0m\n\u001b[0;32m    868\u001b[0m     \u001b[1;32mdef\u001b[0m \u001b[0madd_cookie\u001b[0m\u001b[1;33m(\u001b[0m\u001b[0mself\u001b[0m\u001b[1;33m,\u001b[0m \u001b[0mcookie_dict\u001b[0m\u001b[1;33m)\u001b[0m\u001b[1;33m:\u001b[0m\u001b[1;33m\u001b[0m\u001b[0m\n",
      "\u001b[1;32mC:\\ProgramData\\Anaconda3\\lib\\site-packages\\selenium\\webdriver\\remote\\webdriver.py\u001b[0m in \u001b[0;36mexecute\u001b[1;34m(self, driver_command, params)\u001b[0m\n\u001b[0;32m    318\u001b[0m         \u001b[0mresponse\u001b[0m \u001b[1;33m=\u001b[0m \u001b[0mself\u001b[0m\u001b[1;33m.\u001b[0m\u001b[0mcommand_executor\u001b[0m\u001b[1;33m.\u001b[0m\u001b[0mexecute\u001b[0m\u001b[1;33m(\u001b[0m\u001b[0mdriver_command\u001b[0m\u001b[1;33m,\u001b[0m \u001b[0mparams\u001b[0m\u001b[1;33m)\u001b[0m\u001b[1;33m\u001b[0m\u001b[0m\n\u001b[0;32m    319\u001b[0m         \u001b[1;32mif\u001b[0m \u001b[0mresponse\u001b[0m\u001b[1;33m:\u001b[0m\u001b[1;33m\u001b[0m\u001b[0m\n\u001b[1;32m--> 320\u001b[1;33m             \u001b[0mself\u001b[0m\u001b[1;33m.\u001b[0m\u001b[0merror_handler\u001b[0m\u001b[1;33m.\u001b[0m\u001b[0mcheck_response\u001b[0m\u001b[1;33m(\u001b[0m\u001b[0mresponse\u001b[0m\u001b[1;33m)\u001b[0m\u001b[1;33m\u001b[0m\u001b[0m\n\u001b[0m\u001b[0;32m    321\u001b[0m             response['value'] = self._unwrap_value(\n\u001b[0;32m    322\u001b[0m                 response.get('value', None))\n",
      "\u001b[1;32mC:\\ProgramData\\Anaconda3\\lib\\site-packages\\selenium\\webdriver\\remote\\errorhandler.py\u001b[0m in \u001b[0;36mcheck_response\u001b[1;34m(self, response)\u001b[0m\n\u001b[0;32m    240\u001b[0m                 \u001b[0malert_text\u001b[0m \u001b[1;33m=\u001b[0m \u001b[0mvalue\u001b[0m\u001b[1;33m[\u001b[0m\u001b[1;34m'alert'\u001b[0m\u001b[1;33m]\u001b[0m\u001b[1;33m.\u001b[0m\u001b[0mget\u001b[0m\u001b[1;33m(\u001b[0m\u001b[1;34m'text'\u001b[0m\u001b[1;33m)\u001b[0m\u001b[1;33m\u001b[0m\u001b[0m\n\u001b[0;32m    241\u001b[0m             \u001b[1;32mraise\u001b[0m \u001b[0mexception_class\u001b[0m\u001b[1;33m(\u001b[0m\u001b[0mmessage\u001b[0m\u001b[1;33m,\u001b[0m \u001b[0mscreen\u001b[0m\u001b[1;33m,\u001b[0m \u001b[0mstacktrace\u001b[0m\u001b[1;33m,\u001b[0m \u001b[0malert_text\u001b[0m\u001b[1;33m)\u001b[0m\u001b[1;33m\u001b[0m\u001b[0m\n\u001b[1;32m--> 242\u001b[1;33m         \u001b[1;32mraise\u001b[0m \u001b[0mexception_class\u001b[0m\u001b[1;33m(\u001b[0m\u001b[0mmessage\u001b[0m\u001b[1;33m,\u001b[0m \u001b[0mscreen\u001b[0m\u001b[1;33m,\u001b[0m \u001b[0mstacktrace\u001b[0m\u001b[1;33m)\u001b[0m\u001b[1;33m\u001b[0m\u001b[0m\n\u001b[0m\u001b[0;32m    243\u001b[0m \u001b[1;33m\u001b[0m\u001b[0m\n\u001b[0;32m    244\u001b[0m     \u001b[1;32mdef\u001b[0m \u001b[0m_value_or_default\u001b[0m\u001b[1;33m(\u001b[0m\u001b[0mself\u001b[0m\u001b[1;33m,\u001b[0m \u001b[0mobj\u001b[0m\u001b[1;33m,\u001b[0m \u001b[0mkey\u001b[0m\u001b[1;33m,\u001b[0m \u001b[0mdefault\u001b[0m\u001b[1;33m)\u001b[0m\u001b[1;33m:\u001b[0m\u001b[1;33m\u001b[0m\u001b[0m\n",
      "\u001b[1;31mWebDriverException\u001b[0m: Message: chrome not reachable\n  (Session info: chrome=69.0.3497.100)\n  (Driver info: chromedriver=2.40.565498 (ea082db3280dd6843ebfb08a625e3eb905c4f5ab),platform=Windows NT 10.0.17134 x86_64)\n"
     ]
    }
   ],
   "source": [
    "我的cookies = [{'domain': '.shopee.tw', 'expiry': 2171255390.071453, 'httpOnly': True, 'name': 'SPC_EC', 'path': '/', 'secure': False, 'value': '\"07PSm4EiuR25rdOSHw74lcmQiv+uVkCGugRMgK+X8BAfr5nlTeRCdvKa3lWOEq0gO6LQ8wVUpVKO0djtR1p8HvtEZhwv7GWtzOzTMY9YGKPM7r6ypyrAWD018TfR4TvStgDpY0Hi8J4zyLw6BUWhTw==\"'}]\n",
    "#公司cookies = [{'domain': '.shopee.tw', 'expiry': 2171255390.071453, 'httpOnly': True, 'name': 'SPC_EC', 'path': '/', 'secure': False, 'value': '\"eAPfg5Oqwgqg5+SNotv9MLPXgwkCRBAALN9sJwBqB/0vutyStvJ4msxYaWVteOrQP86VFidHx6fEOC63bQO2eAMDOUkt7AczGfi92BlUylqgfq3OQd4LiH+i6PT3NJz2xX6aHrIduc1h3MckCq4V9w==\"'}]\n",
    "chromeDriver.delete_all_cookies()\n",
    "for cookieData in cookies:\n",
    "    chromeDriver.add_cookie(cookieData)\n",
    "#for row in chromeDriver.get_cookies():\n",
    "#chromeDriver.get('https://shopee.tw/')\n",
    "chromeDriver.refresh()\n",
    "for row in chromeDriver.get_cookies():\n",
    "    print(row)"
   ]
  },
  {
   "cell_type": "code",
   "execution_count": 136,
   "metadata": {},
   "outputs": [],
   "source": [
    "cookies = [{'domain': '.shopee.tw', 'expiry': 2171255390.071453, 'httpOnly': True, 'name': 'SPC_EC', 'path': '/', 'secure': True, 'value': '\"eAPfg5Oqwgqg5+SNotv9MLPXgwkCRBAALN9sJwBqB/0vutyStvJ4msxYaWVteOrQP86VFidHx6fEOC63bQO2eAMDOUkt7AczGfi92BlUylqgfq3OQd4LiH+i6PT3NJz2xX6aHrIduc1h3MckCq4V9w==\"'}]\n",
    "#chromeDriver.delete_cookie(\"_fbp\")\n",
    "#chromeDriver.delete_all_cookies()\n",
    "for cookieData in cookies:\n",
    "    chromeDriver.add_cookie(cookieData)\n",
    "#for row in chromeDriver.get_cookies():\n",
    "#    print(row)\n",
    "chromeDriver.refresh()\n"
   ]
  },
  {
   "cell_type": "code",
   "execution_count": 132,
   "metadata": {},
   "outputs": [],
   "source": [
    "chromeDriver.delete_all_cookies()\n",
    "chromeDriver.refresh()"
   ]
  },
  {
   "cell_type": "code",
   "execution_count": null,
   "metadata": {},
   "outputs": [],
   "source": []
  },
  {
   "cell_type": "code",
   "execution_count": null,
   "metadata": {},
   "outputs": [],
   "source": []
  },
  {
   "cell_type": "code",
   "execution_count": null,
   "metadata": {},
   "outputs": [],
   "source": []
  }
 ],
 "metadata": {
  "kernelspec": {
   "display_name": "Python 3",
   "language": "python",
   "name": "python3"
  },
  "language_info": {
   "codemirror_mode": {
    "name": "ipython",
    "version": 3
   },
   "file_extension": ".py",
   "mimetype": "text/x-python",
   "name": "python",
   "nbconvert_exporter": "python",
   "pygments_lexer": "ipython3",
   "version": "3.6.5"
  }
 },
 "nbformat": 4,
 "nbformat_minor": 2
}

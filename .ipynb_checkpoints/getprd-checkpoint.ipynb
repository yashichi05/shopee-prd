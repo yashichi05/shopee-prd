{
 "cells": [
  {
   "cell_type": "code",
   "execution_count": 87,
   "metadata": {},
   "outputs": [],
   "source": [
    "from bs4 import BeautifulSoup\n",
    "from selenium import webdriver\n",
    "from __future__ import print_function\n",
    "from googleapiclient.discovery import build\n",
    "from httplib2 import Http\n",
    "from oauth2client import file, client, tools\n",
    "import requests\n",
    "import json\n",
    "import time\n",
    "SCOPES = 'https://www.googleapis.com/auth/spreadsheets'\n",
    "chrome_options = webdriver.ChromeOptions() #新增chrome選項\n",
    "#chrome_options.add_argument('--headless') #隱藏GUI\n",
    "#chrome_options.add_argument('--disable-gpu')\n",
    "global browser\n",
    "browser = webdriver.Chrome('chromedriver.exe',chrome_options = chrome_options) \n",
    "OK = [] #完成的網頁放這邊\n",
    "\n",
    "resultdata = getsheet('商品ID!A:Q') #獲取試算表所有資料\n",
    "isodata = getsheet('庫存表!B:B')\n",
    "isodataAry = []\n",
    "for row in range(len(isodata)):\n",
    "    try:\n",
    "        isodataAry.append(isodata[row][0])\n",
    "    except:\n",
    "        isodataAry.append(isodata[row])\n",
    "\n",
    "#getyahoo(\"100443243712\")\n",
    "#getshopee(\"129680129\")\n",
    "#getruten(\"21738136998850\")\n",
    "#getpct(\"C1139763580\")\n",
    "#getpcd(\"C1142301095\")\n",
    "#getpcone(\"180126442661\")\n",
    "#browser.quit()"
   ]
  },
  {
   "cell_type": "code",
   "execution_count": null,
   "metadata": {},
   "outputs": [],
   "source": [
    "#讀去ID迴圈\n",
    "for row in range(1,len(resultdata)): #讀取蝦皮\n",
    "    prdiso = resultdata[row][0] #讀取ISO\n",
    "    webID = resultdata[row][8] #蝦皮\n",
    "    if webID and (OK.count(webID) == 0): #有網頁ID則執行且沒執行過的\n",
    "        OK.append(webID) #處理過的\n",
    "        gotdata = getshopee(webID) #取得資料\n",
    "\n"
   ]
  },
  {
   "cell_type": "code",
   "execution_count": null,
   "metadata": {},
   "outputs": [],
   "source": [
    "delsheet(\"'庫存表'!M:M\") #重製狀態欄\n",
    "datay = []\n",
    "datar = []\n",
    "datas = []\n",
    "datapt = []\n",
    "datapd = []\n",
    "datapcone = []\n",
    "for row in range(1,len(resultdata)):\n",
    "    datay.append(resultdata[row][4])\n",
    "    datar.append(resultdata[row][6])\n",
    "    datas.append(resultdata[row][8])\n",
    "    datapt.append(resultdata[row][10])\n",
    "    datapd.append(resultdata[row][12])\n",
    "    datapcone.append(resultdata[row][14])\n"
   ]
  },
  {
   "cell_type": "code",
   "execution_count": 115,
   "metadata": {},
   "outputs": [
    {
     "name": "stdout",
     "output_type": "stream",
     "text": [
      "{'spreadsheetId': '19ZXwhENPrLmLURoKO4xXoCDahpyMG5wuU_8xsU74kyI', 'updatedRange': \"'庫存表'!I1571\", 'updatedRows': 1, 'updatedColumns': 1, 'updatedCells': 1}\n"
     ]
    }
   ],
   "source": [
    "#讀取庫存及寫入\n",
    "gotdata = getshopee('423196640')\n",
    "if gotdata[0] == 0: #單一商品 \n",
    "    isorow = isodataAry.index(prdiso)+1 #搜尋ISO列數\n",
    "    writesheet(\"庫存表!I\"+str(isorow),[[gotdata[1][1]]])\n",
    "else:\n",
    "    writesheet(\"庫存表!I\"+str(isorow),[[gotdata[1][1]]])"
   ]
  },
  {
   "cell_type": "code",
   "execution_count": null,
   "metadata": {},
   "outputs": [],
   "source": [
    "def getyahoo(pid):\n",
    "    url = \"https://tw.bid.yahoo.com/item/\"+pid\n",
    "    my_headers = {'user-agent': 'Mozilla/5.0 (Windows NT 10.0; Win64; x64) AppleWebKit/537.36 (KHTML, like Gecko) Chrome/68.0.3440.106 Safari/537.36'}\n",
    "    gotrq = requests.get(url,headers = my_headers)\n",
    "    soup = BeautifulSoup(gotrq.text, \"html.parser\") #\"html.parser\" html解析器 將html 轉為bs4格式操作\n",
    "    #for item in soup.select(\".listing-title\"): #html 可以使用select 選擇想要的東西\n",
    "    #print(item.select(\"a\")[0].text)\n",
    "    gotjson = soup.select(\"#isoredux-data\")[0].get(\"data-state\") #get 取得屬性\n",
    "    load = json.loads(gotjson)  #轉成python dict\n",
    "\n",
    "    for i in range(len(load[\"item\"][\"models\"])): #提取ID\n",
    "        specnameID = str(load[\"item\"][\"models\"][i][\"specCombination\"]).split(\":\")\n",
    "        specname = str(load[\"item\"][\"specs\"][0]['options'][i]['name'])\n",
    "        if specnameID[1] == str(load[\"item\"][\"specs\"][0]['options'][i]['id']):\n",
    "            text = '驗證成功 '\n",
    "    \n",
    "        print(text+load[\"item\"][\"models\"][i][\"id\"]+\":\"+ str(load[\"item\"][\"models\"][i][\"qty\"])+\" \"+specname)\n",
    "    print(str(load[\"item\"][\"status\"])+\"   ● 2:上架,3:下架\")"
   ]
  },
  {
   "cell_type": "code",
   "execution_count": 100,
   "metadata": {},
   "outputs": [],
   "source": [
    "def getshopee(pid):\n",
    "    global browser\n",
    "    load = \"\" #重製\n",
    "    browser.get('https://shopee.tw/product/2019696/'+pid) \n",
    "    time.sleep(2) #第一次讀取會失敗 可能要加點選事件，或是觀看視窗的事件 資料可能放在dataLayer[5] #判斷4有無值，無值則layer[5]\n",
    "    browser.find_element_by_css_selector(\"input.shopee-button-outline\").click()\n",
    "    try:\n",
    "        browser.execute_script(\"return document.getElementsByClassName('shopee-product-info__header__title')[0].innerHTML = JSON.stringify(dataLayer[4].info.impressions[0].targetData.item)\")\n",
    "        if browser.find_element_by_class_name('shopee-product-info__header__title').text == 'undefined': #如果沒有值，則找layer5\n",
    "            print('ly5')\n",
    "            browser.execute_script(\"return document.getElementsByClassName('shopee-product-info__header__title')[0].innerHTML = JSON.stringify(dataLayer[5].info.impressions[0].targetData.item)\")\n",
    "        gotjson = browser.find_element_by_class_name('shopee-product-info__header__title').text #取得JSON\n",
    "        load = json.loads(gotjson)\n",
    "        if len(load['models']) == 0: #判斷有沒有款式\n",
    "            return [0,[pid,load['stock']]]\n",
    "        else:\n",
    "            modelAry  = [1]\n",
    "            for i in range(len(load['models'])):\n",
    "                modelAry.append([str(load['models'][i]['modelid']),str(load['models'][i]['stock']),str(load['models'][i]['name'])])\n",
    "            return modelAry\n",
    "                \n",
    "            \n",
    "    except:\n",
    "        print('...')\n"
   ]
  },
  {
   "cell_type": "code",
   "execution_count": null,
   "metadata": {},
   "outputs": [],
   "source": [
    "def getruten(pid):\n",
    "    url = \"https://goods.ruten.com.tw/item/show?\"+pid\n",
    "    my_headers = {'user-agent': 'Mozilla/5.0 (Windows NT 10.0; Win64; x64) AppleWebKit/537.36 (KHTML, like Gecko) Chrome/68.0.3440.106 Safari/537.36'}\n",
    "    gotrq = requests.get(url,headers = my_headers)\n",
    "    soup = BeautifulSoup(gotrq.text, \"html.parser\") #\"html.parser\" html解析器 將html 轉為bs4格式操作\n",
    "    strnum = soup.select('script[type=\"text/javascript\"]')[16].text.find(\"RT.context = \") #提取JSON資料 #find 找到RT.context的位址\n",
    "    gotjson = soup.select('script[type=\"text/javascript\"]')[16].text[strnum+len(\"RT.context = \"):-2]\n",
    "    load = json.loads(gotjson)  #轉成python dict\n",
    "    if 'spec_info' in load.keys(): #是否有款式\n",
    "        for k,v in load['spec_info']['specs'].items():#for 出dict 資料\n",
    "            print(k+':'+v['spec_num']+\" \"+v['spec_name'])\n",
    "    else:\n",
    "        print(load['remain_count'])\n",
    "    print(\"有上架嗎?\"+str(load['is_product_buyer']))"
   ]
  },
  {
   "cell_type": "code",
   "execution_count": null,
   "metadata": {},
   "outputs": [],
   "source": [
    "def getpct(pid):\n",
    "    url = \"http://seller.pcstore.com.tw/S188431702/\"+pid+\".htm\"\n",
    "    my_headers = {'user-agent': 'Mozilla/5.0 (Windows NT 10.0; Win64; x64) AppleWebKit/537.36 (KHTML, like Gecko) Chrome/68.0.3440.106 Safari/537.36'}\n",
    "    gotrq = requests.get(url,headers = my_headers)\n",
    "    soup = BeautifulSoup(gotrq.text, \"html.parser\") #\"html.parser\" html解析器 將html 轉為bs4格式操作\n",
    "    gotjson = soup.select('#specs')[0].text\n",
    "    load = json.loads(gotjson)\n",
    "\n",
    "    if type(load) == dict: #新上的都是字典檔\n",
    "        for k,v in load.items():\n",
    "            print(v['p_sseq']+\":\"+v['p_invt']+\" \"+v['p_spec'])\n",
    "    else:#舊的都是陣列\n",
    "        for i in range(len(load)):\n",
    "            print(load[i]['p_sseq']+\":\"+load[i]['p_invt']+\" \"+load[i]['p_spec'])"
   ]
  },
  {
   "cell_type": "code",
   "execution_count": null,
   "metadata": {},
   "outputs": [],
   "source": [
    "def getpcd(pid):\n",
    "    url = \"http://seller.pcstore.com.tw/S163498400/\"+pid+\".htm\"\n",
    "    my_headers = {'user-agent': 'Mozilla/5.0 (Windows NT 10.0; Win64; x64) AppleWebKit/537.36 (KHTML, like Gecko) Chrome/68.0.3440.106 Safari/537.36'}\n",
    "    gotrq = requests.get(url,headers = my_headers)\n",
    "    soup = BeautifulSoup(gotrq.text, \"html.parser\") #\"html.parser\" html解析器 將html 轉為bs4格式操作\n",
    "    gotjson = soup.select('#specs')[0].text\n",
    "    load = json.loads(gotjson)\n",
    "\n",
    "    if type(load) == dict: #新上的都是字典檔\n",
    "        for k,v in load.items():\n",
    "            print(v['p_sseq']+\":\"+v['p_invt']+\" \"+v['p_spec'])\n",
    "    else:#舊的都是陣列\n",
    "        for i in range(len(load)):\n",
    "            print(load[i]['p_sseq']+\":\"+load[i]['p_invt']+\" \"+load[i]['p_spec'])"
   ]
  },
  {
   "cell_type": "code",
   "execution_count": null,
   "metadata": {},
   "outputs": [],
   "source": [
    "def getpcone(pid):\n",
    "    url = \"https://www.pcone.com.tw/product/info/\"+pid\n",
    "    my_headers = {'user-agent': 'Mozilla/5.0 (Windows NT 10.0; Win64; x64) AppleWebKit/537.36 (KHTML, like Gecko) Chrome/68.0.3440.106 Safari/537.36'}\n",
    "    gotrq = requests.get(url,headers = my_headers)\n",
    "    soup = BeautifulSoup(gotrq.text, \"html.parser\") #\"html.parser\" html解析器 將html 轉為bs4格式操作\n",
    "    strnum = soup.select('script')[23].text.find(\"window._pc_p = \") #提取JSON資料\n",
    "    gotjson = soup.select('script')[23].text[strnum+len(\"window._pc_p = \"):-2]\n",
    "    load = json.loads(gotjson)  #轉成python dict\n",
    "\n",
    "    for i in range(len(load['volumes'])):\n",
    "        print(str(load['volumes'][i]['volume_id'])+\":\"+str(load['volumes'][i]['volume_remaining'])+\" \"+str(load['volumes'][i]['option']))\n",
    "\n"
   ]
  },
  {
   "cell_type": "code",
   "execution_count": null,
   "metadata": {},
   "outputs": [],
   "source": [
    "def getsheet(sheetrange):\n",
    "    \"\"\"Shows basic usage of the Sheets API.\n",
    "    Prints values from a sample spreadsheet.\n",
    "    \"\"\"\n",
    "    store = file.Storage('token.json')\n",
    "    creds = store.get()\n",
    "    if not creds or creds.invalid:\n",
    "        flow = client.flow_from_clientsecrets('credentials.json', SCOPES)\n",
    "        creds = tools.run_flow(flow, store)\n",
    "    service = build('sheets', 'v4', http=creds.authorize(Http()))\n",
    "\n",
    "    # Call the Sheets API\n",
    "    SPREADSHEET_ID = '19ZXwhENPrLmLURoKO4xXoCDahpyMG5wuU_8xsU74kyI'\n",
    "    RANGE_NAME = sheetrange\n",
    "    result = service.spreadsheets().values().get(spreadsheetId=SPREADSHEET_ID,\n",
    "                                                range=RANGE_NAME).execute()\n",
    "    values = result.get('values', [])\n",
    "    if not values:\n",
    "        print('No data found.')\n",
    "    else:\n",
    "        return values\n"
   ]
  },
  {
   "cell_type": "code",
   "execution_count": 102,
   "metadata": {},
   "outputs": [],
   "source": [
    "def writesheet(sheetrange,writeVal):\n",
    "    \"\"\"Shows basic usage of the Sheets API.\n",
    "    Prints values from a sample spreadsheet.\n",
    "    \"\"\"\n",
    "    store = file.Storage('token.json')\n",
    "    creds = store.get()\n",
    "    if not creds or creds.invalid:\n",
    "        flow = client.flow_from_clientsecrets('credentials.json', SCOPES)\n",
    "        creds = tools.run_flow(flow, store)\n",
    "    service = build('sheets', 'v4', http=creds.authorize(Http()))\n",
    "\n",
    "    # Call the Sheets API\n",
    "    SPREADSHEET_ID = '19ZXwhENPrLmLURoKO4xXoCDahpyMG5wuU_8xsU74kyI'\n",
    "    RANGE_NAME = sheetrange\n",
    "    values =[['=52+25']]\n",
    "    body = {'values': writeVal}\n",
    "    value_input_option = 'USER_ENTERED'\n",
    "    result = service.spreadsheets().values().update(spreadsheetId=SPREADSHEET_ID,range=RANGE_NAME,valueInputOption=value_input_option,body=body).execute()\n",
    "    print(result)"
   ]
  },
  {
   "cell_type": "code",
   "execution_count": null,
   "metadata": {},
   "outputs": [],
   "source": [
    "def delsheet(sheetrange):\n",
    "    \"\"\"Shows basic usage of the Sheets API.\n",
    "    Prints values from a sample spreadsheet.\n",
    "    \"\"\"\n",
    "    store = file.Storage('token.json')\n",
    "    creds = store.get()\n",
    "    if not creds or creds.invalid:\n",
    "        flow = client.flow_from_clientsecrets('credentials.json', SCOPES)\n",
    "        creds = tools.run_flow(flow, store)\n",
    "    service = build('sheets', 'v4', http=creds.authorize(Http()))\n",
    "\n",
    "    # Call the Sheets API\n",
    "    SPREADSHEET_ID = '19ZXwhENPrLmLURoKO4xXoCDahpyMG5wuU_8xsU74kyI'\n",
    "    RANGE_NAME = {'ranges' : [sheetrange]}\n",
    "    result = service.spreadsheets().values().batchClear(spreadsheetId=SPREADSHEET_ID,body=RANGE_NAME).execute()\n",
    "    print(result)"
   ]
  },
  {
   "cell_type": "code",
   "execution_count": 110,
   "metadata": {},
   "outputs": [
    {
     "data": {
      "text/plain": [
       "[]"
      ]
     },
     "execution_count": 110,
     "metadata": {},
     "output_type": "execute_result"
    }
   ],
   "source": [
    "isodata[5]"
   ]
  },
  {
   "cell_type": "code",
   "execution_count": null,
   "metadata": {},
   "outputs": [],
   "source": []
  }
 ],
 "metadata": {
  "kernelspec": {
   "display_name": "Python 3",
   "language": "python",
   "name": "python3"
  },
  "language_info": {
   "codemirror_mode": {
    "name": "ipython",
    "version": 3
   },
   "file_extension": ".py",
   "mimetype": "text/x-python",
   "name": "python",
   "nbconvert_exporter": "python",
   "pygments_lexer": "ipython3",
   "version": "3.6.5"
  }
 },
 "nbformat": 4,
 "nbformat_minor": 2
}

{
 "cells": [
  {
   "cell_type": "code",
   "execution_count": 1,
   "metadata": {},
   "outputs": [
    {
     "ename": "SyntaxError",
     "evalue": "invalid syntax (<ipython-input-1-b66341ba0ce8>, line 111)",
     "output_type": "error",
     "traceback": [
      "\u001b[1;36m  File \u001b[1;32m\"<ipython-input-1-b66341ba0ce8>\"\u001b[1;36m, line \u001b[1;32m111\u001b[0m\n\u001b[1;33m    iso_data = isodetect(ii['iso'])\u001b[0m\n\u001b[1;37m           ^\u001b[0m\n\u001b[1;31mSyntaxError\u001b[0m\u001b[1;31m:\u001b[0m invalid syntax\n"
     ]
    }
   ],
   "source": [
    "#蝦皮庫存表整理\n",
    "import xlrd\n",
    "import xlwt\n",
    "import re\n",
    "import time\n",
    "import requests\n",
    "from bs4 import BeautifulSoup\n",
    "import tkinter as tk\n",
    "import tkinter.filedialog as filedialog\n",
    "import os\n",
    "#時間\n",
    "def run():\n",
    "    today_str = time.strftime(\"%Y\",time.localtime())+\"/\"+str(int(time.strftime(\"%m\",time.localtime())))+\"/\"+str(int(time.strftime(\"%d\",time.localtime())))\n",
    "\n",
    "\n",
    "    #ISO 資料\n",
    "    url =  \"https://docs.google.com/spreadsheets/d/19ZXwhENPrLmLURoKO4xXoCDahpyMG5wuU_8xsU74kyI/gviz/tq?tqx=out:html&tq=select%20B,C,D&gid=0\"\n",
    "    gotrq = requests.get(url)\n",
    "    soup = BeautifulSoup(gotrq.text, \"html.parser\")\n",
    "    tr = soup.select(\"tr\")\n",
    "    global isoAry\n",
    "    isoAry = [] #獲取網站上的ISO 資料\n",
    "    for r in tr:    \n",
    "        try:\n",
    "            isoAry.append([r.td.text,r.td.next_sibling.text,r.td.next_sibling.next_sibling.text])\n",
    "        except:\n",
    "            print('notd')\n",
    "\n",
    "    #讀取XLS\n",
    "    xlrd.Book.encoding = \"utf8\" #设置编码\n",
    "    data = xlrd.open_workbook(filepath)\n",
    "    table1 = data.sheet_by_index(0) #取第一张工作簿\n",
    "    rows_count = table1.nrows #取总行数\n",
    "\n",
    "\n",
    "    #商品資訊 陣列\n",
    "    orderObj = []\n",
    "    for i in range(1,rows_count): #迴圈\n",
    "        orderObj.append({'note':\"\",'orderdate':\"\",'orderID':\"\",'name':\"\",'tel':\"\",'account':\"\",'shipPrice':\"\",'ship':\"\",'shipID':\"\",'orderPrice':\"\",'discount':\"\",'credit':\"\",'prds':[]})#新增新的物件\n",
    "        orderObj[i-1]['orderID'] = table1.cell_value(i,0) \n",
    "        orderObj[i-1]['orderdate'] = table1.cell_value(i,5) \n",
    "        orderObj[i-1]['name'] = table1.cell_value(i,20) \n",
    "        orderObj[i-1]['tel'] = table1.cell_value(i,21) \n",
    "        orderObj[i-1]['account'] = table1.cell_value(i,3) \n",
    "        orderObj[i-1]['shipPrice'] = table1.cell_value(i,7) \n",
    "        orderObj[i-1]['ship'] = table1.cell_value(i,22) \n",
    "        orderObj[i-1]['shipID'] = table1.cell_value(i,28) \n",
    "        orderObj[i-1]['orderPrice'] = table1.cell_value(i,8) \n",
    "        orderObj[i-1]['discount'] = table1.cell_value(i,11) \n",
    "        orderObj[i-1]['note'] = table1.cell_value(i,31)+\" , \"+table1.cell_value(i,32)\n",
    "        if table1.cell_value(i,25) == \"信用卡\":\n",
    "            orderObj[i-1]['credit'] = table1.cell_value(i,25) \n",
    "        text = table1.cell_value(i,12) \n",
    "        if text != '商品資訊':\n",
    "            text = text.replace(\"\t\",\"\") #去除tab 大空格\n",
    "            for ii in re.split(\"\\[[0-9][0-9]*\\]\",text): #分割\"[數字]\"資料\n",
    "                if ii: #如果ii有資料則輸出\n",
    "                    orgtext = ii.replace(\"\\n\",\"\").strip()\n",
    "                    orderObj[i-1]['prds'].append({'prdText':orgtext,'count':prdinfo(\"數量:\",orgtext),'price':prdinfo(\"價格: $\",orgtext),'iso':prdinfo('商品選項貨號:',orgtext)+prdinfo('主商品貨號:',orgtext)}) #放入prd陣列中，-1是因為i是從第二列開始\n",
    "            #折扣 新增一列折扣碼\n",
    "            if float(orderObj[i-1]['discount']):\n",
    "                orderObj[i-1]['prds'].append({'prdText':'折扣碼','count':\"1\",'price': float(orderObj[i-1]['discount'])*-1,'iso':\"折扣碼\"}) \n",
    "\n",
    "\n",
    "    #排序訂單\n",
    "    orderObj.sort(key=order_time,reverse=True)\n",
    "    orderObj.sort(key=order_ship)\n",
    "\n",
    "\n",
    "    #寫XLS\n",
    "    nwb = xlwt.Workbook()# 新增EXCEL\n",
    "    nsheet = nwb.add_sheet('google試算表格式')#新SHEET\n",
    "    nsheet.write(0,0,'日期')\n",
    "    nsheet.write(0,1,'訂單編號')\n",
    "    nsheet.write(0,2,'姓名')\n",
    "    nsheet.write(0,3,'電話')\n",
    "    nsheet.write(0,4,'帳號')\n",
    "    nsheet.write(0,5,'國際條碼')\n",
    "    nsheet.write(0,6,'產品名稱')\n",
    "    nsheet.write(0,7,'產品款式')\n",
    "    nsheet.write(0,8,'數量')\n",
    "    nsheet.write(0,9,'價格')\n",
    "    nsheet.write(0,10,'總價')\n",
    "    nsheet.write(0,11,'貨運')\n",
    "    nsheet.write(0,12,'運費')\n",
    "    nsheet.write(0,13,'發票')\n",
    "    nsheet.write(0,16,'信用卡')\n",
    "    nsheet.write(0,21,'折扣')\n",
    "    nsheet.write(0,22,'備註')\n",
    "    write_row = 1\n",
    "\n",
    "    for i in orderObj:\n",
    "        orderstart = 0\n",
    "        for ii in i['prds']:\n",
    "            orderstart += 1\n",
    "            if orderstart == 1:\n",
    "                nsheet.write(write_row,12,int(float(i['shipPrice'])))\n",
    "                nsheet.write(write_row,11,i['ship'])\n",
    "                nsheet.write(write_row,22,i['note'])\n",
    "                nsheet.write(write_row,13,int(float(i['orderPrice'])-float(i['discount'])))#扣掉折扣 這是訂單上的折扣(正)，非商品資訊內折扣(負號)\n",
    "                if i['credit'] == '信用卡':\n",
    "                    nsheet.write(write_row,16,i['credit'])\n",
    "                if float(i['discount']):\n",
    "                    nsheet.write(write_row,21,int(float(i['discount'])))\n",
    "            nsheet.write(write_row,0,today_str)\n",
    "            nsheet.write(write_row,1,i['orderID'])\n",
    "            nsheet.write(write_row,2,i['name']+i['shipID'][-3:])\n",
    "            nsheet.write(write_row,3,i['tel'])\n",
    "            nsheet.write(write_row,4,i['account'])\n",
    "            \n",
    "            #商品資料\n",
    "            iso_data = isodetect(ii['iso'])\n",
    "            if iso_data:\n",
    "                nsheet.write(write_row,5,iso_data[0]) #ISO\n",
    "                nsheet.write(write_row,6,iso_data[1]) #產品名\n",
    "                nsheet.write(write_row,7,iso_data[2]) #款式\n",
    "            else:\n",
    "                nsheet.write(write_row,6,ii['prdText'][6:ii['prdText'].find(\" 價格:\")])\n",
    "\n",
    "            ct = ii['count']\n",
    "            pe = ii['price']\n",
    "            nsheet.write(write_row,8,ct)\n",
    "            nsheet.write(write_row,9,int(float(pe)))\n",
    "            nsheet.write(write_row,10,int(float(ct)*float(pe)))\n",
    "\n",
    "            write_row += 1\n",
    "\n",
    "    nwb.save('result.xls')\n",
    "\n",
    "    \n"
   ]
  },
  {
   "cell_type": "code",
   "execution_count": 17,
   "metadata": {},
   "outputs": [],
   "source": [
    "\n",
    "\n",
    "\n"
   ]
  },
  {
   "cell_type": "code",
   "execution_count": 18,
   "metadata": {},
   "outputs": [],
   "source": []
  },
  {
   "cell_type": "code",
   "execution_count": 63,
   "metadata": {
    "scrolled": false
   },
   "outputs": [],
   "source": [
    "\n",
    "\n",
    "def order_time(ele): #排序的KEY\n",
    "    return ele['orderdate']\n",
    "def order_ship(ele):\n",
    "    return ele['ship']\n",
    "\n",
    "def prdinfo(findtitle,text): #分析商品資訊\n",
    "    prdtext = text.find(findtitle)#找到數量的位置\n",
    "    firstsplit = prdtext+len(findtitle)+text[prdtext+len(findtitle):len(text)].find(\";\") #找到數量之後第一個分號位置\n",
    "    \n",
    "    if prdtext == -1:\n",
    "        return \"\"\n",
    "    return text[prdtext+len(findtitle):firstsplit].strip().replace(\",\",\"\")#需要的片段\n",
    "def isodetect(iso):\n",
    "    a = 0\n",
    "    for i in isoAry:\n",
    "        a += 1\n",
    "        if i[0].find(iso) != -1:\n",
    "            if i[0] == \"\": #如果找到的ISO碼是空的 則返回FALSE\n",
    "                return False\n",
    "            return i\n",
    "        \n",
    "    return False\n",
    "def browser():\n",
    "    fname = filedialog.askopenfilename(initialdir= os.getcwd(),filetypes = ((\"Excel\",\"*.xls\"),(\"all files\",\"*.*\")))\n",
    "    global filepath\n",
    "    filepath =  fname  # 返回文件全路径\n",
    "    pathinput.delete('0',tk.END)\n",
    "    pathinput.insert(0,filepath)\n",
    "    \n",
    "gui=tk.Tk()\n",
    "gui.title(\"蝦皮出貨單\")\n",
    "gui.geometry(\"450x50\")\n",
    "pathinput = tk.Entry(width=50)\n",
    "pathinput.pack(side=\"left\")\n",
    "btn2 = tk.Button(gui, text =\"瀏覽\", command = browser)\n",
    "btn2.pack(side=\"left\")\n",
    "btn = tk.Button(gui, text =\"執行\", command = run)\n",
    "btn.pack(side=\"left\")\n",
    "gui.mainloop()\n"
   ]
  },
  {
   "cell_type": "code",
   "execution_count": 44,
   "metadata": {},
   "outputs": [
    {
     "data": {
      "text/plain": [
       "['', 'a', 'a', 'a', 'a', 'a', 'a', '']"
      ]
     },
     "execution_count": 44,
     "metadata": {},
     "output_type": "execute_result"
    }
   ],
   "source": [
    "text2 = \"[1]a[1]a[1]a[21]a[1]a[9]a[10]\"\n",
    "re.split(\"\\[[0-9][0-9]*\\]\",text2) #分割\"[數字]\"資料"
   ]
  },
  {
   "cell_type": "code",
   "execution_count": 58,
   "metadata": {},
   "outputs": [
    {
     "data": {
      "text/plain": [
       "'defgh'"
      ]
     },
     "execution_count": 58,
     "metadata": {},
     "output_type": "execute_result"
    }
   ],
   "source": [
    "ab = \"abcdefgh\"\n",
    "ab[3:]"
   ]
  },
  {
   "cell_type": "code",
   "execution_count": null,
   "metadata": {},
   "outputs": [],
   "source": []
  },
  {
   "cell_type": "code",
   "execution_count": null,
   "metadata": {},
   "outputs": [],
   "source": []
  }
 ],
 "metadata": {
  "kernelspec": {
   "display_name": "Python 3",
   "language": "python",
   "name": "python3"
  },
  "language_info": {
   "codemirror_mode": {
    "name": "ipython",
    "version": 3
   },
   "file_extension": ".py",
   "mimetype": "text/x-python",
   "name": "python",
   "nbconvert_exporter": "python",
   "pygments_lexer": "ipython3",
   "version": "3.6.5"
  }
 },
 "nbformat": 4,
 "nbformat_minor": 2
}

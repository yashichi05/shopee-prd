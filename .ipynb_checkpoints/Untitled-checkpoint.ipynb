{
 "cells": [
  {
   "cell_type": "code",
   "execution_count": null,
   "metadata": {},
   "outputs": [],
   "source": [
    "#yahoo 下架會正常\n",
    "pdid = \"100443243712\"\n",
    "from bs4 import BeautifulSoup\n",
    "import requests\n",
    "import json\n",
    "url = \"https://tw.bid.yahoo.com/item/\"+pdid\n",
    "my_headers = {'user-agent': 'Mozilla/5.0 (Windows NT 10.0; Win64; x64) AppleWebKit/537.36 (KHTML, like Gecko) Chrome/68.0.3440.106 Safari/537.36'}\n",
    "gotrq = requests.get(url,headers = my_headers)\n",
    "soup = BeautifulSoup(gotrq.text, \"html.parser\") #\"html.parser\" html解析器 將html 轉為bs4格式操作\n",
    "#for item in soup.select(\".listing-title\"): #html 可以使用select 選擇想要的東西\n",
    "    #print(item.select(\"a\")[0].text)\n",
    "gotjson = soup.select(\"#isoredux-data\")[0].get(\"data-state\") #get 取得屬性\n",
    "load = json.loads(gotjson)  #轉成python dict\n",
    "\n",
    "for i in range(len(load[\"item\"][\"models\"])): #提取ID\n",
    "    specnameID = str(load[\"item\"][\"models\"][i][\"specCombination\"]).split(\":\")\n",
    "    specname = str(load[\"item\"][\"specs\"][0]['options'][i]['name'])\n",
    "    if specnameID[1] == str(load[\"item\"][\"specs\"][0]['options'][i]['id']):\n",
    "        text = '驗證成功 '\n",
    "    \n",
    "    print(text+load[\"item\"][\"models\"][i][\"id\"]+\":\"+ str(load[\"item\"][\"models\"][i][\"qty\"])+\" \"+specname)\n",
    "print(str(load[\"item\"][\"status\"])+\"   ● 2:上架,3:下架\")"
   ]
  },
  {
   "cell_type": "code",
   "execution_count": 10,
   "metadata": {
    "scrolled": true
   },
   "outputs": [
    {
     "name": "stdout",
     "output_type": "stream",
     "text": [
      "344966001:64 玫瑰\n",
      "344966002:82 薄荷\n"
     ]
    }
   ],
   "source": [
    "#蝦皮 下架商品會是0\n",
    "pdid = \"446709984\"\n",
    "load = \"\" #重製\n",
    "from selenium import webdriver\n",
    "import time\n",
    "import json\n",
    "import requests\n",
    "import time\n",
    "\n",
    "chrome_options = webdriver.ChromeOptions() #新增chrome選項\n",
    "chrome_options.add_argument('--headless') #隱藏GUI\n",
    "chrome_options.add_argument('--disable-gpu')\n",
    "\n",
    "\n",
    "browser = webdriver.Chrome('chromedriver.exe',chrome_options = chrome_options) \n",
    "browser.get('https://shopee.tw/product/2019696/'+pdid) \n",
    "time.sleep(1) #第一次讀取會失敗 可能要加點選事件，或是觀看視窗的事件 資料可能放在dataLayer[5] #判斷4有無值，無值則layer[5]\n",
    "browser.find_element_by_css_selector(\"input.shopee-button-outline\").click()\n",
    "try:\n",
    "    browser.execute_script(\"return document.getElementById('main').innerHTML = JSON.stringify(dataLayer[4].info.impressions[0].targetData.item)\")\n",
    "    if browser.find_element_by_id('main').text == 'undefined': #如果沒有值，則找layer5\n",
    "        browser.execute_script(\"return document.getElementById('main').innerHTML = JSON.stringify(dataLayer[5].info.impressions[0].targetData.item)\")\n",
    "    gotjson = browser.find_element_by_id('main').text #取得JSON\n",
    "    load = json.loads(gotjson)\n",
    "    if len(load['models']) == 0: #判斷有沒有款式\n",
    "        print(load['stock'])\n",
    "    else:\n",
    "        for i in range(len(load['models'])):\n",
    "            print(str(load['models'][i]['modelid'])+\":\"+str(load['models'][i]['stock'])+\" \"+str(load['models'][i]['name']))    \n",
    "except:\n",
    "    print('...')\n",
    "finally:\n",
    "    browser.quit()"
   ]
  },
  {
   "cell_type": "code",
   "execution_count": null,
   "metadata": {},
   "outputs": [],
   "source": [
    "from bs4 import BeautifulSoup\n",
    "import requests\n",
    "import json\n",
    "url = \"https://shopee.tw/api/v1/item_detail/?item_id=30324026&shop_id=2019696\"\n",
    "my_headers = {'user-agent': 'Mozilla/5.0 (Windows NT 10.0; Win64; x64) AppleWebKit/537.36 (KHTML, like Gecko) Chrome/68.0.3440.106 Safari/537.36'}\n",
    "cookie = {'value': 'f6d90f8e-b763-11e8-9f87-b496912770ce'}\n",
    "gotrq = requests.get(url,headers = my_headers,cookies = cookie)\n",
    "api = json.loads(gotrq.text) #\"html.parser\" html解析器 將html 轉為bs4格式操作\n",
    "#for item in soup.select(\".listing-title\"): #html 可以使用select 選擇想要的東西\n",
    "    #print(item.select(\"a\")[0].text)\n",
    "print(gotrq.cookies)"
   ]
  },
  {
   "cell_type": "code",
   "execution_count": null,
   "metadata": {},
   "outputs": [],
   "source": [
    "#ruten #下架商品會正常\n",
    "pdid = \"21738136998850\"\n",
    "from bs4 import BeautifulSoup\n",
    "import requests\n",
    "import json\n",
    "url = \"https://goods.ruten.com.tw/item/show?\"+pdid\n",
    "my_headers = {'user-agent': 'Mozilla/5.0 (Windows NT 10.0; Win64; x64) AppleWebKit/537.36 (KHTML, like Gecko) Chrome/68.0.3440.106 Safari/537.36'}\n",
    "gotrq = requests.get(url,headers = my_headers)\n",
    "soup = BeautifulSoup(gotrq.text, \"html.parser\") #\"html.parser\" html解析器 將html 轉為bs4格式操作\n",
    "strnum = soup.select('script[type=\"text/javascript\"]')[16].text.find(\"RT.context = \") #提取JSON資料 #find 找到RT.context的位址\n",
    "gotjson = soup.select('script[type=\"text/javascript\"]')[16].text[strnum+len(\"RT.context = \"):-2]\n",
    "load = json.loads(gotjson)  #轉成python dict\n",
    "if 'spec_info' in load.keys(): #是否有款式\n",
    "    for k,v in load['spec_info']['specs'].items():#for 出dict 資料\n",
    "        print(k+':'+v['spec_num']+\" \"+v['spec_name'])\n",
    "else:\n",
    "    print(load['remain_count'])\n",
    "print(\"有上架嗎?\"+str(load['is_product_buyer']))\n"
   ]
  },
  {
   "cell_type": "code",
   "execution_count": null,
   "metadata": {},
   "outputs": [],
   "source": [
    "#PC \n",
    "pdid = \"C1163203776\"\n",
    "from bs4 import BeautifulSoup\n",
    "import requests\n",
    "import json\n",
    "url = \"http://seller.pcstore.com.tw/S188431702/\"+pdid+\".htm\"\n",
    "my_headers = {'user-agent': 'Mozilla/5.0 (Windows NT 10.0; Win64; x64) AppleWebKit/537.36 (KHTML, like Gecko) Chrome/68.0.3440.106 Safari/537.36'}\n",
    "gotrq = requests.get(url,headers = my_headers)\n",
    "soup = BeautifulSoup(gotrq.text, \"html.parser\") #\"html.parser\" html解析器 將html 轉為bs4格式操作\n",
    "gotjson = soup.select('#specs')[0].text\n",
    "load = json.loads(gotjson)\n",
    "\n",
    "if type(load) == dict: #新上的都是字典檔\n",
    "    for k,v in load.items():\n",
    "        print(v['p_sseq']+\":\"+v['p_invt']+\" \"+v['p_spec'])\n",
    "else:#舊的都是陣列\n",
    "    for i in range(len(load)):\n",
    "        print(load[i]['p_sseq']+\":\"+load[i]['p_invt']+\" \"+load[i]['p_spec'])"
   ]
  },
  {
   "cell_type": "code",
   "execution_count": null,
   "metadata": {},
   "outputs": [],
   "source": [
    "#PC 梓原 #下架會錯誤\n",
    "pdid = \"C1142301095\"\n",
    "from bs4 import BeautifulSoup\n",
    "import requests\n",
    "import json\n",
    "url = \"http://seller.pcstore.com.tw/S163498400/\"+pdid+\".htm\"\n",
    "my_headers = {'user-agent': 'Mozilla/5.0 (Windows NT 10.0; Win64; x64) AppleWebKit/537.36 (KHTML, like Gecko) Chrome/68.0.3440.106 Safari/537.36'}\n",
    "gotrq = requests.get(url,headers = my_headers)\n",
    "soup = BeautifulSoup(gotrq.text, \"html.parser\") #\"html.parser\" html解析器 將html 轉為bs4格式操作\n",
    "gotjson = soup.select('#specs')[0].text\n",
    "load = json.loads(gotjson)\n",
    "\n",
    "if type(load) == dict: #新上的都是字典檔\n",
    "    for k,v in load.items():\n",
    "        print(v['p_sseq']+\":\"+v['p_invt']+\" \"+v['p_spec'])\n",
    "else:#舊的都是陣列\n",
    "    for i in range(len(load)):\n",
    "        print(load[i]['p_sseq']+\":\"+load[i]['p_invt']+\" \"+load[i]['p_spec'])"
   ]
  },
  {
   "cell_type": "code",
   "execution_count": null,
   "metadata": {},
   "outputs": [],
   "source": [
    "#pcone #下架商品會錯誤\n",
    "pdid = \"180126442661\"\n",
    "from bs4 import BeautifulSoup\n",
    "import requests\n",
    "import json\n",
    "url = \"https://www.pcone.com.tw/product/info/\"+pdid\n",
    "my_headers = {'user-agent': 'Mozilla/5.0 (Windows NT 10.0; Win64; x64) AppleWebKit/537.36 (KHTML, like Gecko) Chrome/68.0.3440.106 Safari/537.36'}\n",
    "gotrq = requests.get(url,headers = my_headers)\n",
    "soup = BeautifulSoup(gotrq.text, \"html.parser\") #\"html.parser\" html解析器 將html 轉為bs4格式操作\n",
    "strnum = soup.select('script')[23].text.find(\"window._pc_p = \") #提取JSON資料\n",
    "gotjson = soup.select('script')[23].text[strnum+len(\"window._pc_p = \"):-2]\n",
    "load = json.loads(gotjson)  #轉成python dict\n",
    "\n",
    "for i in range(len(load['volumes'])):\n",
    "    print(str(load['volumes'][i]['volume_id'])+\":\"+str(load['volumes'][i]['volume_remaining'])+\" \"+str(load['volumes'][i]['option']))\n",
    "\n"
   ]
  },
  {
   "cell_type": "code",
   "execution_count": null,
   "metadata": {},
   "outputs": [],
   "source": [
    "#需要用主控台執行 才會跑出網頁認證\n",
    "from __future__ import print_function\n",
    "from googleapiclient.discovery import build\n",
    "from httplib2 import Http\n",
    "from oauth2client import file, client, tools\n",
    "\n",
    "# If modifying these scopes, delete the file token.json.\n",
    "SCOPES = 'https://www.googleapis.com/auth/spreadsheets.readonly'\n",
    "\n",
    "# The ID and range of a sample spreadsheet.\n",
    "SAMPLE_SPREADSHEET_ID = '1BxiMVs0XRA5nFMdKvBdBZjgmUUqptlbs74OgvE2upms'\n",
    "SAMPLE_RANGE_NAME = 'Class Data!A2:E'\n",
    "\n",
    "def main():\n",
    "    \"\"\"Shows basic usage of the Sheets API.\n",
    "    Prints values from a sample spreadsheet.\n",
    "    \"\"\"\n",
    "    store = file.Storage('token.json')\n",
    "    creds = store.get()\n",
    "    if not creds or creds.invalid:\n",
    "        flow = client.flow_from_clientsecrets('credentials.json', SCOPES)\n",
    "        creds = tools.run_flow(flow, store)\n",
    "    service = build('sheets', 'v4', http=creds.authorize(Http()))\n",
    "\n",
    "    # Call the Sheets API\n",
    "    SPREADSHEET_ID = '19ZXwhENPrLmLURoKO4xXoCDahpyMG5wuU_8xsU74kyI'\n",
    "    RANGE_NAME = '商品ID!A:A'\n",
    "    result = service.spreadsheets().values().get(spreadsheetId=SPREADSHEET_ID,\n",
    "                                                range=RANGE_NAME).execute()\n",
    "    values = result.get('values', [])\n",
    "\n",
    "    if not values:\n",
    "        print('No data found.')\n",
    "    else:\n",
    "        print(values[0])\n",
    "\n",
    "if __name__ == '__main__':\n",
    "    main()"
   ]
  },
  {
   "cell_type": "code",
   "execution_count": 5,
   "metadata": {},
   "outputs": [
    {
     "data": {
      "text/plain": [
       "'{\"size_chart\":\"\",\"is_cc_installment_payment_eligible\":false,\"show_official_shop_label_in_title\":false,\"free_return_day\":null,\"discount\":null,\"is_group_buy_item\":null,\"coin_spend_cash_unit\":100000,\"can_use_bundle_deal\":false,\"image_list\":[\"bd797db411d43ea2baf49bf7b0699d74\",\"9c668b3d8147eb8d3ca64932097943f5\",\"c8864b369b47f999b8cd1bdf5c1f4625\"],\"show_discount\":0,\"installment_plans\":null,\"show_shopee_verified_label\":true,\"is_full\":true,\"bundle_deal_info\":null,\"rcount_with_image\":0,\"welcome_package_info\":null,\"is_hot_sales\":null,\"is_adult\":null,\"preview_info\":null,\"group_buy_info\":null,\"coin_earn_items\":[],\"brand\":null,\"item_rating\":null,\"price\":13900000,\"is_category_failed\":false,\"show_official_shop_label_in_normal_position\":null,\"has_lowest_price_guarantee\":false,\"models\":[],\"is_installment_payment_eligible\":false,\"name\":\"※出清【瑕疵商品】熊野油脂 無矽靈 洗髮精salon link沙龍級修護 家庭號1000ml 日本製\",\"video_info_list\":null,\"price_before_discount\":0,\"offer_count\":0,\"flag\":458754,\"label_ids\":[],\"liked\":false,\"rating_count\":[1,0,0,0,0,1],\"price_max\":13900000,\"itemid\":314414939,\"is_non_cc_installment_payment_eligible\":false,\"shipping_icon_type\":0,\"price_max_before_discount\":0,\"welcome_package_type\":0,\"ctime\":1497953089,\"currency\":\"TWD\",\"hashtag_list\":[],\"shopid\":2019696,\"shopee_verified\":null,\"bundle_deal_id\":0,\"catid\":67,\"sub_catid\":1549,\"status\":1,\"sold\":0,\"recommendation_info\":null,\"rating_star\":5,\"cb_option\":0,\"is_official_shop\":false,\"view_count\":null,\"stock\":0,\"flash_sale\":null,\"attributes\":[{\"is_pending_qc\":true,\"idx\":0,\"value\":\"凝膠\",\"id\":7606,\"is_timestamp\":false,\"name\":\"質地\"},{\"is_pending_qc\":true,\"idx\":1,\"value\":\"熊野油脂\",\"id\":9496,\"is_timestamp\":false,\"name\":\"品牌\"},{\"is_pending_qc\":true,\"idx\":2,\"value\":\"標準\",\"id\":9335,\"is_timestamp\":false,\"name\":\"規格\"}],\"hidden_price_display\":null,\"service_by_shopee_flag\":0,\"can_use_wholesale\":false,\"rcount_with_context\":0,\"version\":\"2a7fa166fdaa82f85633316f219a5961\",\"images\":\"bd797db411d43ea2baf49bf7b0699d74,9c668b3d8147eb8d3ca64932097943f5,c8864b369b47f999b8cd1bdf5c1f4625\",\"has_group_buy_stock\":false,\"videos\":[],\"raw_discount\":null,\"upcoming_flash_sale\":null,\"third_catid\":8282,\"wholesale_tier_list\":[],\"cmt_count\":1,\"estimated_days\":7,\"condition\":1,\"image\":\"bd797db411d43ea2baf49bf7b0699d74\",\"coin_earn_label\":null,\"coin_info\":null,\"is_shopee_verified\":true,\"categories\":null,\"price_min\":13900000,\"description\":\"✨此商品因運送時遭貨運公司放至重物重壓，而壓頭有斷裂情形，並不影響容量多寡、使用功能哦！售出概不退換貨，完美主義者，請勿下標，謝謝✨\",\"is_pre_order\":true,\"liked_count\":0,\"show_official_shop_label\":false,\"tier_variations\":[],\"price_min_before_discount\":0,\"item_status\":\"sold_out\",\"show_free_shipping\":true}'"
      ]
     },
     "execution_count": 5,
     "metadata": {},
     "output_type": "execute_result"
    }
   ],
   "source": [
    "browser.execute_script(\"return document.getElementById('main').innerHTML = JSON.stringify(dataLayer[4].info.impressions[0].targetData.item)\")\n",
    "if browser.find_element_by_id('main').text == 'undefined':\n",
    "    browser.execute_script(\"return document.getElementById('main').innerHTML = JSON.stringify(dataLayer[5].info.impressions[0].targetData.item)\")\n",
    "\n",
    "browser.find_element_by_id('main').text"
   ]
  },
  {
   "cell_type": "code",
   "execution_count": null,
   "metadata": {},
   "outputs": [],
   "source": []
  },
  {
   "cell_type": "code",
   "execution_count": null,
   "metadata": {},
   "outputs": [],
   "source": []
  }
 ],
 "metadata": {
  "kernelspec": {
   "display_name": "Python 3",
   "language": "python",
   "name": "python3"
  },
  "language_info": {
   "codemirror_mode": {
    "name": "ipython",
    "version": 3
   },
   "file_extension": ".py",
   "mimetype": "text/x-python",
   "name": "python",
   "nbconvert_exporter": "python",
   "pygments_lexer": "ipython3",
   "version": "3.6.5"
  }
 },
 "nbformat": 4,
 "nbformat_minor": 2
}

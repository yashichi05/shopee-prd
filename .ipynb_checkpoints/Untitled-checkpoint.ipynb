{
 "cells": [
  {
   "cell_type": "code",
   "execution_count": 31,
   "metadata": {},
   "outputs": [
    {
     "name": "stdout",
     "output_type": "stream",
     "text": [
      "\n",
      "                                      日本進口【日本P&G;】 第三代 3D雙色洗衣膠球&補充包18個入 抗菌/淨白/柔軟 ☆綠光森林☆\n",
      "                                   \n",
      "\n",
      "                                      日本進口【日本P&G;】 第三代 3D雙色洗衣膠球&補充包18個入 抗菌/淨白/柔軟 ☆綠光森林☆\n",
      "                                   \n",
      "\n",
      "                                      德國製造 巧虎 兒童牙刷 6個月 2~4歲 6~12歲  ☆綠光森林☆\n",
      "                                   \n",
      "\n",
      "                                      日本限定 SHISEIDO 【資生堂】THE AMENITY ECO SOAP 泡泡洗顏皂 18g 發票☆綠光森林☆\n",
      "                                   \n",
      "\n",
      "                                      日本進口【日本P&G;】第三代香水香香豆 衣物芳香顆粒455ml／補充包 ☆綠光森林☆\n",
      "                                   \n",
      "\n",
      "                                      【免運價】 珪藻土 日本の技【HIRO】(L)日本製 地墊 除臭 吸水 浴室 廁所用 ☆綠光森林☆\n",
      "                                   \n",
      "\n",
      "                                      日本進口【P&G;】最新第三代3D【盒裝】18入洗衣膠球 ARIEL系列　雙色洗衣球 消臭/淨白 ☆綠光森林☆\n",
      "                                   \n",
      "\n",
      "                                      日本進口【日本P&G;】最新日本第三代3D洗衣膠球【盒裝】18入 Bold系列　雙色洗衣球含柔軟精  ☆綠光森林☆\n",
      "                                   \n",
      "\n",
      "                                      韓國No Brand紫心紅番薯洋芋片110g 紅薯洋芋片 紫色薯片 洋芋片 零食 ☆綠光森林☆\n",
      "                                   \n",
      "\n",
      "                                      日本進口【日本P&G;】第三代香香豆 衣物芳香顆粒455ml／補充包 ☆綠光森林☆\n",
      "                                   \n",
      "\n",
      "                                      日本進口 RENOVGO幼兒兒童液體 噴霧式牙膏 防蛀牙膏噴霧 日本齒科專用 氟噴霧 潔牙噴霧 口腔清潔\n",
      "                                   \n",
      "\n",
      "                                      日本不動化學 橘子水槽濾籃清潔球 排水口消臭錠 流理台 排水口 除菌 ☆綠光森林☆附發票 另售水管清潔錠\n",
      "                                   \n",
      "\n",
      "                                      日本進口 撈金魚玩具 不破網架 2支+ 金魚 20入 組合 洗澡玩具 撈魚網. ☆綠光森林☆\n",
      "                                   \n",
      "\n",
      "                                      德國製造 巧虎 兒童牙刷 6個月 2~4歲 6~12歲  ☆綠光森林☆\n",
      "                                   \n",
      "\n",
      "                                      日本P&G; 寶僑　最新3D立體雙色洗衣膠球 夾鍊袋裝44個入 淨白／藍色 消臭／綠色 牡丹花香／霧粉 白葉花香／霧藍 ☆\n",
      "                                   \n",
      "\n",
      "                                      杏仁果 韓國人氣零嘴 Tom's Gilim 蜂蜜奶油35g包 現貨 另售芥末 ☆綠光森林☆\n",
      "                                   \n",
      "\n",
      "                                      日本進口【日本P&G;】第三代香水香香豆　衣物芳香顆粒520ml 另售補充包 ☆綠光森林☆\n",
      "                                   \n",
      "\n",
      "                                      日本不動化學 綠茶洗衣槽清潔劑 100g 天然酵素強效洗淨清潔劑 ☆綠光森林☆\n",
      "                                   \n",
      "\n",
      "                                      橘子馬桶清潔劑 日本不動化學  洗淨 除菌 漂白 除臭 ☆綠光森林☆\n",
      "                                   \n",
      "\n",
      "                                      日本製【熊野油脂】salon link沙龍級 修護洗髮乳/潤絲精 無矽靈 1000ml   ☆綠光森林☆\n",
      "                                   \n",
      "\n",
      "                                      MUSE 日本進口 自動給皂 自動洗手機  可替換補充液 (綠茶/鮮柚/廚房) 附發票 ☆綠光森林☆\n",
      "                                   \n",
      "\n",
      "                                      日本製 白雪貴婦人 洗衣皂 廚房專用皂 洗碗皂150g 無香料 無色素 清潔皂\n",
      "                                   \n",
      "\n",
      "                                      日本原裝 Loshi 馬油 保濕乳液 485ml 身體乳霜 #102297歡迎團媽部落客團購現貨批發  ☆綠光森林☆\n",
      "                                   \n",
      "\n",
      "                                      橘子水管清潔錠 日本不動化學 洗淨 除菌 除臭 流理台 洗手台 馬桶 洗衣槽☆綠光森林☆\n",
      "                                   \n",
      "\n",
      "                                      日本製 SUNSTAR 巧虎兒童牙膏 葡萄 草莓 Akachan 阿卡將☆綠光森林☆\n",
      "                                   \n",
      "\n",
      "                                      日本製 MAMEITA 保溫瓶細縫清潔 保溫瓶蓋清潔組 刷具組 3支入☆綠光森林☆\n",
      "                                   \n",
      "\n",
      "                                      日本進口SKATER 直飲水壺專用防漏墊圈 水壺配件/替換零件/墊圈/防漏膠條PSB5SAN適用 480ml\n",
      "                                   \n",
      "\n",
      "                                      撈金魚玩具 補充網紙 兒童遊戲 玩具 替換網紙 (100入)日本進口☆綠光森林☆-附發票 另售重複式網架 金魚\n",
      "                                   \n",
      "\n",
      "                                      【SKATER】迪士尼系列（CARS/玩總/KT/公主/星際大戰）3~5歲 兒童牙刷 三支入☆綠光森林☆\n",
      "                                   \n",
      "\n",
      "                                      【小久保】鑽石鏡面擦拭海綿 鏡面刷 清潔海綿 玻璃 浴廁洗臉台 廚房流理台 污漬 水垢 日本製\n",
      "                                   \n",
      "\n",
      "                                      日本進口【MUSE】自動給皂機補充瓶2倍玻尿酸洗手液250ml 廚房去除異味／ 鮮柚／綠茶／除菌香皂香／水果香☆綠光森林\n",
      "                                   \n",
      "\n",
      "                                      【KAO花王】防縮護色洗衣精500ml玫瑰花香/綠草花香 冷洗精 羊毛專用 防皺 防變形 防褪色 精製衣物專用\n",
      "                                   \n",
      "\n",
      "                                      日本進口【P&G;】最新第三代3D【盒裝】18入洗衣膠球 ARIEL系列　雙色洗衣球 消臭/淨白 ☆綠光森林☆\n",
      "                                   \n",
      "\n",
      "                                      【第一石鹼】馬桶去污除菌洗劑殺菌除霉500ml-日本製\n",
      "                                   \n",
      "\n",
      "                                      密封米罐 【ASVEL】日本廚房收納罐 提把式米箱 米壺 米桶 2kg 【正貨】\n",
      "                                   \n",
      "\n",
      "                                      日本進口【NICHIBAN】印章萬用雙面膠 印章式 萬用連續式 可愛文具 ☆綠光森林☆\n",
      "                                   \n",
      "\n",
      "                                      日本不動化學 橘子去汙棒 衣領口 袖口 橘子油專用清潔劑☆綠光森林☆\n",
      "                                   \n",
      "\n",
      "                                      日本製 MAMEITA 保溫瓶細縫清潔 保溫瓶蓋清潔組 刷具組 3支入 #480789 ☆綠光森林☆\n",
      "                                   \n",
      "\n",
      "                                      日本不動化學 保溫瓶洗淨劑 保溫瓶清潔劑 洗淨 除菌☆綠光森林☆\n",
      "                                   \n",
      "\n",
      "                                      日本限定 SHISEIDO 【資生堂】 THE AMENITY ECO SOAP 泡泡沐浴皂 18g   ☆綠光森林☆\n",
      "                                   \n",
      "\n",
      "                                      【Dunlop】日本進口 機能家事橡膠手套 橡膠裏棉 洗碗手套 ☆綠光森林☆\n",
      "                                   \n",
      "\n",
      "                                      日本製 Elmie 去血污專用泡沫式洗劑 經血洗劑 敏感肌適用 女性生理期專用衣物洗劑  200ml-附發票☆綠光森林☆\n",
      "                                   \n",
      "\n",
      "                                      【Dunlop】日本進口 機能家事橡膠手套 橡膠裏棉 洗碗手套 ☆綠光森林☆\n",
      "                                   \n",
      "\n",
      "                                      無漂白咖啡濾紙 50入 原色 日本製 Kyowa協和 2~4杯用 咖啡濾紙☆綠光森林☆\n",
      "                                   \n",
      "\n",
      "                                      【鈴木油脂】除霉凝膠100g 矽立清除霉斑專用清潔劑 浴室廚房專用 日本製 ☆綠光森林☆\n",
      "                                   \n",
      "\n",
      "                                      【foot-medi】鞋用造型消臭除菌噴霧140ml 綠/粉 日本製 鞋子除臭 花香 無香料☆綠光森林☆-附發票\n",
      "                                   \n",
      "\n",
      "                                      【小久保】鑽石流理台刷 海綿 清潔 打掃 廁所浴室 水垢污漬 日本製 ☆綠光森林☆\n",
      "                                   \n",
      "\n",
      "                                      日本製造【LIFE CHEMICAL】無磷洗碗皂350g 家事皂 ☆綠光森林☆\n",
      "                                   \n",
      "\n",
      "                                      日本進口 撈金魚玩具 不破網架 2支+ 金魚 20入 組合 洗澡玩具 撈魚網 ☆綠光森林☆☆綠光森林☆\n",
      "                                   \n",
      "\n",
      "                                      整支最低價 山崎産業 浴室風呂 小海豹 浴室清潔刷+伸縮桿  抗菌加工 5色隨機出貨☆綠光森林☆\n",
      "                                   \n"
     ]
    }
   ],
   "source": [
    "from bs4 import BeautifulSoup\n",
    "import requests\n",
    "import json\n",
    "url = \"https://tw.bid.yahoo.com/tw/show/auctions?userID=Y3489416698\"\n",
    "my_headers = {'user-agent': 'Mozilla/5.0 (Windows NT 10.0; Win64; x64) AppleWebKit/537.36 (KHTML, like Gecko) Chrome/68.0.3440.106 Safari/537.36'}\n",
    "gotrq = requests.get(url,headers = my_headers)\n",
    "soup = BeautifulSoup(gotrq.text, \"html.parser\") #\"html.parser\" html解析器 將html 轉為bs4格式操作\n",
    "for item in soup.select(\".listing-title\"): #html 可以使用select 選擇想要的東西\n",
    "    print(item.select(\"a\")[0].text)\n",
    "\n"
   ]
  },
  {
   "cell_type": "code",
   "execution_count": 71,
   "metadata": {},
   "outputs": [
    {
     "name": "stdout",
     "output_type": "stream",
     "text": [
      "[{'domain': '.shopee.tw', 'expiry': 1597471928, 'httpOnly': False, 'name': '_ga', 'path': '/', 'secure': False, 'value': 'GA1.2.910226262.1534399921'}, {'domain': '.shopee.tw', 'expiry': 1534399981, 'httpOnly': False, 'name': '_gat', 'path': '/', 'secure': False, 'value': '1'}, {'domain': '.shopee.tw', 'expiry': 1534486328, 'httpOnly': False, 'name': '_gid', 'path': '/', 'secure': False, 'value': 'GA1.2.235874637.1534399921'}, {'domain': '.shopee.tw', 'expiry': 2165119922.85712, 'httpOnly': False, 'name': 'SPC_F', 'path': '/', 'secure': False, 'value': 'ZeV2PjX1r3z48zZm9Z9EAAztc7mwZjfs'}, {'domain': 'shopee.tw', 'httpOnly': False, 'name': 'csrftoken', 'path': '/', 'secure': False, 'value': 'HeGYjV6AQsQmXrZkGUlBN8xIK747rV1r'}, {'domain': '.shopee.tw', 'expiry': 2165119922.857098, 'httpOnly': True, 'name': 'SPC_EC', 'path': '/', 'secure': False, 'value': '-'}, {'domain': 'shopee.tw', 'expiry': 2165119922.857063, 'httpOnly': False, 'name': 'SPC_IA', 'path': '/', 'secure': False, 'value': '-1'}, {'domain': '.shopee.tw', 'expiry': 2165119922.857202, 'httpOnly': False, 'name': 'SPC_U', 'path': '/', 'secure': False, 'value': '-'}, {'domain': 'shopee.tw', 'expiry': 2165119922.857142, 'httpOnly': True, 'name': 'REC_T_ID', 'path': '/', 'secure': False, 'value': '4a6a1be8-a11b-11e8-9cc1-f8f21e1a2b70'}, {'domain': 'shopee.tw', 'expiry': 2165119922.85716, 'httpOnly': False, 'name': 'SPC_T_ID', 'path': '/', 'secure': False, 'value': '\"Em7+DBZPg4wY98oJRMhlMfvTtng4DGoaBZZOxKJmpUTSVR68+M3vFldHWJ1qG99P1/WctXlvqxwS68QDM3X1v1o0fbt08ALWqssHTfp9VnQ=\"'}, {'domain': 'shopee.tw', 'expiry': 2165119922.857219, 'httpOnly': False, 'name': 'SPC_T_IV', 'path': '/', 'secure': False, 'value': '\"8CPhe4b2qArd0NO/rIN3Ng==\"'}, {'domain': '.shopee.tw', 'expiry': 1534399988, 'httpOnly': False, 'name': '_gat_gtm', 'path': '/', 'secure': False, 'value': '1'}, {'domain': '.shopee.tw', 'expiry': 1534486329.427137, 'httpOnly': True, 'name': 'SPC_SI', 'path': '/', 'secure': True, 'value': 'jjhrl2ed6c1966yk154qqn09u7y2fh0k'}, {'domain': 'shopee.tw', 'expiry': 2398399924, 'httpOnly': False, 'name': '__BWfp', 'path': '/', 'secure': False, 'value': 'c1534399924194xfdbb58895'}, {'domain': '.shopee.tw', 'expiry': 1568563924, 'httpOnly': False, 'name': 'cto_lwid', 'path': '/', 'secure': False, 'value': '2c13826e-5e4c-4d26-9ac3-d67d32b52de2'}]\n"
     ]
    },
    {
     "data": {
      "text/plain": [
       "<bound method WebDriver.close of <selenium.webdriver.chrome.webdriver.WebDriver (session=\"38245d8a721bfa05bbe96126e92898cf\")>>"
      ]
     },
     "execution_count": 71,
     "metadata": {},
     "output_type": "execute_result"
    }
   ],
   "source": [
    "from selenium import webdriver\n",
    "import time\n",
    "import os\n",
    "import json\n",
    "import requests\n",
    "browser = webdriver.Chrome('chromedriver.exe') \n",
    "\n",
    "browser.get('https://shopee.tw/product/2019696/62726676/') \n",
    "browser.set_window_position(0,0) #瀏覽器位置\n",
    "time.sleep(5)\n",
    "print(browser.get_cookies())\n",
    "\n",
    "browser.close\n"
   ]
  },
  {
   "cell_type": "code",
   "execution_count": 5,
   "metadata": {},
   "outputs": [
    {
     "name": "stdout",
     "output_type": "stream",
     "text": [
      "[12747891, 56121377, 275338526, 145026582, 848617098, 433662324, 99144969, 718737446, 719664770, 153040405, 127514525, 62726676, 77602093, 617475065, 55520370, 792674056, 663440630, 139690974, 26113273, 719802455, 878994411, 83466576, 617390404, 471427707, 979493409, 1182652810, 125027043, 36297704, 341529325, 179415536, 309247068, 129023536, 836763608, 620921741, 75545444, 621963499, 129680129, 339943746, 599498873, 785156177, 140579804, 776071241, 721352164, 56119736, 115067894, 724636560, 350574103, 448722011, 25966395, 139511333, 775925178, 448926532, 1107526136, 724689551, 11933848, 406375879, 75427593, 339987960, 643967903, 92087660, 309268905, 41770368, 504763598, 408897267, 347557120, 96680222, 406354476, 820425135, 218630172, 99536399, 770016510, 1040054925, 235224531, 339917581, 20105173, 340043720, 455298332, 233831840, 663399432, 172392868, 785178607, 102225347, 340125561, 55529341, 340096277, 770250900, 309304071, 643914789, 30939287, 25961045, 138665211, 982482516, 905001582, 770605583, 112070507, 57932071, 13286535, 1241817609, 967561252, 339980054, 644018948, 85421893, 839526142, 439827425, 92709049, 448782336, 44803772, 617463129, 879444086, 92006266, 52193053, 43422340, 145040877, 1126005032, 31635602, 435852087, 11767372, 908048122, 339628285, 276856038, 1255391815, 916925559, 309326160, 179531113, 76013443, 916929045, 10433659, 1104889517, 179703197, 233876645, 724664609, 54691763, 721263193, 704129000, 349345925, 30032132, 224633237, 836719289, 772365245, 121816289, 78953127, 672638700, 644044146, 307705781, 704113327, 733719603, 1182687469, 1107176126, 809707292, 534970172, 12012873, 146240780, 119604864, 111241444, 94324794, 80344492, 218847965, 69263063, 1100885559, 723999184, 177980022, 42344258, 21050000, 809684543, 724275295, 670991187, 252463540, 112494376, 79042844, 34052658, 1015799637, 298279487, 87413660, 5534214, 1319208547, 340071611, 103642432, 1147620578, 225949400, 1039998592, 1274207688, 1028545893, 848606690, 770224891, 724613788, 672631567, 315684535, 94149523, 76040683, 35676656, 8818535, 341541965, 104237454, 126884716, 879022624, 489361477, 462942274, 448900401, 349389625, 226032247, 177761065, 107486216, 85505863, 75587140, 70392255, 55491091, 41349949, 16272230, 11279320, 126947586, 145062223, 84463559, 78956264, 448777864, 809721890, 83983709, 820444457, 339876774, 295483548, 144656478, 44107927, 1294386643, 1134201034, 980335758, 785144562, 724510982, 716032562, 621100473, 617398640, 341508974, 315668918, 235134655, 224404820, 106975836, 102392622, 97996065, 89030624, 75994599, 63843054, 57581404, 38384065, 26556540, 19099616, 17498177, 188325144, 125174833, 123654854, 104155495, 78964168, 23773371, 4341364, 139674263, 125171321, 87937967, 81230946, 1307067204, 1205798144, 1028350513, 902333668, 902322952, 809737083, 770380415, 663420787, 663412936, 644060694, 621253183, 617412224, 594752534, 439833090, 435792286, 418183977, 406367729, 406331980, 349286249, 339931769, 315680753, 278457482, 276910966, 146200769, 140591491, 140560554, 140545514, 130674371, 126921236, 126794955, 122485519, 107497903, 107028656, 106509155, 90937971, 89045183, 85026184, 83884246, 82246429, 81091768, 72277409, 61511496, 55869537, 52707511, 49060719, 46762257, 39558609, 33099458, 25364873, 10566907, 5232959, 75437809, 406399370, 339865897, 122469636, 110069510, 94328282, 92524130, 44181359, 13689333, 13678635, 12618604, 1359952119, 1356816744, 770190121, 1004456957, 848579064, 724536602, 622158378, 144070232, 126181376, 40112710, 12607896, 1417099263, 1399957717, 1210499938, 1100920141, 1063371012, 1028402591, 1008729777, 1008486671, 1004430284, 1004404230, 953187743, 916951731, 905157743, 823051728, 775642788, 770667841, 770660888, 769823059, 757272081, 740854627, 724007368, 722527556, 671003574, 651444367, 622142610, 621298979, 620832887, 603683420, 599715035, 502506852, 489346045, 484382606, 484344422, 480772303, 469005338, 467937086, 466284282, 453408914, 448760803, 445973902, 438378155, 423196640, 422706567, 418860182, 418193413, 408883130, 406345419, 404178158, 382222725, 377960350, 361586267, 341520855, 340115750, 340062227, 340051647, 340000432, 339964535, 339886095, 315722297, 315677176, 315660590, 314414939, 309289664, 306036017, 297228114, 293352276, 278607788, 277165982, 275434790, 274854050, 266259538, 266241428, 252585494, 235284023, 235277359, 209870395, 200187776, 191404805, 189844418, 189842540, 182476653, 179748836, 178191801, 178150080, 178078820, 173416034, 172294208, 170649529, 170580929, 163934190, 155767886, 145040477, 145019359, 144901007, 140599871, 140398067, 138733105, 130219478, 129807445, 129783814, 129661960, 129074831, 127591101, 126967051, 126956048, 125708866, 125113770, 125034322, 123617252, 123603531, 122867674, 121840194, 114958958, 112443865, 112038304, 111275130, 111194945, 108339140, 108128481, 106958712, 105965043, 103605652, 102869790, 102405095, 99609087, 95544105, 94924320, 94826552, 92544630, 92538486, 92066998, 89012327, 87920552, 87442481, 87428618, 87325104, 87311503, 87279713, 86899021, 84988921, 81101268, 78902595, 77595058, 77585877, 76032446, 76025437, 75865022, 75551975, 75550050, 74643697, 73139257, 71935030, 71927339, 70844588, 69253712, 68307876, 68302906, 65107927, 65105550, 65103209, 64259013, 64245163, 60331280, 60302878, 58896552, 58885863, 58870951, 58507566, 58067928, 57895610, 57557489, 57542792, 57514848, 56271176, 55826130, 51930342, 51726553, 46831090, 46070235, 45776555, 44843016, 44185917, 43718959, 43660237, 42427308, 42088231, 41366966, 41079436, 41060317, 40087844, 39822484, 39664985, 39601242, 38628844, 38074636, 35719444, 35659548, 34006742, 33409440, 31619777, 30970471, 29389552, 29242562, 28967505, 28959029, 27071448, 27063519, 26504731, 26001596, 23174556, 22761759, 21398696, 20392926, 20390390, 19150715, 19135553, 17493796, 16560086, 16237122, 16230163, 15764830, 15585350, 14432198, 13679173, 13678853, 13678379, 13292843, 13256043, 13136269, 12617336, 11936807, 11185789, 11183971, 10563819, 10430006, 8820360, 8815913, 6807038, 6804223, 5856557, 5855912, 5232533, 5232108]\n"
     ]
    }
   ],
   "source": [
    "import requests\n",
    "import json\n",
    "\n",
    "page = 0 #第幾筆\n",
    "prdid = [] #提取的商品ID\n",
    "\n",
    "#發送每頁的GET 迴圈\n",
    "while 1 != 2:\n",
    "    page = page +100\n",
    "    url = \"https://shopee.tw/api/v2/search_items/?by=pop&limit=100&match_id=2019696&newest=\"+ str(page) +\"&only_soldout=2&order=desc&page_type=shop\"\n",
    "    my_headers = {'user-agent': 'Mozilla/5.0 (Windows NT 10.0; Win64; x64) AppleWebKit/537.36 (KHTML, like Gecko) Chrome/68.0.3440.106 Safari/537.36'}\n",
    "    gotrq = requests.get(url,headers = my_headers)\n",
    "    loadjson = json.loads(gotrq.text) #將Json轉成可用dict\n",
    "    \n",
    "    #提取每個頁面的商品ID\n",
    "    for index in range(len(loadjson['items'])): \n",
    "        prdid.append(loadjson['items'][index]['itemid'])\n",
    "        \n",
    "    #如果到最後一頁跳出    \n",
    "    if len(loadjson['items']) < 100:\n",
    "        break\n",
    "\n",
    "\n",
    "    \n",
    "    \n",
    "print(prdid)\n"
   ]
  },
  {
   "cell_type": "code",
   "execution_count": 2,
   "metadata": {},
   "outputs": [
    {
     "name": "stdout",
     "output_type": "stream",
     "text": [
      "{'itemid': 146240780, 'coin_earn_items': [], 'bundle_deal_info': None, 'offer_count': 0, 'videos': [], 'bundle_deal_id': 0, 'preview_info': None, 'image': '0bd5c12c539582cc4720f9055212565e', 'coin_info': None, 'image_list': ['0bd5c12c539582cc4720f9055212565e', '2cef75d8f338d5a3bf49c38c0a6cdd34', '2daeed54edc82704d56f979e298bbf8d', '521a70edfb9c6ab20942261992645f36', 'c8864b369b47f999b8cd1bdf5c1f4625'], 'shopid': 2019696, 'can_use_wholesale': False, 'group_buy_info': None, 'currency': 'TWD', 'rating_star': 5.0, 'raw_discount': None, 'show_free_shipping': True, 'video_info_list': None, 'images': '0bd5c12c539582cc4720f9055212565e,2cef75d8f338d5a3bf49c38c0a6cdd34,2daeed54edc82704d56f979e298bbf8d,521a70edfb9c6ab20942261992645f36,c8864b369b47f999b8cd1bdf5c1f4625', 'installment_plans': None, 'price_before_discount': 0, 'is_category_failed': False, 'show_discount': 0, 'estimated_days': 3, 'price_max_before_discount': 0, 'view_count': None, 'is_shopee_verified': True, 'categories': None, 'catid': 73, 'free_return_day': None, 'upcoming_flash_sale': None, 'is_official_shop': False, 'price_min': 23000000, 'wholesale_tier_list': [], 'rating_count': [8, 0, 0, 0, 0, 8], 'liked_count': 10, 'can_use_bundle_deal': False, 'version': '82331be8b749656448b8e59e9691b9b7', 'show_official_shop_label': False, 'coin_earn_label': None, 'price_min_before_discount': 0, 'cb_option': 0, 'price': 23000000, 'is_hot_sales': None, 'stock': 18, 'status': 1, 'price_max': 23000000, 'is_group_buy_item': None, 'description': '◎毛髮清潔棒/2入，分清潔刷大小、清潔好用、排水管專用、清洗方便的好幫手 \\n◎能自在的沿著水管做彎曲，撈取卡在水管裡的毛髮\\n◎讓水管不因毛髮阻塞，有效降低細菌滋生保持乾淨\\n◎適用於廚房流理台、浴室洗手台、浴缸槽、排水管等\\n◎可依據個人所需使用的地方來選擇適合的尺寸\\n\\n❤ 進口：日本\\n❤ 產地：中國製\\n❤ 尺寸：軟式刷直徑1.2×長度67公分／硬質刷子直徑2×長度71公分\\n❤ 材質：聚丙烯、不銹鋼絲、聚氯乙烯樹脂、鋼、不銹鋼\\n\\n影片觀賞：https://youtu.be/E2uwbjn8sY4\\n\\n384653\\t【COGIT】排水管毛髮清潔棒2入', 'flash_sale': None, 'hashtag_list': [], 'models': [], 'is_cc_installment_payment_eligible': False, 'brand': '【COGIT】', 'item_rating': None, 'rcount_with_image': 0, 'tier_variations': [], 'is_adult': None, 'discount': None, 'flag': 196610, 'is_non_cc_installment_payment_eligible': False, 'has_lowest_price_guarantee': False, 'sold': 0, 'has_group_buy_stock': False, 'cmt_count': 8, 'sub_catid': 2182, 'condition': 1, 'name': '排水管毛髮 清潔棒 2入【COGIT】日本製 排水管清理器 清潔鉤', 'show_official_shop_label_in_title': False, 'is_pre_order': False, 'ctime': 1487237159, 'is_installment_payment_eligible': False, 'rcount_with_context': 2, 'liked': False, 'show_official_shop_label_in_normal_position': None, 'item_status': 'normal', 'shopee_verified': None, 'hidden_price_display': None, 'size_chart': '', 'third_catid': 5828, 'shipping_icon_type': 0, 'coin_spend_cash_unit': 100000, 'attributes': [{'is_pending_qc': False, 'idx': 0, 'value': '自有品牌', 'id': 1365, 'is_timestamp': False, 'name': '品牌'}], 'service_by_shopee_flag': 0, 'show_shopee_verified_label': True}\n"
     ]
    }
   ],
   "source": [
    "prdid2 = '146240780'\n",
    "url = \"https://shopee.tw/api/v1/item_detail/?item_id=\"+prdid2+\"&shop_id=2019696\"\n",
    "my_headers = {'user-agent': 'Mozilla/5.0 (Windows NT 10.0; Win64; x64) AppleWebKit/537.36 (KHTML, like Gecko) Chrome/68.0.3440.106 Safari/537.36',\n",
    "             'referer': 'https://shopee.tw/product/2019696/'+prdid2+'/'}\n",
    "my_cookies = {}\n",
    "\n",
    "gotrq = requests.get(url,headers = my_headers,cookies = my_cookies)\n",
    "loadjson = json.loads(gotrq.text) #將Json轉成可用dict\n",
    "#if (loadjson['models']):\n",
    "print(loadjson)\n"
   ]
  },
  {
   "cell_type": "code",
   "execution_count": 82,
   "metadata": {},
   "outputs": [
    {
     "ename": "SyntaxError",
     "evalue": "keyword can't be an expression (<ipython-input-82-cdbb2ad42cc9>, line 2)",
     "output_type": "error",
     "traceback": [
      "\u001b[1;36m  File \u001b[1;32m\"<ipython-input-82-cdbb2ad42cc9>\"\u001b[1;36m, line \u001b[1;32m2\u001b[0m\n\u001b[1;33m    jar.set('_ga'='GA1.2.1222824303.1530583395')\u001b[0m\n\u001b[1;37m           ^\u001b[0m\n\u001b[1;31mSyntaxError\u001b[0m\u001b[1;31m:\u001b[0m keyword can't be an expression\n"
     ]
    }
   ],
   "source": [
    "jar = requests.cookies.RequestsCookieJar()\n",
    "jar.set('_ga'='GA1.2.1222824303.1530583395')\n",
    "print(jar)"
   ]
  },
  {
   "cell_type": "code",
   "execution_count": null,
   "metadata": {},
   "outputs": [],
   "source": []
  },
  {
   "cell_type": "code",
   "execution_count": null,
   "metadata": {},
   "outputs": [],
   "source": []
  },
  {
   "cell_type": "code",
   "execution_count": null,
   "metadata": {},
   "outputs": [],
   "source": []
  }
 ],
 "metadata": {
  "kernelspec": {
   "display_name": "Python 3",
   "language": "python",
   "name": "python3"
  },
  "language_info": {
   "codemirror_mode": {
    "name": "ipython",
    "version": 3
   },
   "file_extension": ".py",
   "mimetype": "text/x-python",
   "name": "python",
   "nbconvert_exporter": "python",
   "pygments_lexer": "ipython3",
   "version": "3.6.4"
  }
 },
 "nbformat": 4,
 "nbformat_minor": 2
}

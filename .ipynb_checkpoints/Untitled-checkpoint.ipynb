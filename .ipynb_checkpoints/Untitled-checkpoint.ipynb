{
 "cells": [
  {
   "cell_type": "code",
   "execution_count": 53,
   "metadata": {},
   "outputs": [
    {
     "name": "stdout",
     "output_type": "stream",
     "text": [
      "驗證成功 887727948:17 Kitty\n",
      "驗證成功 887727949:15 巧虎\n",
      "驗證成功 887727950:0 冰雪奇緣\n",
      "驗證成功 887727951:0 多美車\n",
      "驗證成功 887727952:0 長髮公主\n",
      "驗證成功 887727953:0 美人魚公主\n",
      "驗證成功 887727954:0 美女與野獸\n",
      "驗證成功 887727955:3 美樂蒂\n",
      "驗證成功 887727956:0 迪士尼公主\n",
      "驗證成功 887727957:0 閃電麥坤\n",
      "驗證成功 887727958:0 精靈寶可夢\n",
      "3   ● 2:上架,3:下架\n"
     ]
    }
   ],
   "source": [
    "#yahoo 下架會正常\n",
    "pdid = \"100443243712\"\n",
    "from bs4 import BeautifulSoup\n",
    "import requests\n",
    "import json\n",
    "url = \"https://tw.bid.yahoo.com/item/\"+pdid\n",
    "my_headers = {'user-agent': 'Mozilla/5.0 (Windows NT 10.0; Win64; x64) AppleWebKit/537.36 (KHTML, like Gecko) Chrome/68.0.3440.106 Safari/537.36'}\n",
    "gotrq = requests.get(url,headers = my_headers)\n",
    "soup = BeautifulSoup(gotrq.text, \"html.parser\") #\"html.parser\" html解析器 將html 轉為bs4格式操作\n",
    "#for item in soup.select(\".listing-title\"): #html 可以使用select 選擇想要的東西\n",
    "    #print(item.select(\"a\")[0].text)\n",
    "gotjson = soup.select(\"#isoredux-data\")[0].get(\"data-state\") #get 取得屬性\n",
    "load = json.loads(gotjson)  #轉成python dict\n",
    "\n",
    "for i in range(len(load[\"item\"][\"models\"])): #提取ID\n",
    "    specnameID = str(load[\"item\"][\"models\"][i][\"specCombination\"]).split(\":\")\n",
    "    specname = str(load[\"item\"][\"specs\"][0]['options'][i]['name'])\n",
    "    if specnameID[1] == str(load[\"item\"][\"specs\"][0]['options'][i]['id']):\n",
    "        text = '驗證成功 '\n",
    "    \n",
    "    print(text+load[\"item\"][\"models\"][i][\"id\"]+\":\"+ str(load[\"item\"][\"models\"][i][\"qty\"])+\" \"+specname)\n",
    "print(str(load[\"item\"][\"status\"])+\"   ● 2:上架,3:下架\")"
   ]
  },
  {
   "cell_type": "code",
   "execution_count": null,
   "metadata": {},
   "outputs": [],
   "source": [
    "from selenium import webdriver\n",
    "import time\n",
    "import json\n",
    "import requests\n",
    "\n",
    "\n",
    "#https://shopee.tw/api/v1/item_detail/?item_id=724636560&shop_id=2019696\n",
    "browser = webdriver.Chrome('chromedriver.exe') \n",
    "browser.get('https://shopee.tw/product/2019696/30324026/') \n",
    "#print(browser.execute_script(\"return document\"))\n",
    "#soup = BeautifulSoup(browser.execute_script(\"return document.documentElement.innerHTML\"), \"html.parser\")\n",
    "#timings = browser.execute_script(\"return window.performance.getEntries();\")\n",
    "browser.manage().logs().get(LogType.PERFORMANCE).getAll()\n",
    "\n",
    "#print(soup.select(\".shopee-page-wrapper\"))\n",
    "#print(getHttpResponseHeader(browser))\n",
    "\n",
    "browser.quit()\n"
   ]
  },
  {
   "cell_type": "code",
   "execution_count": null,
   "metadata": {},
   "outputs": [],
   "source": [
    "import json\n",
    "from selenium import webdriver\n",
    "from selenium.webdriver.common.desired_capabilities import DesiredCapabilities\n",
    "\n",
    "caps = DesiredCapabilities.CHROME\n",
    "caps['loggingPrefs'] = {'performance': 'ALL'}\n",
    "driver = webdriver.Chrome(desired_capabilities=caps)\n",
    "\n",
    "driver.get('https://shopee.tw/product/2019696/30324026/')\n",
    "\n",
    "logs = [json.loads(log['message'])['message'] for log in driver.get_log('performance')]\n",
    "\n",
    "print(logs)\n",
    "driver.close()\n"
   ]
  },
  {
   "cell_type": "code",
   "execution_count": 43,
   "metadata": {},
   "outputs": [
    {
     "name": "stdout",
     "output_type": "stream",
     "text": [
      "173800496412106:0 紫色&寶石莓果香\n",
      "173800496412117:46 紅色&鑽石花香\n",
      "173800496412128:0 綠色&翡翠微風香\n",
      "有上架嗎?False\n"
     ]
    }
   ],
   "source": [
    "#ruten #下架商品會正常\n",
    "pdid = \"21738136998850\"\n",
    "from bs4 import BeautifulSoup\n",
    "import requests\n",
    "import json\n",
    "url = \"https://goods.ruten.com.tw/item/show?\"+pdid\n",
    "my_headers = {'user-agent': 'Mozilla/5.0 (Windows NT 10.0; Win64; x64) AppleWebKit/537.36 (KHTML, like Gecko) Chrome/68.0.3440.106 Safari/537.36'}\n",
    "gotrq = requests.get(url,headers = my_headers)\n",
    "soup = BeautifulSoup(gotrq.text, \"html.parser\") #\"html.parser\" html解析器 將html 轉為bs4格式操作\n",
    "strnum = soup.select('script[type=\"text/javascript\"]')[16].text.find(\"RT.context = \") #提取JSON資料 #find 找到RT.context的位址\n",
    "gotjson = soup.select('script[type=\"text/javascript\"]')[16].text[strnum+len(\"RT.context = \"):-2]\n",
    "load = json.loads(gotjson)  #轉成python dict\n",
    "if 'spec_info' in load.keys(): #是否有款式\n",
    "    for k,v in load['spec_info']['specs'].items():#for 出dict 資料\n",
    "        print(k+':'+v['spec_num']+\" \"+v['spec_name'])\n",
    "else:\n",
    "    print(load['remain_count'])\n",
    "print(\"有上架嗎?\"+str(load['is_product_buyer']))\n"
   ]
  },
  {
   "cell_type": "code",
   "execution_count": 7,
   "metadata": {},
   "outputs": [
    {
     "name": "stdout",
     "output_type": "stream",
     "text": [
      "0:0 紫色\n",
      "1:20 紅色\n",
      "2:0 綠色\n"
     ]
    }
   ],
   "source": [
    "#PC \n",
    "pdid = \"C1163203776\"\n",
    "from bs4 import BeautifulSoup\n",
    "import requests\n",
    "import json\n",
    "url = \"http://seller.pcstore.com.tw/S188431702/\"+pdid+\".htm\"\n",
    "my_headers = {'user-agent': 'Mozilla/5.0 (Windows NT 10.0; Win64; x64) AppleWebKit/537.36 (KHTML, like Gecko) Chrome/68.0.3440.106 Safari/537.36'}\n",
    "gotrq = requests.get(url,headers = my_headers)\n",
    "soup = BeautifulSoup(gotrq.text, \"html.parser\") #\"html.parser\" html解析器 將html 轉為bs4格式操作\n",
    "gotjson = soup.select('#specs')[0].text\n",
    "load = json.loads(gotjson)\n",
    "\n",
    "if type(load) == dict: #新上的都是字典檔\n",
    "    for k,v in load.items():\n",
    "        print(v['p_sseq']+\":\"+v['p_invt']+\" \"+v['p_spec'])\n",
    "else:#舊的都是陣列\n",
    "    for i in range(len(load)):\n",
    "        print(load[i]['p_sseq']+\":\"+load[i]['p_invt']+\" \"+load[i]['p_spec'])"
   ]
  },
  {
   "cell_type": "code",
   "execution_count": 35,
   "metadata": {},
   "outputs": [
    {
     "name": "stdout",
     "output_type": "stream",
     "text": [
      "0:87 \n"
     ]
    }
   ],
   "source": [
    "#PC 梓原 #下架會錯誤\n",
    "pdid = \"C1142301095\"\n",
    "from bs4 import BeautifulSoup\n",
    "import requests\n",
    "import json\n",
    "url = \"http://seller.pcstore.com.tw/S163498400/\"+pdid+\".htm\"\n",
    "my_headers = {'user-agent': 'Mozilla/5.0 (Windows NT 10.0; Win64; x64) AppleWebKit/537.36 (KHTML, like Gecko) Chrome/68.0.3440.106 Safari/537.36'}\n",
    "gotrq = requests.get(url,headers = my_headers)\n",
    "soup = BeautifulSoup(gotrq.text, \"html.parser\") #\"html.parser\" html解析器 將html 轉為bs4格式操作\n",
    "gotjson = soup.select('#specs')[0].text\n",
    "load = json.loads(gotjson)\n",
    "\n",
    "if type(load) == dict: #新上的都是字典檔\n",
    "    for k,v in load.items():\n",
    "        print(v['p_sseq']+\":\"+v['p_invt']+\" \"+v['p_spec'])\n",
    "else:#舊的都是陣列\n",
    "    for i in range(len(load)):\n",
    "        print(load[i]['p_sseq']+\":\"+load[i]['p_invt']+\" \"+load[i]['p_spec'])"
   ]
  },
  {
   "cell_type": "code",
   "execution_count": 54,
   "metadata": {},
   "outputs": [
    {
     "ename": "JSONDecodeError",
     "evalue": "Expecting value: line 1 column 1 (char 0)",
     "output_type": "error",
     "traceback": [
      "\u001b[1;31m---------------------------------------------------------------------------\u001b[0m",
      "\u001b[1;31mJSONDecodeError\u001b[0m                           Traceback (most recent call last)",
      "\u001b[1;32m<ipython-input-54-16bb730a2b8b>\u001b[0m in \u001b[0;36m<module>\u001b[1;34m()\u001b[0m\n\u001b[0;32m     10\u001b[0m \u001b[0mstrnum\u001b[0m \u001b[1;33m=\u001b[0m \u001b[0msoup\u001b[0m\u001b[1;33m.\u001b[0m\u001b[0mselect\u001b[0m\u001b[1;33m(\u001b[0m\u001b[1;34m'script'\u001b[0m\u001b[1;33m)\u001b[0m\u001b[1;33m[\u001b[0m\u001b[1;36m23\u001b[0m\u001b[1;33m]\u001b[0m\u001b[1;33m.\u001b[0m\u001b[0mtext\u001b[0m\u001b[1;33m.\u001b[0m\u001b[0mfind\u001b[0m\u001b[1;33m(\u001b[0m\u001b[1;34m\"window._pc_p = \"\u001b[0m\u001b[1;33m)\u001b[0m \u001b[1;31m#提取JSON資料\u001b[0m\u001b[1;33m\u001b[0m\u001b[0m\n\u001b[0;32m     11\u001b[0m \u001b[0mgotjson\u001b[0m \u001b[1;33m=\u001b[0m \u001b[0msoup\u001b[0m\u001b[1;33m.\u001b[0m\u001b[0mselect\u001b[0m\u001b[1;33m(\u001b[0m\u001b[1;34m'script'\u001b[0m\u001b[1;33m)\u001b[0m\u001b[1;33m[\u001b[0m\u001b[1;36m23\u001b[0m\u001b[1;33m]\u001b[0m\u001b[1;33m.\u001b[0m\u001b[0mtext\u001b[0m\u001b[1;33m[\u001b[0m\u001b[0mstrnum\u001b[0m\u001b[1;33m+\u001b[0m\u001b[0mlen\u001b[0m\u001b[1;33m(\u001b[0m\u001b[1;34m\"window._pc_p = \"\u001b[0m\u001b[1;33m)\u001b[0m\u001b[1;33m:\u001b[0m\u001b[1;33m-\u001b[0m\u001b[1;36m2\u001b[0m\u001b[1;33m]\u001b[0m\u001b[1;33m\u001b[0m\u001b[0m\n\u001b[1;32m---> 12\u001b[1;33m \u001b[0mload\u001b[0m \u001b[1;33m=\u001b[0m \u001b[0mjson\u001b[0m\u001b[1;33m.\u001b[0m\u001b[0mloads\u001b[0m\u001b[1;33m(\u001b[0m\u001b[0mgotjson\u001b[0m\u001b[1;33m)\u001b[0m  \u001b[1;31m#轉成python dict\u001b[0m\u001b[1;33m\u001b[0m\u001b[0m\n\u001b[0m\u001b[0;32m     13\u001b[0m \u001b[1;33m\u001b[0m\u001b[0m\n\u001b[0;32m     14\u001b[0m \u001b[1;32mfor\u001b[0m \u001b[0mi\u001b[0m \u001b[1;32min\u001b[0m \u001b[0mrange\u001b[0m\u001b[1;33m(\u001b[0m\u001b[0mlen\u001b[0m\u001b[1;33m(\u001b[0m\u001b[0mload\u001b[0m\u001b[1;33m[\u001b[0m\u001b[1;34m'volumes'\u001b[0m\u001b[1;33m]\u001b[0m\u001b[1;33m)\u001b[0m\u001b[1;33m)\u001b[0m\u001b[1;33m:\u001b[0m\u001b[1;33m\u001b[0m\u001b[0m\n",
      "\u001b[1;32mC:\\ProgramData\\Anaconda3\\lib\\json\\__init__.py\u001b[0m in \u001b[0;36mloads\u001b[1;34m(s, encoding, cls, object_hook, parse_float, parse_int, parse_constant, object_pairs_hook, **kw)\u001b[0m\n\u001b[0;32m    352\u001b[0m             \u001b[0mparse_int\u001b[0m \u001b[1;32mis\u001b[0m \u001b[1;32mNone\u001b[0m \u001b[1;32mand\u001b[0m \u001b[0mparse_float\u001b[0m \u001b[1;32mis\u001b[0m \u001b[1;32mNone\u001b[0m \u001b[1;32mand\u001b[0m\u001b[1;33m\u001b[0m\u001b[0m\n\u001b[0;32m    353\u001b[0m             parse_constant is None and object_pairs_hook is None and not kw):\n\u001b[1;32m--> 354\u001b[1;33m         \u001b[1;32mreturn\u001b[0m \u001b[0m_default_decoder\u001b[0m\u001b[1;33m.\u001b[0m\u001b[0mdecode\u001b[0m\u001b[1;33m(\u001b[0m\u001b[0ms\u001b[0m\u001b[1;33m)\u001b[0m\u001b[1;33m\u001b[0m\u001b[0m\n\u001b[0m\u001b[0;32m    355\u001b[0m     \u001b[1;32mif\u001b[0m \u001b[0mcls\u001b[0m \u001b[1;32mis\u001b[0m \u001b[1;32mNone\u001b[0m\u001b[1;33m:\u001b[0m\u001b[1;33m\u001b[0m\u001b[0m\n\u001b[0;32m    356\u001b[0m         \u001b[0mcls\u001b[0m \u001b[1;33m=\u001b[0m \u001b[0mJSONDecoder\u001b[0m\u001b[1;33m\u001b[0m\u001b[0m\n",
      "\u001b[1;32mC:\\ProgramData\\Anaconda3\\lib\\json\\decoder.py\u001b[0m in \u001b[0;36mdecode\u001b[1;34m(self, s, _w)\u001b[0m\n\u001b[0;32m    337\u001b[0m \u001b[1;33m\u001b[0m\u001b[0m\n\u001b[0;32m    338\u001b[0m         \"\"\"\n\u001b[1;32m--> 339\u001b[1;33m         \u001b[0mobj\u001b[0m\u001b[1;33m,\u001b[0m \u001b[0mend\u001b[0m \u001b[1;33m=\u001b[0m \u001b[0mself\u001b[0m\u001b[1;33m.\u001b[0m\u001b[0mraw_decode\u001b[0m\u001b[1;33m(\u001b[0m\u001b[0ms\u001b[0m\u001b[1;33m,\u001b[0m \u001b[0midx\u001b[0m\u001b[1;33m=\u001b[0m\u001b[0m_w\u001b[0m\u001b[1;33m(\u001b[0m\u001b[0ms\u001b[0m\u001b[1;33m,\u001b[0m \u001b[1;36m0\u001b[0m\u001b[1;33m)\u001b[0m\u001b[1;33m.\u001b[0m\u001b[0mend\u001b[0m\u001b[1;33m(\u001b[0m\u001b[1;33m)\u001b[0m\u001b[1;33m)\u001b[0m\u001b[1;33m\u001b[0m\u001b[0m\n\u001b[0m\u001b[0;32m    340\u001b[0m         \u001b[0mend\u001b[0m \u001b[1;33m=\u001b[0m \u001b[0m_w\u001b[0m\u001b[1;33m(\u001b[0m\u001b[0ms\u001b[0m\u001b[1;33m,\u001b[0m \u001b[0mend\u001b[0m\u001b[1;33m)\u001b[0m\u001b[1;33m.\u001b[0m\u001b[0mend\u001b[0m\u001b[1;33m(\u001b[0m\u001b[1;33m)\u001b[0m\u001b[1;33m\u001b[0m\u001b[0m\n\u001b[0;32m    341\u001b[0m         \u001b[1;32mif\u001b[0m \u001b[0mend\u001b[0m \u001b[1;33m!=\u001b[0m \u001b[0mlen\u001b[0m\u001b[1;33m(\u001b[0m\u001b[0ms\u001b[0m\u001b[1;33m)\u001b[0m\u001b[1;33m:\u001b[0m\u001b[1;33m\u001b[0m\u001b[0m\n",
      "\u001b[1;32mC:\\ProgramData\\Anaconda3\\lib\\json\\decoder.py\u001b[0m in \u001b[0;36mraw_decode\u001b[1;34m(self, s, idx)\u001b[0m\n\u001b[0;32m    355\u001b[0m             \u001b[0mobj\u001b[0m\u001b[1;33m,\u001b[0m \u001b[0mend\u001b[0m \u001b[1;33m=\u001b[0m \u001b[0mself\u001b[0m\u001b[1;33m.\u001b[0m\u001b[0mscan_once\u001b[0m\u001b[1;33m(\u001b[0m\u001b[0ms\u001b[0m\u001b[1;33m,\u001b[0m \u001b[0midx\u001b[0m\u001b[1;33m)\u001b[0m\u001b[1;33m\u001b[0m\u001b[0m\n\u001b[0;32m    356\u001b[0m         \u001b[1;32mexcept\u001b[0m \u001b[0mStopIteration\u001b[0m \u001b[1;32mas\u001b[0m \u001b[0merr\u001b[0m\u001b[1;33m:\u001b[0m\u001b[1;33m\u001b[0m\u001b[0m\n\u001b[1;32m--> 357\u001b[1;33m             \u001b[1;32mraise\u001b[0m \u001b[0mJSONDecodeError\u001b[0m\u001b[1;33m(\u001b[0m\u001b[1;34m\"Expecting value\"\u001b[0m\u001b[1;33m,\u001b[0m \u001b[0ms\u001b[0m\u001b[1;33m,\u001b[0m \u001b[0merr\u001b[0m\u001b[1;33m.\u001b[0m\u001b[0mvalue\u001b[0m\u001b[1;33m)\u001b[0m \u001b[1;32mfrom\u001b[0m \u001b[1;32mNone\u001b[0m\u001b[1;33m\u001b[0m\u001b[0m\n\u001b[0m\u001b[0;32m    358\u001b[0m         \u001b[1;32mreturn\u001b[0m \u001b[0mobj\u001b[0m\u001b[1;33m,\u001b[0m \u001b[0mend\u001b[0m\u001b[1;33m\u001b[0m\u001b[0m\n",
      "\u001b[1;31mJSONDecodeError\u001b[0m: Expecting value: line 1 column 1 (char 0)"
     ]
    }
   ],
   "source": [
    "#pcone #下架商品會錯誤\n",
    "pdid = \"180126442661\"\n",
    "from bs4 import BeautifulSoup\n",
    "import requests\n",
    "import json\n",
    "url = \"https://www.pcone.com.tw/product/info/\"+pdid\n",
    "my_headers = {'user-agent': 'Mozilla/5.0 (Windows NT 10.0; Win64; x64) AppleWebKit/537.36 (KHTML, like Gecko) Chrome/68.0.3440.106 Safari/537.36'}\n",
    "gotrq = requests.get(url,headers = my_headers)\n",
    "soup = BeautifulSoup(gotrq.text, \"html.parser\") #\"html.parser\" html解析器 將html 轉為bs4格式操作\n",
    "strnum = soup.select('script')[23].text.find(\"window._pc_p = \") #提取JSON資料\n",
    "gotjson = soup.select('script')[23].text[strnum+len(\"window._pc_p = \"):-2]\n",
    "load = json.loads(gotjson)  #轉成python dict\n",
    "\n",
    "for i in range(len(load['volumes'])):\n",
    "    print(str(load['volumes'][i]['volume_id'])+\":\"+str(load['volumes'][i]['volume_remaining'])+\" \"+str(load['volumes'][i]['option']))\n",
    "\n"
   ]
  },
  {
   "cell_type": "code",
   "execution_count": null,
   "metadata": {},
   "outputs": [],
   "source": []
  }
 ],
 "metadata": {
  "kernelspec": {
   "display_name": "Python 3",
   "language": "python",
   "name": "python3"
  },
  "language_info": {
   "codemirror_mode": {
    "name": "ipython",
    "version": 3
   },
   "file_extension": ".py",
   "mimetype": "text/x-python",
   "name": "python",
   "nbconvert_exporter": "python",
   "pygments_lexer": "ipython3",
   "version": "3.6.5"
  }
 },
 "nbformat": 4,
 "nbformat_minor": 2
}

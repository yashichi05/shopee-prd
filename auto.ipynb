{
 "cells": [
  {
   "cell_type": "code",
   "execution_count": 17,
   "metadata": {},
   "outputs": [],
   "source": [
    "import pywinauto\n",
    "from pywinauto.application import Application\n",
    "app = Application(backend=\"uia\").start(r'D:\\sqldata\\POS.exe')\n"
   ]
  },
  {
   "cell_type": "code",
   "execution_count": null,
   "metadata": {},
   "outputs": [],
   "source": [
    "from pywinauto.application import Application\n",
    "app = Application(backend=\"win32\").start('notepad')\n",
    "\n",
    "app.Notepad.wait('ready')\n",
    "#\n",
    "#dlg_spec = app['未命名 - 記事本']\n",
    "app.Notepad.print_control_identifiers()\n",
    "\n",
    "app.Notepad.Edit.type_keys('dovah')\n",
    "app.Notepad.menu_select('編輯(E) -> 取代(R)...\tCtrl+H')\n",
    "app.取代.Edit1.type_keys('dovah')\n",
    "app.取代.Edit2.type_keys('dovahkiin')\n",
    "app.取代.Button3.click()\n",
    "\n",
    "\n",
    "#dlg_spec = app.Dialog  #鎖定視窗\n",
    "#dlg_spec.print_control_identifiers() #列出按鈕\n",
    "#dlg_spec.Button27.click() #點選\n",
    "#根據標題（窗口文字，名稱）:app.Properties.OK.click()\n",
    "#按標題和控制類型：app.Properties.OKButton.click()\n",
    "#通過控制類型和數量：app.Properties.Button3.click()(Button和Button1匹配相同按鈕，button2匹配下一個按鈕)\n",
    "#通過左上角的標籤和控件類型：app.OpenDialog.FileNameEdit.set_text(\"\")\n",
    "#按控件類型和項目文本：app.Properties.TabControlSharing.select(\"General\")\n"
   ]
  },
  {
   "cell_type": "code",
   "execution_count": null,
   "metadata": {
    "scrolled": true
   },
   "outputs": [],
   "source": [
    "#開啟POS\n",
    "from pywinauto.application import Application\n",
    "app = Application(backend=\"uia\").start('D:\\sqldata\\POS.exe')\n",
    "\n",
    "# 查到这个记事本的控件树\n",
    "dlg_spec = app.Dialog  #鎖定視窗\n",
    "dlg_spec.print_control_identifiers()\n",
    "dlg_spec.TEdit.type_keys('0800') #密碼\n",
    "dlg_spec.Button15.click()  #登入\n",
    "\n"
   ]
  },
  {
   "cell_type": "code",
   "execution_count": null,
   "metadata": {},
   "outputs": [],
   "source": [
    "from pywinauto.keyboard import SendKeys\n",
    "def rpout(price):\n",
    "    dlg2 = app['POS_2018_04']\n",
    "    #dlg2.print_control_identifiers()\n",
    "    dlg2.清除.click()\n",
    "    for key in price:\n",
    "        SendKeys('{VK_NUMPAD'+key+'}')\n",
    "    dlg2.日用品.click()\n",
    "    dlg2.Button27.click() #小計\n",
    "    #dlg2.Button26.click() #列印發票"
   ]
  },
  {
   "cell_type": "code",
   "execution_count": null,
   "metadata": {},
   "outputs": [],
   "source": []
  },
  {
   "cell_type": "code",
   "execution_count": null,
   "metadata": {},
   "outputs": [],
   "source": [
    "def doit():\n",
    "    txt = open('aa.txt', 'r')\n",
    "    txtcontent = txt.read().split('\\n')\n",
    "    outcontent = []\n",
    "    for po in txtcontent:\n",
    "        if po != \"\":\n",
    "            rpout(po)"
   ]
  },
  {
   "cell_type": "code",
   "execution_count": 20,
   "metadata": {},
   "outputs": [
    {
     "ename": "ElementAmbiguousError",
     "evalue": "There are 24 elements that match the criteria {'class_name': None, 'class_name_re': None, 'parent': None, 'process': None, 'title': None, 'title_re': None, 'top_level_only': True, 'visible_only': True, 'enabled_only': False, 'best_match': None, 'handle': None, 'ctrl_index': None, 'found_index': None, 'predicate_func': None, 'active_only': False, 'control_id': None, 'control_type': None, 'auto_id': None, 'framework_id': None, 'backend': None, 'depth': None}",
     "output_type": "error",
     "traceback": [
      "\u001b[1;31m---------------------------------------------------------------------------\u001b[0m",
      "\u001b[1;31mElementAmbiguousError\u001b[0m                     Traceback (most recent call last)",
      "\u001b[1;32m<ipython-input-20-668fbef876f7>\u001b[0m in \u001b[0;36m<module>\u001b[1;34m()\u001b[0m\n\u001b[1;32m----> 1\u001b[1;33m \u001b[0mpywinauto\u001b[0m\u001b[1;33m.\u001b[0m\u001b[0mfindwindows\u001b[0m\u001b[1;33m.\u001b[0m\u001b[0mfind_element\u001b[0m\u001b[1;33m(\u001b[0m\u001b[0mclass_name\u001b[0m\u001b[1;33m=\u001b[0m\u001b[1;32mNone\u001b[0m\u001b[1;33m,\u001b[0m \u001b[0mclass_name_re\u001b[0m\u001b[1;33m=\u001b[0m\u001b[1;32mNone\u001b[0m\u001b[1;33m,\u001b[0m \u001b[0mparent\u001b[0m\u001b[1;33m=\u001b[0m\u001b[1;32mNone\u001b[0m\u001b[1;33m,\u001b[0m \u001b[0mprocess\u001b[0m\u001b[1;33m=\u001b[0m\u001b[1;32mNone\u001b[0m\u001b[1;33m,\u001b[0m \u001b[0mtitle\u001b[0m\u001b[1;33m=\u001b[0m\u001b[1;32mNone\u001b[0m\u001b[1;33m,\u001b[0m \u001b[0mtitle_re\u001b[0m\u001b[1;33m=\u001b[0m\u001b[1;32mNone\u001b[0m\u001b[1;33m,\u001b[0m \u001b[0mtop_level_only\u001b[0m\u001b[1;33m=\u001b[0m\u001b[1;32mTrue\u001b[0m\u001b[1;33m,\u001b[0m \u001b[0mvisible_only\u001b[0m\u001b[1;33m=\u001b[0m\u001b[1;32mTrue\u001b[0m\u001b[1;33m,\u001b[0m \u001b[0menabled_only\u001b[0m\u001b[1;33m=\u001b[0m\u001b[1;32mFalse\u001b[0m\u001b[1;33m,\u001b[0m \u001b[0mbest_match\u001b[0m\u001b[1;33m=\u001b[0m\u001b[1;32mNone\u001b[0m\u001b[1;33m,\u001b[0m \u001b[0mhandle\u001b[0m\u001b[1;33m=\u001b[0m\u001b[1;32mNone\u001b[0m\u001b[1;33m,\u001b[0m \u001b[0mctrl_index\u001b[0m\u001b[1;33m=\u001b[0m\u001b[1;32mNone\u001b[0m\u001b[1;33m,\u001b[0m \u001b[0mfound_index\u001b[0m\u001b[1;33m=\u001b[0m\u001b[1;32mNone\u001b[0m\u001b[1;33m,\u001b[0m \u001b[0mpredicate_func\u001b[0m\u001b[1;33m=\u001b[0m\u001b[1;32mNone\u001b[0m\u001b[1;33m,\u001b[0m \u001b[0mactive_only\u001b[0m\u001b[1;33m=\u001b[0m\u001b[1;32mFalse\u001b[0m\u001b[1;33m,\u001b[0m \u001b[0mcontrol_id\u001b[0m\u001b[1;33m=\u001b[0m\u001b[1;32mNone\u001b[0m\u001b[1;33m,\u001b[0m \u001b[0mcontrol_type\u001b[0m\u001b[1;33m=\u001b[0m\u001b[1;32mNone\u001b[0m\u001b[1;33m,\u001b[0m \u001b[0mauto_id\u001b[0m\u001b[1;33m=\u001b[0m\u001b[1;32mNone\u001b[0m\u001b[1;33m,\u001b[0m \u001b[0mframework_id\u001b[0m\u001b[1;33m=\u001b[0m\u001b[1;32mNone\u001b[0m\u001b[1;33m,\u001b[0m \u001b[0mbackend\u001b[0m\u001b[1;33m=\u001b[0m\u001b[1;32mNone\u001b[0m\u001b[1;33m,\u001b[0m \u001b[0mdepth\u001b[0m\u001b[1;33m=\u001b[0m\u001b[1;32mNone\u001b[0m\u001b[1;33m)\u001b[0m\u001b[1;33m\u001b[0m\u001b[0m\n\u001b[0m",
      "\u001b[1;32mC:\\ProgramData\\Anaconda3\\lib\\site-packages\\pywinauto\\findwindows.py\u001b[0m in \u001b[0;36mfind_element\u001b[1;34m(**kwargs)\u001b[0m\n\u001b[0;32m     96\u001b[0m \u001b[1;33m\u001b[0m\u001b[0m\n\u001b[0;32m     97\u001b[0m         \u001b[0mexception\u001b[0m\u001b[1;33m.\u001b[0m\u001b[0melements\u001b[0m \u001b[1;33m=\u001b[0m \u001b[0melements\u001b[0m\u001b[1;33m\u001b[0m\u001b[0m\n\u001b[1;32m---> 98\u001b[1;33m         \u001b[1;32mraise\u001b[0m \u001b[0mexception\u001b[0m\u001b[1;33m\u001b[0m\u001b[0m\n\u001b[0m\u001b[0;32m     99\u001b[0m \u001b[1;33m\u001b[0m\u001b[0m\n\u001b[0;32m    100\u001b[0m     \u001b[1;32mreturn\u001b[0m \u001b[0melements\u001b[0m\u001b[1;33m[\u001b[0m\u001b[1;36m0\u001b[0m\u001b[1;33m]\u001b[0m\u001b[1;33m\u001b[0m\u001b[0m\n",
      "\u001b[1;31mElementAmbiguousError\u001b[0m: There are 24 elements that match the criteria {'class_name': None, 'class_name_re': None, 'parent': None, 'process': None, 'title': None, 'title_re': None, 'top_level_only': True, 'visible_only': True, 'enabled_only': False, 'best_match': None, 'handle': None, 'ctrl_index': None, 'found_index': None, 'predicate_func': None, 'active_only': False, 'control_id': None, 'control_type': None, 'auto_id': None, 'framework_id': None, 'backend': None, 'depth': None}"
     ]
    }
   ],
   "source": [
    "pywinauto.findwindows.find_element()\n"
   ]
  },
  {
   "cell_type": "code",
   "execution_count": 13,
   "metadata": {},
   "outputs": [
    {
     "data": {
      "text/plain": [
       "<uia_controls.ButtonWrapper - '離 開(x)', Button, 3713039978607824781>"
      ]
     },
     "execution_count": 13,
     "metadata": {},
     "output_type": "execute_result"
    }
   ],
   "source": []
  },
  {
   "cell_type": "code",
   "execution_count": null,
   "metadata": {},
   "outputs": [],
   "source": [
    "import tkinter\n",
    "gui = tkinter.Tk()\n",
    "gui.geometry(\"300x80\")\n",
    "btn = tkinter.Button(gui, text =\"執行\", command = doit)\n",
    "btn.pack(anchor='center', expand='yes')\n",
    "gui.mainloop()\n"
   ]
  },
  {
   "cell_type": "code",
   "execution_count": null,
   "metadata": {},
   "outputs": [],
   "source": []
  }
 ],
 "metadata": {
  "kernelspec": {
   "display_name": "Python 3",
   "language": "python",
   "name": "python3"
  },
  "language_info": {
   "codemirror_mode": {
    "name": "ipython",
    "version": 3
   },
   "file_extension": ".py",
   "mimetype": "text/x-python",
   "name": "python",
   "nbconvert_exporter": "python",
   "pygments_lexer": "ipython3",
   "version": "3.6.5"
  }
 },
 "nbformat": 4,
 "nbformat_minor": 2
}

{
 "cells": [
  {
   "cell_type": "code",
   "execution_count": 20,
   "metadata": {},
   "outputs": [
    {
     "name": "stdout",
     "output_type": "stream",
     "text": [
      "444\n"
     ]
    }
   ],
   "source": [
    "def remove_emoji(data):\n",
    "    if not data:\n",
    "        return data\n",
    "    try:\n",
    "    # UCS-4\n",
    "        patt = re.compile(u'([\\U00002600-\\U000027BF])|([\\U0001f300-\\U0001f64F])|([\\U0001f680-\\U0001f6FF])')\n",
    "    except re.error:\n",
    "    # UCS-2\n",
    "        patt = re.compile(u'([\\u2600-\\u27BF])|([\\uD83C][\\uDF00-\\uDFFF])|([\\uD83D][\\uDC00-\\uDE4F])|([\\uD83D][\\uDE80-\\uDEFF])')\n",
    "    return patt.sub('', data)\n",
    "\n",
    "\n",
    "txt =\"444\"\n",
    "print(remove_emoji(txt))"
   ]
  },
  {
   "cell_type": "code",
   "execution_count": 10,
   "metadata": {},
   "outputs": [
    {
     "name": "stdout",
     "output_type": "stream",
     "text": [
      "驗證成功 1126837960:5 米奇 紅\n",
      "驗證成功 1126837961:5 米奇 黑\n",
      "驗證成功 1126837962:5 米妮 粉\n",
      "驗證成功 1126837963:5 維尼 黃\n",
      "✨現貨快出🔜免運費 限宅配【錦化成】Disney兒童餐椅 學習椅 米奇 米妮 小熊維尼 🌳 綠光森林 🌳\n",
      "2   ● 2:上架,3:下架\n"
     ]
    }
   ],
   "source": [
    "#yahoo 下架會正常\n",
    "pdid = \"100513373327\"\n",
    "from bs4 import BeautifulSoup\n",
    "import requests\n",
    "import json\n",
    "url = \"https://tw.bid.yahoo.com/item/\"+pdid\n",
    "my_headers = {'user-agent': 'Mozilla/5.0 (Windows NT 10.0; Win64; x64) AppleWebKit/537.36 (KHTML, like Gecko) Chrome/68.0.3440.106 Safari/537.36'}\n",
    "gotrq = requests.get(url,headers = my_headers)\n",
    "soup = BeautifulSoup(gotrq.text, \"html.parser\") #\"html.parser\" html解析器 將html 轉為bs4格式操作\n",
    "#for item in soup.select(\".listing-title\"): #html 可以使用select 選擇想要的東西\n",
    "    #print(item.select(\"a\")[0].text)\n",
    "gotjson = soup.select(\"#isoredux-data\")[0].get(\"data-state\") #get 取得屬性\n",
    "load = json.loads(gotjson)  #轉成python dict\n",
    "\n",
    "for i in range(len(load[\"item\"][\"models\"])): #提取ID\n",
    "    specnameID = str(load[\"item\"][\"models\"][i][\"specCombination\"]).split(\":\")\n",
    "    specname = str(load[\"item\"][\"specs\"][0]['options'][i]['name'])\n",
    "    if specnameID[1] == str(load[\"item\"][\"specs\"][0]['options'][i]['id']):\n",
    "        text = '驗證成功 '\n",
    "    \n",
    "    print(text+load[\"item\"][\"models\"][i][\"id\"]+\":\"+ str(load[\"item\"][\"models\"][i][\"qty\"])+\" \"+specname)\n",
    "prdtitle = load[\"item\"][\"title\"]\n",
    "a = prdtitle.encode().decode('utf-8')\n",
    "print(a)\n",
    "print(str(load[\"item\"][\"status\"])+\"   ● 2:上架,3:下架\")"
   ]
  },
  {
   "cell_type": "code",
   "execution_count": 10,
   "metadata": {},
   "outputs": [
    {
     "name": "stdout",
     "output_type": "stream",
     "text": [
      "{\"uh\":{\"myaccount\":{\"loginUrl\":\"https://login.yahoo.com/config/login?.intl=tw&.lang=zh-Hant-TW\",\"logoutUrl\":\"https://login.yahoo.com/config/login?logout=1&.direct=2&.src=&.intl=tw&.lang=zh-Hant-TW\",\"avatar\":\"https://s.yimg.com/zq/ecimg/uh_default_user.png\",\"nickname\":\"\",\"ecid\":\"\"},\"cart\":{\"cartItems\":[]},\"search\":{\"query\":{\"keyword\":\"\",\"categoryId\":0,\"categoryLevel\":0},\"placeholder\":\"\"},\"core\":{\"isMobileSearchOn\":false,\"isScrollingEffect\":true,\"theme\":{\"personaIcon\":\"uhAuction__personaIcon___2xIba\",\"ylogo\":\"uhAuction__ylogo___24dQ9\",\"icoLoader\":\"uhAuction__icoLoader___215SN\",\"count\":\"uhAuction__count___HJkkK\",\"personaCount\":\"uhAuction__personaCount___PlpVJ\",\"loginBtn\":\"uhAuction__loginBtn___2wZwO\",\"menuLinkRow\":\"uhAuction__menuLinkRow___qXspG\",\"menuButtonRow\":\"uhAuction__menuButtonRow___1d_-I\",\"mainBar\":\"uhAuction__mainBar___3MaQf\",\"searchWrap\":\"uhAuction__searchWrap___37VNk\"},\"user\":{\"isLogin\":false}}},\"page\":{\"bucket\":\"none_rwd\",\"clientInfo\":{\"browser\":\"chrome\",\"browserVersion\":\"68.0\",\"os\":\"windows nt\",\"inOfficialApp\":false,\"isMobile\":false},\"crumb\":{},\"envConf\":{\"appHost\":\"yecauction://tw.bid.yahoo.com\",\"billingHost\":\"https://tw.billing.yahoo.com\",\"buyerHost\":\"https://tw.bid.yahoo.com\",\"checkoutHost\":\"https://tw.billing.bid.yahoo.com\",\"ccFormHost\":\"https://tw.billing.yahoo.com\",\"featureEnableIM\":true,\"featureEnableBlocking\":true,\"liveMessageHost\":\"wss://tw.bid.yahoo.com\",\"partnerAccountId\":\"tw.bid.yahoo.com\",\"searchHost\":\"https://tw.search.bid.yahoo.com\",\"sampleRate\":100},\"env\":\"production\",\"errorBox\":{\"content\":\"\",\"title\":\"\",\"toBeDisplayed\":false,\"primaryButtonText\":\"\",\"secondaryButtonText\":\"\",\"redirectUrl\":\"\",\"forcedRedirectUrl\":\"\"},\"renderErrorPageMessage\":\"\",\"imagesLightBox\":{\"active\":false,\"zoomIn\":false,\"images\":[],\"checkedImageId\":0},\"redirectToUrl\":null,\"route\":{\"name\":\"itemPage\",\"url\":\"/item/100067012111\",\"path\":\"/item/100067012111\",\"params\":{\"id\":\"100067012111\"},\"query\":{}},\"popupModal\":{\"active\":false},\"promoInfo\":{},\"scroll\":{\"isActive\":false,\"params\":{},\"targetDomId\":\"\"},\"user\":{\"isLogin\":false},\"pjax\":{\"pjaxReq\":{},\"handlePushState\":false,\"pjaxFetching\":false},\"toast\":{\"active\":false,\"content\":\"\",\"enableAutoDismiss\":true,\"iconType\":\"accept-fill\",\"moduleName\":\"INIT\",\"type\":\"normal\"},\"wssid\":\"\"},\"browsingHistory\":{\"listings\":[]},\"bid\":{\"bidRecords\":{\"deletingRecordId\":\"\",\"detail\":[],\"highestBidders\":[],\"isDeleting\":false,\"isFetching\":false,\"isInitialized\":{\"detail\":false,\"summary\":false},\"mode\":\"summary\",\"summary\":[],\"totalRecords\":{\"detail\":0,\"summary\":0}}},\"category\":{\"categoryPaths\":[{\"id\":\"24198\",\"isLeaf\":false,\"listingDuration\":\"20\",\"showNccMsg\":\"\",\"title\":\"居家、家具與園藝\",\"url\":\"/tw/居家、家具與園藝-24198-category.html?.r=1539674401\"},{\"id\":\"2092080465\",\"isLeaf\":false,\"listingDuration\":\"20\",\"showNccMsg\":\"\",\"title\":\"家庭雜貨/手工藝用品\",\"url\":\"/tw/家庭雜貨-手工藝用品-2092080465-category.html?.r=1539674401\"},{\"id\":\"2092080570\",\"isLeaf\":true,\"listingDuration\":\"20\",\"showNccMsg\":\"\",\"title\":\"其他家庭雜貨\",\"url\":\"/tw/2092080570-category-leaf.html?.r=1539674401\"}]},\"cmsAppPromote\":{\"appPromote\":{\"popup\":{\"logo\":\"https://s.yimg.com/cv/apiv2/default/20180828/hana.gif\",\"title\":\"哈囉！我是Yahoo拍賣員工Hanna！快來免費體驗APP版即時通，買賣訊息一路暢通！\",\"button\":\"立即下載\",\"expireTs\":1543593540000},\"banner\":{\"title\":\"手機APP限定！\",\"content\":\"免費廣告天天領！\",\"expireTs\":1543590000000}}},\"item\":{\"id\":\"100067012111\",\"images\":[{\"id\":0,\"isSpecImage\":false,\"md\":{\"src\":\"https://ct.yimg.com/xd/api/res/1.2/HYcTxZ5X8b542uYKS0m5eg--/YXBwaWQ9eXR3YXVjdGlvbnNlcnZpY2U7aD03MDA7cT04NTtyb3RhdGU9YXV0bzt3PTcwMDtwPW9wZW5jdg--/https://s.yimg.com/ob/image/7f1ef15e-1de3-4dd1-915c-1a45f461833d.jpg\",\"w\":700,\"h\":700},\"sm\":{\"src\":\"https://ct.yimg.com/xd/api/res/1.2/_tNtK93d1nfyMfS26vy67Q--/YXBwaWQ9eXR3YXVjdGlvbnNlcnZpY2U7Zmk9ZmlsbDtoPTkwO3E9OTA7cm90YXRlPWF1dG87c3I9MS4yO3NzPTEuMjt3PTkwO3A9b3BlbmN2/https://s.yimg.com/ob/image/7f1ef15e-1de3-4dd1-915c-1a45f461833d.jpg\",\"w\":90,\"h\":90},\"lg\":{\"src\":\"https://ct.yimg.com/xd/api/res/1.2/GOZpHoe5qM9KZxWPhiRflg--/YXBwaWQ9eXR3YXVjdGlvbnNlcnZpY2U7aD04MDA7cT04NTtyb3RhdGU9YXV0bzt3PTgwMDtwPW9wZW5jdg--/https://s.yimg.com/ob/image/7f1ef15e-1de3-4dd1-915c-1a45f461833d.jpg\",\"w\":800,\"h\":800}}],\"isBargain\":0,\"listingId\":\"100067012111\",\"price\":73,\"title\":\"韓國No Brand紫心紅番薯洋芋片110g 紅薯洋芋片 紫色薯片 洋芋片 零食 ☆綠光森林☆\",\"type\":1,\"watchlistCount\":12,\"catAttribute\":[],\"catId\":\"2092080570\",\"condition\":\"1\",\"description\":\"<div><br></div><div><table id=\\\"yui_3_12_0_5_1480913852656_95\\\" width=\\\"750\\\" class=\\\"mce-item-table\\\" style=\\\"border:1px dashed rgb(187, 187, 187);\\\"><tbody id=\\\"yui_3_12_0_5_1480913852656_96\\\"><tr style=\\\"font-family:Verdana, Arial, Helvetica, sans-serif;font-size:11px;background-color:rgb(255, 255, 255);\\\"><td id=\\\"yui_3_12_0_5_1461636814275_43\\\" style=\\\"border:1px dashed rgb(187, 187, 187);\\\"><p><img src= \\\"https://ec.yimg.com/ec?url=http%3A%2F%2Fwww.daiyi.url.tw%2Fy%2F20170308-3.jpg&t=1539674400&mas=300&ttl=300&sig=o5mY9K4G_y9GDTaW.a2f3g--~D\\\"  border=\\\"0\\\" width=\\\"800\\\" height=\\\"1789\\\"></p></td></tr><tr style=\\\"font-family:Verdana, Arial, Helvetica, sans-serif;font-size:11px;background-color:rgb(255, 255, 255);\\\"><td style=\\\"border:1px dashed rgb(187, 187, 187);\\\"><img src= \\\"https://ec.yimg.com/ec?url=http%3A%2F%2Fwww.daiyi.url.tw%2Fpic%2Fyahoo%2F20140620%2F01.jpg&t=1539674400&mas=300&ttl=300&sig=JyjQbsQJ0hJEhC31ZQiCjg--~D\\\"  border=\\\"0\\\" width=\\\"750\\\" height=\\\"171\\\"></td></tr><tr style=\\\"font-family:Verdana, Arial, Helvetica, sans-serif;font-size:11px;background-color:rgb(255, 255, 255);\\\"><td style=\\\"border:1px dashed rgb(187, 187, 187);\\\"><table id=\\\"yui_3_12_0_2_1416362653527_77\\\" border=\\\"5\\\" cellpadding=\\\"2\\\" cellspacing=\\\"1\\\" width=\\\"750\\\"><tbody><tr><td class=\\\"d tidied-201703086223-3\\\" width=\\\"202\\\" style=\\\"font-size:11px;border:1px dashed rgb(187, 187, 187);background-color:rgb(0, 102, 0);\\\"><div class=\\\"tidied-201703086223-2\\\" id=\\\"yui_3_12_0_2_1410929432148_60\\\" style=\\\"text-align:center;\\\"><span class=\\\"tidied-201703086223-1\\\" id=\\\"yui_3_12_0_2_1410929432148_82\\\" style=\\\"color:rgb(255, 255, 255);font-size:20px;font-weight:bold;\\\">[品牌]</span></div></td><td class=\\\"tidied-201703086223-4\\\" id=\\\"yui_3_12_0_2_1416362653527_51\\\" width=\\\"523\\\" style=\\\"font-size:11px;border:1px dashed rgb(187, 187, 187);text-align:center;\\\">【NO BRAND】</td></tr><tr><td class=\\\"d tidied-201703086223-3\\\" style=\\\"font-size:11px;border:1px dashed rgb(187, 187, 187);background-color:rgb(0, 102, 0);\\\"><div class=\\\"tidied-201703086223-2\\\" id=\\\"yui_3_12_0_5_1480914096511_58\\\" style=\\\"text-align:center;\\\"><span class=\\\"tidied-201703086223-8\\\" id=\\\"yui_3_12_0_5_1480914096511_92\\\" style=\\\"font-size:31px;font-weight:bold;\\\"><span class=\\\"aa\\\"><span class=\\\"tidied-201703086223-5\\\" id=\\\"yui_3_12_0_2_1410929432148_86\\\" style=\\\"color:rgb(255, 255, 255);font-size:14px;\\\">[商品名稱</span><span class=\\\"tidied-201703086223-6\\\" id=\\\"yui_3_12_0_2_1410929432148_86\\\" style=\\\"font-size:14px;\\\"></span></span><span class=\\\"tidied-201703086223-7\\\" id=\\\"yui_3_12_0_2_1410929432148_86\\\" style=\\\"color:rgb(255, 255, 255);font-size:14px;\\\">]</span></span></div></td><td class=\\\"tidied-201703086223-4\\\" id=\\\"yui_3_12_0_2_1418452771062_64\\\" style=\\\"font-size:11px;border:1px dashed rgb(187, 187, 187);text-align:center;\\\">韓國No Brand紫心紅番薯洋芋片110g 紅薯洋芋片 紫色薯片 洋芋片 零食</td></tr><tr><td class=\\\"f tidied-201703086223-3\\\" id=\\\"yui_3_12_0_5_1461637043722_95\\\" style=\\\"font-size:11px;border:1px dashed rgb(187, 187, 187);background-color:rgb(0, 102, 0);\\\"><div class=\\\"tidied-201703086223-2\\\" style=\\\"text-align:center;\\\"><span class=\\\"tidied-201703086223-1\\\" id=\\\"yui_3_12_0_2_1410929432148_90\\\" style=\\\"color:rgb(255, 255, 255);font-size:20px;font-weight:bold;\\\">[產地容量材質]</span></div></td><td class=\\\"tidied-201703086223-4\\\" id=\\\"yui_3_12_0_5_1461636814275_76\\\" style=\\\"font-size:11px;border:1px dashed rgb(187, 187, 187);text-align:center;\\\"><p id=\\\"yui_3_12_0_5_1487817050973_55\\\">產地容量材質<br>產地：馬來西亞<br>賞味期限：12個月<br>容量：110g</p></td></tr><tr><td class=\\\"dda tidied-201703086223-3\\\" style=\\\"font-size:11px;border:1px dashed rgb(187, 187, 187);background-color:rgb(0, 102, 0);\\\"><div class=\\\"tidied-201703086223-2\\\" style=\\\"text-align:center;\\\"><span class=\\\"tidied-201703086223-1\\\" id=\\\"yui_3_12_0_2_1410929432148_94\\\" style=\\\"color:rgb(255, 255, 255);font-size:20px;font-weight:bold;\\\">[產品說明]</span></div></td><td class=\\\"tidied-201703086223-4\\\" id=\\\"yui_3_12_0_5_1461636814275_57\\\" style=\\\"font-size:11px;border:1px dashed rgb(187, 187, 187);text-align:center;\\\">產品說明 依照衛生署規定不提供成份及效果說明，詳細請參考 說明。</td></tr><tr><td class=\\\"da tidied-201703086223-3\\\" style=\\\"font-size:11px;border:1px dashed rgb(187, 187, 187);background-color:rgb(0, 102, 0);\\\"><div class=\\\"tidied-201703086223-2\\\" style=\\\"text-align:center;\\\"><span class=\\\"tidied-201703086223-1\\\" id=\\\"yui_3_12_0_2_1410929432148_98\\\" style=\\\"color:rgb(255, 255, 255);font-size:20px;font-weight:bold;\\\">[備註]</span></div></td><td class=\\\"tidied-201703086223-4\\\" id=\\\"yui_3_12_0_2_1410929432148_68\\\" style=\\\"font-size:11px;border:1px dashed rgb(187, 187, 187);text-align:center;\\\"><p><span class=\\\"tidied-201703086223-9\\\" style=\\\"font-size:20px;\\\">歡迎團購出貨，另有優惠。</span></p></td></tr></tbody></table></td></tr><tr style=\\\"font-family:Verdana, Arial, Helvetica, sans-serif;font-size:11px;background-color:rgb(255, 255, 255);\\\"><td style=\\\"border:1px dashed rgb(187, 187, 187);\\\"><img src= \\\"https://ec.yimg.com/ec?url=http%3A%2F%2Fwww.daiyi.url.tw%2Fpic%2Fyahoo%2F20140519%2F01.jpg&t=1539674400&mas=300&ttl=300&sig=5d30DXPI2KE.EOx73tSl_Q--~D\\\"  border=\\\"0\\\" width=\\\"750\\\" align=\\\"absmiddle\\\"></td></tr><tr style=\\\"font-family:Verdana, Arial, Helvetica, sans-serif;font-size:11px;background-color:rgb(255, 255, 255);\\\"><td style=\\\"border:1px dashed rgb(187, 187, 187);\\\"><img src= \\\"https://ec.yimg.com/ec?url=http%3A%2F%2Fwww.daiyi.url.tw%2Fpic%2Fyahoo%2F20140530%2F01.gif&t=1539674400&mas=300&ttl=300&sig=Z0GTFkKOJpYO1K7dkSuIbQ--~D\\\"  border=\\\"0\\\" width=\\\"750\\\"></td></tr><tr style=\\\"font-family:Verdana, Arial, Helvetica, sans-serif;font-size:11px;background-color:rgb(255, 255, 255);\\\"><td style=\\\"border:1px dashed rgb(187, 187, 187);\\\"><img src= \\\"https://ec.yimg.com/ec?url=http%3A%2F%2Fwww.daiyi.url.tw%2Fpic%2Fyahoo%2F20140519%2F02.jpg&t=1539674400&mas=300&ttl=300&sig=WTGSA6lbW1B7rWbfZqkCBw--~D\\\"  border=\\\"0\\\" width=\\\"750\\\"></td></tr><tr style=\\\"font-family:Verdana, Arial, Helvetica, sans-serif;font-size:11px;background-color:rgb(255, 255, 255);\\\"><td style=\\\"border:1px dashed rgb(187, 187, 187);\\\"> </td></tr><tr style=\\\"font-family:Verdana, Arial, Helvetica, sans-serif;font-size:11px;background-color:rgb(255, 255, 255);\\\"><td style=\\\"border:1px dashed rgb(187, 187, 187);\\\"> </td></tr><tr style=\\\"font-family:Verdana, Arial, Helvetica, sans-serif;font-size:11px;background-color:rgb(255, 255, 255);\\\"><td style=\\\"border:1px dashed rgb(187, 187, 187);\\\"> </td></tr><tr style=\\\"font-family:Verdana, Arial, Helvetica, sans-serif;font-size:11px;background-color:rgb(255, 255, 255);\\\"><td style=\\\"border:1px dashed rgb(187, 187, 187);\\\"> </td></tr><tr style=\\\"font-family:Verdana, Arial, Helvetica, sans-serif;font-size:11px;background-color:rgb(255, 255, 255);\\\"></tr></tbody></table></div>\",\"hashTags\":[],\"listingDuration\":20,\"pageView\":99,\"presaleShipping\":{\"type\":0,\"ondate\":0,\"afterDays\":0},\"sellerId\":\"Y3489416698\",\"soldQuantity\":300,\"startTime\":1522400080,\"status\":2,\"url\":\"https://tw.bid.yahoo.com/item/%E9%9F%93%E5%9C%8BNo-Brand%E7%B4%AB%E5%BF%83%E7%B4%85%E7%95%AA%E8%96%AF%E6%B4%8B%E8%8A%8B%E7%89%87110g-%E7%B4%85%E8%96%AF%E6%B4%8B%E8%8A%8B%E7%89%87-%E7%B4%AB%E8%89%B2%E8%96%AF-100067012111\",\"video\":{\"height\":0,\"thumbnail\":\"\",\"type\":\"\",\"urlEmbeded\":\"\",\"width\":0,\"player\":{\"domId\":\"\"}},\"isR18\":false,\"listingPromotions\":[],\"location\":\"台中市\",\"originPrice\":null,\"payments\":[{\"id\":\".pctc\",\"type\":\"cash\",\"gateway\":\"YAHOO_C2C\",\"title\":\"ATM轉帳 / Famiport / 輕鬆付帳戶餘額\",\"order\":10},{\"id\":\".pockii\",\"type\":\"cash\",\"gateway\":\"CTBC_POCKII\",\"title\":\"ATM轉帳 / ibon / Famiport / 易付帳戶餘額\",\"order\":10},{\"id\":\".pctc_cc\",\"type\":\"creditCard\",\"gateway\":\"YAHOO_C2C\",\"title\":\"信用卡一次付清\",\"order\":20},{\"id\":\".pctc_famicvs\",\"type\":\"family\",\"gateway\":\"YAHOO_C2C\",\"title\":\"全家取貨付款\",\"order\":40},{\"id\":\".pockii_711cvs\",\"type\":\"seven\",\"gateway\":\"CTBC_POCKII\",\"title\":\"7-ELEVEN取貨付款\",\"order\":50},{\"id\":\".pctc_711cvs\",\"type\":\"seven\",\"gateway\":\"YAHOO_C2C\",\"title\":\"7-ELEVEN取貨付款\",\"order\":50},{\"id\":\".pockii_pda\",\"type\":\"preDefined\",\"gateway\":\"CTBC_POCKII\",\"title\":\"約定帳戶付款\",\"order\":70}],\"shippings\":[{\"id\":\".sh\",\"name\":\"宅配/貨運\",\"outline\":\"單件運費$80、消費滿$1000免運費\",\"rules\":[\"單件運費$80\",\"滿2件，運費$80\",\"滿5件，運費$80\",\"消費滿$1000免運費\"]},{\"id\":\".sfc\",\"name\":\"全家取貨付款\",\"outline\":\"單件運費$70、消費滿$1000免運費\",\"rules\":[\"單件運費$70\",\"滿2件，運費$70\",\"滿5件，運費$70\",\"消費滿$1000免運費\"]},{\"id\":\".s7c\",\"name\":\"7-ELEVEN取貨付款\",\"outline\":\"單件運費$70、消費滿$1000免運費\",\"rules\":[\"單件運費$70\",\"滿2件，運費$70\",\"滿5件，運費$70\",\"消費滿$1000免運費\"]}],\"models\":[{\"id\":\"23279204\",\"specCombination\":\"17170811:21622436\",\"qty\":9,\"customId\":\"00000303017\",\"barcode\":\"\",\"isbn\":\"\"}],\"productId\":\"18918705\",\"specs\":[],\"bidInfo\":{\"autoBidIncrement\":0,\"closeBidEarly\":false,\"currentPrice\":0,\"endTime\":0,\"isAutoExtensionSet\":false,\"isBuyNowPriceSet\":false,\"minAcceptPrice\":0,\"totalBids\":0,\"totalQuantity\":3,\"status\":0,\"barcode\":\"\",\"bidType\":0,\"buyNowPrice\":0,\"bidQuantity\":0,\"canBuyNow\":false,\"highestBidders\":[],\"isbn\":\"\",\"isCancelled\":false,\"isLowerThanReservedPrice\":false,\"isHighest\":false,\"isWinner\":false,\"itemNumber\":\"\",\"lastBidPrice\":0,\"maxBidPrice\":0,\"transactionStatus\":{\"code\":0,\"dueTs\":0,\"orderId\":\"\",\"text\":\"\"},\"winQuantity\":0,\"wonBidders\":[]},\"sellerItemStatus\":{},\"preview\":{\"submitFee\":\"\",\"submitTypeLabel\":\"\"},\"bidWonToCartUrl\":\"\",\"checkedImageId\":0,\"formFields\":{\"streamingListingUuid\":\"\",\"streamingRoomId\":\"\"},\"isAddingCart\":false,\"isWatching\":false,\"isFetching\":false,\"mode\":\"modInfo\",\"qna\":{\"isInitialized\":false,\"total\":47,\"loader\":{\"isFetching\":false,\"nextOffset\":0},\"posts\":[],\"askQuestion\":{\"pasteArgs\":{}},\"autoFillAsk\":\"\"},\"previewMode\":false,\"qtyInput\":1,\"submitBidResult\":{\"error\":[],\"status\":\"\"},\"htagRelated\":[],\"relatedListings\":[{\"id\":\"100435712196\",\"isBargain\":false,\"isFetching\":false,\"isWatching\":false,\"image\":\"https://ct.yimg.com/xd/api/res/1.2/wOcYsKDyudoMM3Mg76mwDA--/YXBwaWQ9eXR3YXVjdGlvbnNlcnZpY2U7aD00MDA7cT04NTtyb3RhdGU9YXV0bzt3PTQwMDtwPW9wZW5jdg--/https://s.yimg.com/ob/image/312f6686-7942-4dea-9d04-a3d21a2af076.jpg#400x400\",\"images\":[{\"sm\":{\"src\":\"https://ct.yimg.com/xd/api/res/1.2/wOcYsKDyudoMM3Mg76mwDA--/YXBwaWQ9eXR3YXVjdGlvbnNlcnZpY2U7aD00MDA7cT04NTtyb3RhdGU9YXV0bzt3PTQwMDtwPW9wZW5jdg--/https://s.yimg.com/ob/image/312f6686-7942-4dea-9d04-a3d21a2af076.jpg#400x400\",\"w\":400,\"h\":400},\"md\":{\"src\":\"https://ct.yimg.com/xd/api/res/1.2/wOcYsKDyudoMM3Mg76mwDA--/YXBwaWQ9eXR3YXVjdGlvbnNlcnZpY2U7aD00MDA7cT04NTtyb3RhdGU9YXV0bzt3PTQwMDtwPW9wZW5jdg--/https://s.yimg.com/ob/image/312f6686-7942-4dea-9d04-a3d21a2af076.jpg#400x400\",\"w\":400,\"h\":400},\"lg\":{\"src\":\"https://ct.yimg.com/xd/api/res/1.2/wOcYsKDyudoMM3Mg76mwDA--/YXBwaWQ9eXR3YXVjdGlvbnNlcnZpY2U7aD00MDA7cT04NTtyb3RhdGU9YXV0bzt3PTQwMDtwPW9wZW5jdg--/https://s.yimg.com/ob/image/312f6686-7942-4dea-9d04-a3d21a2af076.jpg#400x400\",\"w\":400,\"h\":400}}],\"price\":85,\"title\":\"日本製造【LIFE CHEMICAL】無磷洗碗皂350g 家事皂 ☆綠光森林☆\",\"type\":1,\"watchlistCount\":17},{\"id\":\"100417362159\",\"isBargain\":false,\"isFetching\":false,\"isWatching\":false,\"image\":\"https://ct.yimg.com/xd/api/res/1.2/c2MvTeV.v_jTHfaDuLbqEA--/YXBwaWQ9eXR3YXVjdGlvbnNlcnZpY2U7aD00MDA7cT04NTtyb3RhdGU9YXV0bzt3PTQwMDtwPW9wZW5jdg--/https://s.yimg.com/ob/image/24971d24-db4f-4245-b9c5-a1f1ae104048.jpg#400x400\",\"images\":[{\"sm\":{\"src\":\"https://ct.yimg.com/xd/api/res/1.2/c2MvTeV.v_jTHfaDuLbqEA--/YXBwaWQ9eXR3YXVjdGlvbnNlcnZpY2U7aD00MDA7cT04NTtyb3RhdGU9YXV0bzt3PTQwMDtwPW9wZW5jdg--/https://s.yimg.com/ob/image/24971d24-db4f-4245-b9c5-a1f1ae104048.jpg#400x400\",\"w\":400,\"h\":400},\"md\":{\"src\":\"https://ct.yimg.com/xd/api/res/1.2/c2MvTeV.v_jTHfaDuLbqEA--/YXBwaWQ9eXR3YXVjdGlvbnNlcnZpY2U7aD00MDA7cT04NTtyb3RhdGU9YXV0bzt3PTQwMDtwPW9wZW5jdg--/https://s.yimg.com/ob/image/24971d24-db4f-4245-b9c5-a1f1ae104048.jpg#400x400\",\"w\":400,\"h\":400},\"lg\":{\"src\":\"https://ct.yimg.com/xd/api/res/1.2/c2MvTeV.v_jTHfaDuLbqEA--/YXBwaWQ9eXR3YXVjdGlvbnNlcnZpY2U7aD00MDA7cT04NTtyb3RhdGU9YXV0bzt3PTQwMDtwPW9wZW5jdg--/https://s.yimg.com/ob/image/24971d24-db4f-4245-b9c5-a1f1ae104048.jpg#400x400\",\"w\":400,\"h\":400}}],\"price\":70,\"title\":\"日本【第一石鹼】浴廁除菌除霉噴霧400ml 免刷洗 ☆綠光森林☆\",\"type\":1,\"watchlistCount\":16},{\"id\":\"100072068895\",\"isBargain\":false,\"isFetching\":false,\"isWatching\":false,\"image\":\"https://ct.yimg.com/xd/api/res/1.2/7I.h32rxrhWQvzOg__NcFQ--/YXBwaWQ9eXR3YXVjdGlvbnNlcnZpY2U7aD00MDA7cT04NTtyb3RhdGU9YXV0bzt3PTQwMDtwPW9wZW5jdg--/https://s.yimg.com/ob/image/d7f1e519-1aad-459d-b46e-807b34140101.jpg#400x400\",\"images\":[{\"sm\":{\"src\":\"https://ct.yimg.com/xd/api/res/1.2/7I.h32rxrhWQvzOg__NcFQ--/YXBwaWQ9eXR3YXVjdGlvbnNlcnZpY2U7aD00MDA7cT04NTtyb3RhdGU9YXV0bzt3PTQwMDtwPW9wZW5jdg--/https://s.yimg.com/ob/image/d7f1e519-1aad-459d-b46e-807b34140101.jpg#400x400\",\"w\":400,\"h\":400},\"md\":{\"src\":\"https://ct.yimg.com/xd/api/res/1.2/7I.h32rxrhWQvzOg__NcFQ--/YXBwaWQ9eXR3YXVjdGlvbnNlcnZpY2U7aD00MDA7cT04NTtyb3RhdGU9YXV0bzt3PTQwMDtwPW9wZW5jdg--/https://s.yimg.com/ob/image/d7f1e519-1aad-459d-b46e-807b34140101.jpg#400x400\",\"w\":400,\"h\":400},\"lg\":{\"src\":\"https://ct.yimg.com/xd/api/res/1.2/7I.h32rxrhWQvzOg__NcFQ--/YXBwaWQ9eXR3YXVjdGlvbnNlcnZpY2U7aD00MDA7cT04NTtyb3RhdGU9YXV0bzt3PTQwMDtwPW9wZW5jdg--/https://s.yimg.com/ob/image/d7f1e519-1aad-459d-b46e-807b34140101.jpg#400x400\",\"w\":400,\"h\":400}}],\"price\":1099,\"title\":\"【免運價】 珪藻土 日本の技【HIRO】(L)日本製 地墊 除臭 吸水 浴室 廁所用 ☆綠光森林☆\",\"type\":1,\"watchlistCount\":36},{\"id\":\"100330464466\",\"isBargain\":false,\"isFetching\":false,\"isWatching\":false,\"image\":\"https://s.yimg.com/xd/api/res/1.2/9BFD0FWSqeXF0PU2ELQy8g--/YXBwaWQ9eXR3YXVjdGlvbnNlcnZpY2U7aD00MDA7cT04NTtyb3RhdGU9YXV0bzt3PTQwMDtwPW9wZW5jdg--/https://s.yimg.com/ob/image/4c6218cc-7888-43b7-b99d-4f1eeb63ecaf.jpg#400x400\",\"images\":[{\"sm\":{\"src\":\"https://s.yimg.com/xd/api/res/1.2/9BFD0FWSqeXF0PU2ELQy8g--/YXBwaWQ9eXR3YXVjdGlvbnNlcnZpY2U7aD00MDA7cT04NTtyb3RhdGU9YXV0bzt3PTQwMDtwPW9wZW5jdg--/https://s.yimg.com/ob/image/4c6218cc-7888-43b7-b99d-4f1eeb63ecaf.jpg#400x400\",\"w\":400,\"h\":400},\"md\":{\"src\":\"https://s.yimg.com/xd/api/res/1.2/9BFD0FWSqeXF0PU2ELQy8g--/YXBwaWQ9eXR3YXVjdGlvbnNlcnZpY2U7aD00MDA7cT04NTtyb3RhdGU9YXV0bzt3PTQwMDtwPW9wZW5jdg--/https://s.yimg.com/ob/image/4c6218cc-7888-43b7-b99d-4f1eeb63ecaf.jpg#400x400\",\"w\":400,\"h\":400},\"lg\":{\"src\":\"https://s.yimg.com/xd/api/res/1.2/9BFD0FWSqeXF0PU2ELQy8g--/YXBwaWQ9eXR3YXVjdGlvbnNlcnZpY2U7aD00MDA7cT04NTtyb3RhdGU9YXV0bzt3PTQwMDtwPW9wZW5jdg--/https://s.yimg.com/ob/image/4c6218cc-7888-43b7-b99d-4f1eeb63ecaf.jpg#400x400\",\"w\":400,\"h\":400}}],\"price\":230,\"title\":\"小久保馬桶刷組(附刷座) 浴室馬桶抗菌刷 浴廁清潔 (簡約白/鑽石黑/甜心粉/活力藍)4色 日本製 ☆綠光森林☆\",\"type\":1,\"watchlistCount\":19},{\"id\":\"100343943848\",\"isBargain\":false,\"isFetching\":false,\"isWatching\":false,\"image\":\"https://ct.yimg.com/xd/api/res/1.2/0c1TKPcAs5BgPFOo9Z7B5g--/YXBwaWQ9eXR3YXVjdGlvbnNlcnZpY2U7aD00MDA7cT04NTtyb3RhdGU9YXV0bzt3PTQwMDtwPW9wZW5jdg--/https://s.yimg.com/ob/image/65c7a1d7-ed28-4256-9bbf-f2ead87286c4.jpg#400x400\",\"images\":[{\"sm\":{\"src\":\"https://ct.yimg.com/xd/api/res/1.2/0c1TKPcAs5BgPFOo9Z7B5g--/YXBwaWQ9eXR3YXVjdGlvbnNlcnZpY2U7aD00MDA7cT04NTtyb3RhdGU9YXV0bzt3PTQwMDtwPW9wZW5jdg--/https://s.yimg.com/ob/image/65c7a1d7-ed28-4256-9bbf-f2ead87286c4.jpg#400x400\",\"w\":400,\"h\":400},\"md\":{\"src\":\"https://ct.yimg.com/xd/api/res/1.2/0c1TKPcAs5BgPFOo9Z7B5g--/YXBwaWQ9eXR3YXVjdGlvbnNlcnZpY2U7aD00MDA7cT04NTtyb3RhdGU9YXV0bzt3PTQwMDtwPW9wZW5jdg--/https://s.yimg.com/ob/image/65c7a1d7-ed28-4256-9bbf-f2ead87286c4.jpg#400x400\",\"w\":400,\"h\":400},\"lg\":{\"src\":\"https://ct.yimg.com/xd/api/res/1.2/0c1TKPcAs5BgPFOo9Z7B5g--/YXBwaWQ9eXR3YXVjdGlvbnNlcnZpY2U7aD00MDA7cT04NTtyb3RhdGU9YXV0bzt3PTQwMDtwPW9wZW5jdg--/https://s.yimg.com/ob/image/65c7a1d7-ed28-4256-9bbf-f2ead87286c4.jpg#400x400\",\"w\":400,\"h\":400}}],\"price\":38,\"title\":\"【小久保】鑽石流理台刷 海綿 清潔 打掃 廁所浴室 水垢污漬 日本製 ☆綠光森林☆\",\"type\":1,\"watchlistCount\":17},{\"id\":\"100455218663\",\"isBargain\":false,\"isFetching\":false,\"isWatching\":false,\"image\":\"https://s.yimg.com/xd/api/res/1.2/bQQaJaoI3WtiSlhHMOJ8oQ--/YXBwaWQ9eXR3YXVjdGlvbnNlcnZpY2U7aD00MDA7cT04NTtyb3RhdGU9YXV0bzt3PTQwMA--/https://s.yimg.com/ob/image/119565ad-6d20-4c86-b77d-c80fb634ecde.jpg#400x400\",\"images\":[{\"sm\":{\"src\":\"https://s.yimg.com/xd/api/res/1.2/bQQaJaoI3WtiSlhHMOJ8oQ--/YXBwaWQ9eXR3YXVjdGlvbnNlcnZpY2U7aD00MDA7cT04NTtyb3RhdGU9YXV0bzt3PTQwMA--/https://s.yimg.com/ob/image/119565ad-6d20-4c86-b77d-c80fb634ecde.jpg#400x400\",\"w\":400,\"h\":400},\"md\":{\"src\":\"https://s.yimg.com/xd/api/res/1.2/bQQaJaoI3WtiSlhHMOJ8oQ--/YXBwaWQ9eXR3YXVjdGlvbnNlcnZpY2U7aD00MDA7cT04NTtyb3RhdGU9YXV0bzt3PTQwMA--/https://s.yimg.com/ob/image/119565ad-6d20-4c86-b77d-c80fb634ecde.jpg#400x400\",\"w\":400,\"h\":400},\"lg\":{\"src\":\"https://s.yimg.com/xd/api/res/1.2/bQQaJaoI3WtiSlhHMOJ8oQ--/YXBwaWQ9eXR3YXVjdGlvbnNlcnZpY2U7aD00MDA7cT04NTtyb3RhdGU9YXV0bzt3PTQwMA--/https://s.yimg.com/ob/image/119565ad-6d20-4c86-b77d-c80fb634ecde.jpg#400x400\",\"w\":400,\"h\":400}}],\"price\":128,\"title\":\"2入 日本製 愛詩庭(雞仔牌) 洗衣槽除菌去污劑 清洗劑 清潔劑 洗槽劑 ☆綠光森林☆\",\"type\":1,\"watchlistCount\":7},{\"id\":\"100327560510\",\"isBargain\":false,\"isFetching\":false,\"isWatching\":false,\"image\":\"https://ct.yimg.com/xd/api/res/1.2/reiP03UGyqZ_w1vg_Qzsrw--/YXBwaWQ9eXR3YXVjdGlvbnNlcnZpY2U7aD00MDA7cT04NTtyb3RhdGU9YXV0bzt3PTQwMDtwPW9wZW5jdg--/https://s.yimg.com/ob/image/c2f08703-b9bc-416b-a025-598f8d411af6.jpg#400x400\",\"images\":[{\"sm\":{\"src\":\"https://ct.yimg.com/xd/api/res/1.2/reiP03UGyqZ_w1vg_Qzsrw--/YXBwaWQ9eXR3YXVjdGlvbnNlcnZpY2U7aD00MDA7cT04NTtyb3RhdGU9YXV0bzt3PTQwMDtwPW9wZW5jdg--/https://s.yimg.com/ob/image/c2f08703-b9bc-416b-a025-598f8d411af6.jpg#400x400\",\"w\":400,\"h\":400},\"md\":{\"src\":\"https://ct.yimg.com/xd/api/res/1.2/reiP03UGyqZ_w1vg_Qzsrw--/YXBwaWQ9eXR3YXVjdGlvbnNlcnZpY2U7aD00MDA7cT04NTtyb3RhdGU9YXV0bzt3PTQwMDtwPW9wZW5jdg--/https://s.yimg.com/ob/image/c2f08703-b9bc-416b-a025-598f8d411af6.jpg#400x400\",\"w\":400,\"h\":400},\"lg\":{\"src\":\"https://ct.yimg.com/xd/api/res/1.2/reiP03UGyqZ_w1vg_Qzsrw--/YXBwaWQ9eXR3YXVjdGlvbnNlcnZpY2U7aD00MDA7cT04NTtyb3RhdGU9YXV0bzt3PTQwMDtwPW9wZW5jdg--/https://s.yimg.com/ob/image/c2f08703-b9bc-416b-a025-598f8d411af6.jpg#400x400\",\"w\":400,\"h\":400}}],\"price\":199,\"title\":\"【INOMATA】多功能瀝水盤-3色 日本製 杯架 杯子托盤 杯盤收納 廚房收納☆綠光森林☆\",\"type\":1,\"watchlistCount\":13},{\"id\":\"100364245576\",\"isBargain\":false,\"isFetching\":false,\"isWatching\":false,\"image\":\"https://s.yimg.com/xd/api/res/1.2/ylLm8LNPOyCCJKf.g3H1Ag--/YXBwaWQ9eXR3YXVjdGlvbnNlcnZpY2U7aD00MDA7cT04NTtyb3RhdGU9YXV0bzt3PTQwMA--/https://s.yimg.com/ob/image/d3d2b4a9-11e9-4981-a923-f73814380885.jpg#400x400\",\"images\":[{\"sm\":{\"src\":\"https://s.yimg.com/xd/api/res/1.2/ylLm8LNPOyCCJKf.g3H1Ag--/YXBwaWQ9eXR3YXVjdGlvbnNlcnZpY2U7aD00MDA7cT04NTtyb3RhdGU9YXV0bzt3PTQwMA--/https://s.yimg.com/ob/image/d3d2b4a9-11e9-4981-a923-f73814380885.jpg#400x400\",\"w\":400,\"h\":400},\"md\":{\"src\":\"https://s.yimg.com/xd/api/res/1.2/ylLm8LNPOyCCJKf.g3H1Ag--/YXBwaWQ9eXR3YXVjdGlvbnNlcnZpY2U7aD00MDA7cT04NTtyb3RhdGU9YXV0bzt3PTQwMA--/https://s.yimg.com/ob/image/d3d2b4a9-11e9-4981-a923-f73814380885.jpg#400x400\",\"w\":400,\"h\":400},\"lg\":{\"src\":\"https://s.yimg.com/xd/api/res/1.2/ylLm8LNPOyCCJKf.g3H1Ag--/YXBwaWQ9eXR3YXVjdGlvbnNlcnZpY2U7aD00MDA7cT04NTtyb3RhdGU9YXV0bzt3PTQwMA--/https://s.yimg.com/ob/image/d3d2b4a9-11e9-4981-a923-f73814380885.jpg#400x400\",\"w\":400,\"h\":400}}],\"price\":55,\"title\":\"ECHO蜂蜜罐110ml 醬料罐 玻璃罐 調味罐 附盒裝 ☆綠光森林☆\",\"type\":1,\"watchlistCount\":11}],\"oImage\":[{\"resize00\":{\"url\":\"https://ct.yimg.com/xd/api/res/1.2/GOZpHoe5qM9KZxWPhiRflg--/YXBwaWQ9eXR3YXVjdGlvbnNlcnZpY2U7aD04MDA7cT04NTtyb3RhdGU9YXV0bzt3PTgwMDtwPW9wZW5jdg--/https://s.yimg.com/ob/image/7f1ef15e-1de3-4dd1-915c-1a45f461833d.jpg\",\"width\":800,\"height\":800},\"resize01\":{\"url\":\"https://ct.yimg.com/xd/api/res/1.2/CquGhmvBa6DGYzlGQ44SNQ--/YXBwaWQ9eXR3YXVjdGlvbnNlcnZpY2U7aD00MDA7cT04NTtyb3RhdGU9YXV0bzt3PTQwMDtwPW9wZW5jdg--/https://s.yimg.com/ob/image/7f1ef15e-1de3-4dd1-915c-1a45f461833d.jpg\",\"width\":400,\"height\":400},\"resize02\":{\"url\":\"https://ct.yimg.com/xd/api/res/1.2/EgKX9KmpW7eCy37XZGs6NQ--/YXBwaWQ9eXR3YXVjdGlvbnNlcnZpY2U7aD0yMjA7cT04NTtyb3RhdGU9YXV0bztzcj0xLjI7c3M9MS4yO3c9MjIwO3A9b3BlbmN2/https://s.yimg.com/ob/image/7f1ef15e-1de3-4dd1-915c-1a45f461833d.jpg\",\"width\":220,\"height\":220},\"resize03\":{\"url\":\"https://ct.yimg.com/xd/api/res/1.2/5KmH4i6fhgfkzMgyabI3Vw--/YXBwaWQ9eXR3YXVjdGlvbnNlcnZpY2U7aD0xNTA7cT04NTtyb3RhdGU9YXV0bztzcj0xLjI7c3M9MS4yO3c9MTUwO3A9b3BlbmN2/https://s.yimg.com/ob/image/7f1ef15e-1de3-4dd1-915c-1a45f461833d.jpg\",\"width\":150,\"height\":150},\"resize04\":{\"url\":\"https://ct.yimg.com/xd/api/res/1.2/nSQ7vUItFtva55cJsBsKog--/YXBwaWQ9eXR3YXVjdGlvbnNlcnZpY2U7aD0yMDA7cT04NTtyb3RhdGU9YXV0bztzcj0xLjI7c3M9MS4yO3c9MjAwO3A9b3BlbmN2/https://s.yimg.com/ob/image/7f1ef15e-1de3-4dd1-915c-1a45f461833d.jpg\",\"width\":200,\"height\":200},\"resize05\":{\"url\":\"https://ct.yimg.com/xd/api/res/1.2/HYcTxZ5X8b542uYKS0m5eg--/YXBwaWQ9eXR3YXVjdGlvbnNlcnZpY2U7aD03MDA7cT04NTtyb3RhdGU9YXV0bzt3PTcwMDtwPW9wZW5jdg--/https://s.yimg.com/ob/image/7f1ef15e-1de3-4dd1-915c-1a45f461833d.jpg\",\"width\":700,\"height\":700},\"crop00\":{\"url\":\"https://ct.yimg.com/xd/api/res/1.2/5FmM9YGDwLCXDOoxNLpj4w--/YXBwaWQ9eXR3YXVjdGlvbnNlcnZpY2U7Zmk9ZmlsbDtoPTgwMDtxPTg1O3JvdGF0ZT1hdXRvO3c9ODAwO3A9b3BlbmN2/https://s.yimg.com/ob/image/7f1ef15e-1de3-4dd1-915c-1a45f461833d.jpg\",\"width\":800,\"height\":800},\"crop01\":{\"url\":\"https://ct.yimg.com/xd/api/res/1.2/ackBVTkaXo1ciNUC2_pjCQ--/YXBwaWQ9eXR3YXVjdGlvbnNlcnZpY2U7Zmk9ZmlsbDtoPTQwMDtxPTg1O3JvdGF0ZT1hdXRvO3c9NDAwO3A9b3BlbmN2/https://s.yimg.com/ob/image/7f1ef15e-1de3-4dd1-915c-1a45f461833d.jpg\",\"width\":400,\"height\":400},\"crop02\":{\"url\":\"https://ct.yimg.com/xd/api/res/1.2/.8g4yt4NGwhsf6aAdViWkQ--/YXBwaWQ9eXR3YXVjdGlvbnNlcnZpY2U7Zmk9ZmlsbDtoPTIyMDtxPTg1O3JvdGF0ZT1hdXRvO3NyPTEuMjtzcz0xLjI7dz0yMjA7cD1vcGVuY3Y-/https://s.yimg.com/ob/image/7f1ef15e-1de3-4dd1-915c-1a45f461833d.jpg\",\"width\":220,\"height\":220},\"crop03\":{\"url\":\"https://ct.yimg.com/xd/api/res/1.2/VqCNUMy.kLSGlwAD5wgodg--/YXBwaWQ9eXR3YXVjdGlvbnNlcnZpY2U7Zmk9ZmlsbDtoPTE1MDtxPTg1O3JvdGF0ZT1hdXRvO3NyPTEuMjtzcz0xLjI7dz0xNTA7cD1vcGVuY3Y-/https://s.yimg.com/ob/image/7f1ef15e-1de3-4dd1-915c-1a45f461833d.jpg\",\"width\":150,\"height\":150},\"crop04\":{\"url\":\"https://ct.yimg.com/xd/api/res/1.2/_tNtK93d1nfyMfS26vy67Q--/YXBwaWQ9eXR3YXVjdGlvbnNlcnZpY2U7Zmk9ZmlsbDtoPTkwO3E9OTA7cm90YXRlPWF1dG87c3I9MS4yO3NzPTEuMjt3PTkwO3A9b3BlbmN2/https://s.yimg.com/ob/image/7f1ef15e-1de3-4dd1-915c-1a45f461833d.jpg\",\"width\":90,\"height\":90},\"crop05\":{\"url\":\"https://ct.yimg.com/xd/api/res/1.2/ohgjNfqdJfEtIkCf.JNpSA--/YXBwaWQ9eXR3YXVjdGlvbnNlcnZpY2U7Zmk9ZmlsbDtoPTY1O3E9OTA7cm90YXRlPWF1dG87c3I9MS4yO3NzPTEuMjt3PTY1O3A9b3BlbmN2/https://s.yimg.com/ob/image/7f1ef15e-1de3-4dd1-915c-1a45f461833d.jpg\",\"width\":65,\"height\":65},\"crop06\":{\"url\":\"https://ct.yimg.com/xd/api/res/1.2/e5wtfsNJsuEz0CiQHhPS6g--/YXBwaWQ9eXR3YXVjdGlvbnNlcnZpY2U7Zmk9ZmlsbDtoPTQ1O3E9OTA7cm90YXRlPWF1dG87c3I9MS4yO3NzPTEuMjt3PTQ1O3A9b3BlbmN2/https://s.yimg.com/ob/image/7f1ef15e-1de3-4dd1-915c-1a45f461833d.jpg\",\"width\":45,\"height\":45},\"origin\":{\"url\":\"https://ct.yimg.com/xd/api/res/1.2/GOZpHoe5qM9KZxWPhiRflg--/YXBwaWQ9eXR3YXVjdGlvbnNlcnZpY2U7aD04MDA7cT04NTtyb3RhdGU9YXV0bzt3PTgwMDtwPW9wZW5jdg--/https://s.yimg.com/ob/image/7f1ef15e-1de3-4dd1-915c-1a45f461833d.jpg\",\"width\":800,\"height\":800},\"src\":{\"url\":\"https://s.yimg.com/ob/image/7f1ef15e-1de3-4dd1-915c-1a45f461833d.jpg\",\"width\":800,\"height\":800}}],\"totalQuantity\":9,\"endTime\":0,\"custCatId\":\"59\"},\"seller\":{\"avatar\":\"https://ct.yimg.com/cy/4591/37447101723_f25b7d_192sq.jpg\",\"category\":{\"isInitialized\":false,\"isFetching\":false,\"totalItemCount\":482,\"categories\":[]},\"favoriteSeller\":{\"isInitialized\":false,\"isFetching\":false,\"isFavorite\":false},\"followerCount\":1708,\"id\":\"Y3489416698\",\"isStore\":true,\"isSuspended\":false,\"isYapeeVerified\":true,\"lastLoginTimestamp\":1539673635000,\"name\":\"Green Forest 日韓用品 ※附發票\",\"description\":\"合法進口【公司貨】附發票、品質為您把關~兒童用品/日韓熱銷商品/迪士尼系列，歡迎批發哦！(✿◠‿◠)\",\"listingPromotions\":{\"promotions\":[],\"isInitialized\":false},\"rating\":{\"positive\":5486,\"negative\":3,\"neutral\":13,\"count\":5483,\"positiveRatio\":\"1.00\",\"isInitialized\":true,\"isFetching\":false},\"recommendation\":{\"listings\":[],\"isInitialized\":false,\"isFetching\":false},\"storeLogo\":\"https://s.yimg.com/xd/api/res/1.2/QPOCKOsTuTyJjVPmAD01Qw--/YXBwaWQ9eXR3YXVjdGlvbnNlcnZpY2U7aD0xOTI7cT04NTtyb3RhdGU9YXV0bzt3PTE5Mg--/https://s.yimg.com/ma/abe2/storelogo/Y3489416698.jpg\",\"unrepliedListingQna\":{\"isInitialized\":false,\"isFetching\":false,\"count\":\"-\",\"qnas\":[]},\"listings\":{\"total\":0,\"hits\":[],\"category\":[],\"cateTree\":[],\"cateInfo\":{}},\"screenName\":\"Y3489416698\"},\"sidebar\":{\"adList\":{\"adListings\":[],\"adListingsLoaded\":false,\"isInitialized\":false,\"isFetching\":false,\"sellerListings\":[],\"sellerListingsLoaded\":false},\"buyee\":[{\"title\":\"おそらく未使用【NITORI/ニトリ　モチモチクッション×4個　まとめ売り！ブラウン　直径約40cm】リビング　雑貨\",\"link\":\"https://buyee.jp/item/yahoo/auction/x573626343?lang=cht&rc=twy_item_modu&mrc1=twy&mrc2=item_modu&mrc3=link01&utm_source=twy&utm_medium=twy_item_pc\",\"img\":\"https://wing-auctions.c.yimg.jp/sim?furl=auctions.c.yimg.jp/images.auctions.yahoo.co.jp/image/dr000/auc0410/users/fe20095a56e7488c7a26f126572d34b453389254/i-img1200x900-1539671386op5hc51041492.jpg&dc=1&sr.fs=20000\",\"price\":\"289\",\"priceJP\":\"1000\",\"endTime\":1540124403,\"bidTimes\":\"0\"},{\"title\":\"ハンドメイド　手作り　陶芸　　★　シーサー　白　★\",\"link\":\"https://buyee.jp/item/yahoo/auction/l476668316?lang=cht&rc=twy_item_modu&mrc1=twy&mrc2=item_modu&mrc3=link02&utm_source=twy&utm_medium=twy_item_pc\",\"img\":\"https://wing-auctions.c.yimg.jp/sim?furl=auctions.c.yimg.jp/images.auctions.yahoo.co.jp/image/dr000/auc0410/users/5/6/3/9/ryo11tatu5-img500x334-1539554474sy4zmb21428.jpg&dc=1&sr.fs=20000\",\"price\":\"289\",\"priceJP\":\"1000\",\"endTime\":1540126874,\"bidTimes\":\"1\"},{\"title\":\"倉敷ノッティング　椅子敷き　倉敷本染手織研究所\",\"link\":\"https://buyee.jp/item/yahoo/auction/g301332818?lang=cht&rc=twy_item_modu&mrc1=twy&mrc2=item_modu&mrc3=link03&utm_source=twy&utm_medium=twy_item_pc\",\"img\":\"https://wing-auctions.c.yimg.jp/sim?furl=auctions.c.yimg.jp/images.auctions.yahoo.co.jp/image/dr000/auc0410/users/91c8733bc3b99b82471da95519246b8e32be3f4b/i-img1200x900-1539609417a4jd0o1011575.jpg&dc=1&sr.fs=20000\",\"price\":\"289\",\"priceJP\":\"1000\",\"endTime\":1540214186,\"bidTimes\":\"1\"},{\"title\":\"～ピンク紫陽花ハーバリウム～22cm\",\"link\":\"https://buyee.jp/item/yahoo/auction/e310345520?lang=cht&rc=twy_item_modu&mrc1=twy&mrc2=item_modu&mrc3=link04&utm_source=twy&utm_medium=twy_item_pc\",\"img\":\"https://wing-auctions.c.yimg.jp/sim?furl=auctions.c.yimg.jp/images.auctions.yahoo.co.jp/image/dr000/auc0410/users/cda0148b8139548cbf068fcecebbbf89164accdc/i-img768x1024-1539669091qvpn421029268.jpg&dc=1&sr.fs=20000\",\"price\":\"188\",\"priceJP\":\"650\",\"endTime\":1539780693,\"bidTimes\":\"0\"},{\"title\":\"ワイヤーアート　　ブラックバック　　壁掛け\",\"link\":\"https://buyee.jp/item/yahoo/auction/r277249623?lang=cht&rc=twy_item_modu&mrc1=twy&mrc2=item_modu&mrc3=link05&utm_source=twy&utm_medium=twy_item_pc\",\"img\":\"https://wing-auctions.c.yimg.jp/sim?furl=auctions.c.yimg.jp/images.auctions.yahoo.co.jp/image/dr000/auc0410/users/1a7b9770189b60bebf827084a9388139dd11c495/i-img867x1200-1539654300ckpowt1161178.jpg&dc=1&sr.fs=20000\",\"price\":\"2888\",\"priceJP\":\"10000\",\"endTime\":1539952806,\"bidTimes\":\"0\"},{\"title\":\"☆添配【お色気河童と葉形織部皿】雨宮忍作 盆栽・山野草・水石展の添えに\",\"link\":\"https://buyee.jp/item/yahoo/auction/c687804011?lang=cht&rc=twy_item_modu&mrc1=twy&mrc2=item_modu&mrc3=link06&utm_source=twy&utm_medium=twy_item_pc\",\"img\":\"https://wing-auctions.c.yimg.jp/sim?furl=auctions.c.yimg.jp/images.auctions.yahoo.co.jp/image/dr000/auc0410/users/a740cb602b7c0438f405dd50ac66e4f377235a7d/i-img1200x800-1539669864byl58c799617.jpg&dc=1&sr.fs=20000\",\"price\":\"289\",\"priceJP\":\"1000\",\"endTime\":1540127019,\"bidTimes\":\"0\"},{\"title\":\"☆添配【達磨地蔵・銅緑釉】雨宮忍作　盆栽・山野草・水石展の添えに\",\"link\":\"https://buyee.jp/item/yahoo/auction/x574422177?lang=cht&rc=twy_item_modu&mrc1=twy&mrc2=item_modu&mrc3=link07&utm_source=twy&utm_medium=twy_item_pc\",\"img\":\"https://wing-auctions.c.yimg.jp/sim?furl=auctions.c.yimg.jp/images.auctions.yahoo.co.jp/image/dr000/auc0410/users/a740cb602b7c0438f405dd50ac66e4f377235a7d/i-img1200x800-15396692857d8tqj1155330.jpg&dc=1&sr.fs=20000\",\"price\":\"289\",\"priceJP\":\"1000\",\"endTime\":1540126436,\"bidTimes\":\"0\"},{\"title\":\"ジョン・デリアン　デコパージュプレート　JOHN DERIAN H.P.DECO　アメリカ製　ヴィンテージ　虫　昆虫\",\"link\":\"https://buyee.jp/item/yahoo/auction/e309840660?lang=cht&rc=twy_item_modu&mrc1=twy&mrc2=item_modu&mrc3=link08&utm_source=twy&utm_medium=twy_item_pc\",\"img\":\"https://wing-auctions.c.yimg.jp/sim?furl=auctions.c.yimg.jp/images.auctions.yahoo.co.jp/image/dr000/auc0410/users/068e0dde8bf59611d054186bb12b9d9305c32fc5/i-img960x960-1539497003khc1iv916357.jpg&dc=1&sr.fs=20000\",\"price\":\"896\",\"priceJP\":\"3100\",\"endTime\":1539950605,\"bidTimes\":\"2\"},{\"title\":\"銘木屋久杉　泡瘤、油木　ハンドメイド、オブジェ用板材　厚さ6.5cm　重さ980g\",\"link\":\"https://buyee.jp/item/yahoo/auction/l477005179?lang=cht&rc=twy_item_modu&mrc1=twy&mrc2=item_modu&mrc3=link09&utm_source=twy&utm_medium=twy_item_pc\",\"img\":\"https://wing-auctions.c.yimg.jp/sim?furl=auctions.c.yimg.jp/images.auctions.yahoo.co.jp/image/dr000/auc0410/users/46bd6dbde47d5c3b1ad1d1234a7b0fb1b5a650f6/i-img720x720-1539588150lre0vj988485.jpg&dc=1&sr.fs=20000\",\"price\":\"36967\",\"priceJP\":\"128000\",\"endTime\":1540211439,\"bidTimes\":\"0\"},{\"title\":\"北欧雑貨　スウェーデン　アンティーク　ブンデン　ローセンゴング織り　タペストリー　クリスマス　壁掛け　壁飾り\",\"link\":\"https://buyee.jp/item/yahoo/auction/d314989874?lang=cht&rc=twy_item_modu&mrc1=twy&mrc2=item_modu&mrc3=link10&utm_source=twy&utm_medium=twy_item_pc\",\"img\":\"https://wing-auctions.c.yimg.jp/sim?furl=auctions.c.yimg.jp/images.auctions.yahoo.co.jp/image/dr000/auc0410/users/aa7429014e8cd751ba41518449af5f83c0b8d90b/i-img600x450-1539522823tlzrni40937.jpg&dc=1&sr.fs=20000\",\"price\":\"1589\",\"priceJP\":\"5500\",\"endTime\":1540124024,\"bidTimes\":\"0\"},{\"title\":\"ハンドメイド☆フェルト☆お正月タペストリー☆飾り☆七福神☆龍☆羽子板☆福☆手作り\",\"link\":\"https://buyee.jp/item/yahoo/auction/b342651234?lang=cht&rc=twy_item_modu&mrc1=twy&mrc2=item_modu&mrc3=link11&utm_source=twy&utm_medium=twy_item_pc\",\"img\":\"https://wing-auctions.c.yimg.jp/sim?furl=auctions.c.yimg.jp/images.auctions.yahoo.co.jp/image/dr000/auc0410/users/9ebac6cbcb509d2f41dad77856801c5afef8dd18/i-img1200x1200-1539592353yl2pcv1129569.jpg&dc=1&sr.fs=20000\",\"price\":\"954\",\"priceJP\":\"3300\",\"endTime\":1539866009,\"bidTimes\":\"4\"},{\"title\":\"崖の上の白い家　　　\",\"link\":\"https://buyee.jp/item/yahoo/auction/v587523091?lang=cht&rc=twy_item_modu&mrc1=twy&mrc2=item_modu&mrc3=link12&utm_source=twy&utm_medium=twy_item_pc\",\"img\":\"https://wing-auctions.c.yimg.jp/sim?furl=auctions.c.yimg.jp/images.auctions.yahoo.co.jp/image/dr000/auc0410/users/1a7b9770189b60bebf827084a9388139dd11c495/i-img1062x1200-1539392743giifs7859773.jpg&dc=1&sr.fs=20000\",\"price\":\"578\",\"priceJP\":\"2000\",\"endTime\":1539694796,\"bidTimes\":\"1\"},{\"title\":\"おそらく未使用【NITORI/ニトリ　モチモチクッション　抹茶色　×4個　まとめ売り！直径約40cm】リビング　雑貨\",\"link\":\"https://buyee.jp/item/yahoo/auction/s615113502?lang=cht&rc=twy_item_modu&mrc1=twy&mrc2=item_modu&mrc3=link13&utm_source=twy&utm_medium=twy_item_pc\",\"img\":\"https://wing-auctions.c.yimg.jp/sim?furl=auctions.c.yimg.jp/images.auctions.yahoo.co.jp/image/dr000/auc0410/users/fe20095a56e7488c7a26f126572d34b453389254/i-img1200x900-1539672156jiex1e587209.jpg&dc=1&sr.fs=20000\",\"price\":\"289\",\"priceJP\":\"1000\",\"endTime\":1540125293,\"bidTimes\":\"0\"},{\"title\":\"【 手毬 】 大きさ色々 33個SET ★ てまり 手まり 手鞠 伝統工芸 吊るし飾り 刺繍 手作り ハンドメイド 和小物 和柄 和風 インテリア 飾り\",\"link\":\"https://buyee.jp/item/yahoo/auction/u231022601?lang=cht&rc=twy_item_modu&mrc1=twy&mrc2=item_modu&mrc3=link14&utm_source=twy&utm_medium=twy_item_pc\",\"img\":\"https://wing-auctions.c.yimg.jp/sim?furl=auctions.c.yimg.jp/images.auctions.yahoo.co.jp/image/dr000/auc0410/users/25537287fa4eab2ce87193f9369189e76989c87a/i-img1200x900-1539594852ic1umj994853.jpg&dc=1&sr.fs=20000\",\"price\":\"289\",\"priceJP\":\"1000\",\"endTime\":1539870275,\"bidTimes\":\"0\"},{\"title\":\"銘木屋久杉　泡瘤　ハンドメイド、オブジェ用板材　厚さ5.8cm\",\"link\":\"https://buyee.jp/item/yahoo/auction/x573358074?lang=cht&rc=twy_item_modu&mrc1=twy&mrc2=item_modu&mrc3=link15&utm_source=twy&utm_medium=twy_item_pc\",\"img\":\"https://wing-auctions.c.yimg.jp/sim?furl=auctions.c.yimg.jp/images.auctions.yahoo.co.jp/image/dr000/auc0410/users/46bd6dbde47d5c3b1ad1d1234a7b0fb1b5a650f6/i-img720x720-1539587871nbm5tx978892.jpg&dc=1&sr.fs=20000\",\"price\":\"10108\",\"priceJP\":\"35000\",\"endTime\":1540210964,\"bidTimes\":\"0\"},{\"title\":\"ワイン＆コルクスクリューの壁飾り、中古　H9\",\"link\":\"https://buyee.jp/item/yahoo/auction/q243253300?lang=cht&rc=twy_item_modu&mrc1=twy&mrc2=item_modu&mrc3=link16&utm_source=twy&utm_medium=twy_item_pc\",\"img\":\"https://wing-auctions.c.yimg.jp/sim?furl=auctions.c.yimg.jp/images.auctions.yahoo.co.jp/image/dr000/auc0410/users/ceff8134ac0e49b3d762fc2b46201c20def5d531/i-img640x480-1539607779zaficl1004791.jpg&dc=1&sr.fs=20000\",\"price\":\"289\",\"priceJP\":\"1000\",\"endTime\":1540212471,\"bidTimes\":\"0\"},{\"title\":\"木彫り　置物　ザトウクジラ親\",\"link\":\"https://buyee.jp/item/yahoo/auction/j519169106?lang=cht&rc=twy_item_modu&mrc1=twy&mrc2=item_modu&mrc3=link17&utm_source=twy&utm_medium=twy_item_pc\",\"img\":\"https://wing-auctions.c.yimg.jp/sim?furl=auctions.c.yimg.jp/images.auctions.yahoo.co.jp/image/dr000/auc0410/users/1d171b2192cdb4c4482e1c36f8348c82a820d409/i-img1024x768-1539558659ijynwf969616.jpg&dc=1&sr.fs=20000\",\"price\":\"867\",\"priceJP\":\"3000\",\"endTime\":1539860869,\"bidTimes\":\"0\"},{\"title\":\"おそらく未使用【ニトリ/円座クッション・モチモチクッション60R NクールボーダーH ×3個　計4個セット！】ドーナツクッション　貝殻柄　\",\"link\":\"https://buyee.jp/item/yahoo/auction/l477020592?lang=cht&rc=twy_item_modu&mrc1=twy&mrc2=item_modu&mrc3=link18&utm_source=twy&utm_medium=twy_item_pc\",\"img\":\"https://wing-auctions.c.yimg.jp/sim?furl=auctions.c.yimg.jp/images.auctions.yahoo.co.jp/image/dr000/auc0410/users/fe20095a56e7488c7a26f126572d34b453389254/i-img1200x900-15396691579coexa1155198.jpg&dc=1&sr.fs=20000\",\"price\":\"289\",\"priceJP\":\"1000\",\"endTime\":1540039493,\"bidTimes\":\"0\"},{\"title\":\"ハンドメイド♪ステンドグラス風　おうち型　ハロウィンの置物\",\"link\":\"https://buyee.jp/item/yahoo/auction/u231241501?lang=cht&rc=twy_item_modu&mrc1=twy&mrc2=item_modu&mrc3=link19&utm_source=twy&utm_medium=twy_item_pc\",\"img\":\"https://wing-auctions.c.yimg.jp/sim?furl=auctions.c.yimg.jp/images.auctions.yahoo.co.jp/image/dr000/auc0410/users/9ff76c28d57653414ae4db4ce96b3a8e3f16c4f5/i-img1200x900-1539667015guq18j1177449.jpg&dc=1&sr.fs=20000\",\"price\":\"145\",\"priceJP\":\"500\",\"endTime\":1540129636,\"bidTimes\":\"0\"},{\"title\":\"イタリア製のオルゴール付壁飾り。アコーディオンを奏でるキューピット。中古　H7\",\"link\":\"https://buyee.jp/item/yahoo/auction/g301318090?lang=cht&rc=twy_item_modu&mrc1=twy&mrc2=item_modu&mrc3=link20&utm_source=twy&utm_medium=twy_item_pc\",\"img\":\"https://wing-auctions.c.yimg.jp/sim?furl=auctions.c.yimg.jp/images.auctions.yahoo.co.jp/image/dr000/auc0410/users/ceff8134ac0e49b3d762fc2b46201c20def5d531/i-img480x640-15396072891kooyw1011159.jpg&dc=1&sr.fs=20000\",\"price\":\"289\",\"priceJP\":\"1000\",\"endTime\":1540211985,\"bidTimes\":\"1\"}],\"stickerAds\":{\"isInitialized\":false,\"isFetching\":false,\"list\":[]}},\"cmsAd\":{\"waterMark\":{\"link\":\"https://tw.promo.yahoo.com/2018auction/anniversarysale/\",\"image\":\"https://s.yimg.com/vd/ec-material/auction_tw_myauction/m1-g_sign1-f_imgUrl-5bc3fc05d51ee.jpg\"}},\"toggle\":{\"shippingFeePromotion\":{\"name\":\"\",\"isActive\":false,\"start\":1505865600000,\"end\":1505865600000,\"paymentTypes\":[],\"shippingTypes\":[]}}}\n"
     ]
    }
   ],
   "source": [
    "print(gotjson)"
   ]
  },
  {
   "cell_type": "code",
   "execution_count": 32,
   "metadata": {
    "scrolled": true
   },
   "outputs": [
    {
     "ename": "NoSuchElementException",
     "evalue": "Message: no such element: Unable to locate element: {\"method\":\"css selector\",\"selector\":\"input.shopee-button-outline\"}\n  (Session info: chrome=68.0.3440.106)\n  (Driver info: chromedriver=2.40.565498 (ea082db3280dd6843ebfb08a625e3eb905c4f5ab),platform=Windows NT 10.0.17134 x86_64)\n",
     "output_type": "error",
     "traceback": [
      "\u001b[1;31m---------------------------------------------------------------------------\u001b[0m",
      "\u001b[1;31mNoSuchElementException\u001b[0m                    Traceback (most recent call last)",
      "\u001b[1;32m<ipython-input-32-34e093cfc98d>\u001b[0m in \u001b[0;36m<module>\u001b[1;34m()\u001b[0m\n\u001b[0;32m     16\u001b[0m \u001b[0mbrowser\u001b[0m\u001b[1;33m.\u001b[0m\u001b[0mget\u001b[0m\u001b[1;33m(\u001b[0m\u001b[1;34m'https://shopee.tw/product/2019696/'\u001b[0m\u001b[1;33m+\u001b[0m\u001b[0mpdid\u001b[0m\u001b[1;33m)\u001b[0m\u001b[1;33m\u001b[0m\u001b[0m\n\u001b[0;32m     17\u001b[0m \u001b[0mtime\u001b[0m\u001b[1;33m.\u001b[0m\u001b[0msleep\u001b[0m\u001b[1;33m(\u001b[0m\u001b[1;36m1\u001b[0m\u001b[1;33m)\u001b[0m \u001b[1;31m#第一次讀取會失敗 可能要加點選事件，或是觀看視窗的事件 資料可能放在dataLayer[5] #判斷4有無值，無值則layer[5]\u001b[0m\u001b[1;33m\u001b[0m\u001b[0m\n\u001b[1;32m---> 18\u001b[1;33m \u001b[0mbrowser\u001b[0m\u001b[1;33m.\u001b[0m\u001b[0mfind_element_by_css_selector\u001b[0m\u001b[1;33m(\u001b[0m\u001b[1;34m\"input.shopee-button-outline\"\u001b[0m\u001b[1;33m)\u001b[0m\u001b[1;33m.\u001b[0m\u001b[0mclick\u001b[0m\u001b[1;33m(\u001b[0m\u001b[1;33m)\u001b[0m\u001b[1;33m\u001b[0m\u001b[0m\n\u001b[0m\u001b[0;32m     19\u001b[0m \u001b[1;32mtry\u001b[0m\u001b[1;33m:\u001b[0m\u001b[1;33m\u001b[0m\u001b[0m\n\u001b[0;32m     20\u001b[0m     \u001b[0mbrowser\u001b[0m\u001b[1;33m.\u001b[0m\u001b[0mexecute_script\u001b[0m\u001b[1;33m(\u001b[0m\u001b[1;34m\"return document.getElementById('main').innerHTML = JSON.stringify(dataLayer[4].info.impressions[0].targetData.item)\"\u001b[0m\u001b[1;33m)\u001b[0m\u001b[1;33m\u001b[0m\u001b[0m\n",
      "\u001b[1;32mC:\\ProgramData\\Anaconda3\\lib\\site-packages\\selenium\\webdriver\\remote\\webdriver.py\u001b[0m in \u001b[0;36mfind_element_by_css_selector\u001b[1;34m(self, css_selector)\u001b[0m\n\u001b[0;32m    595\u001b[0m             \u001b[0melement\u001b[0m \u001b[1;33m=\u001b[0m \u001b[0mdriver\u001b[0m\u001b[1;33m.\u001b[0m\u001b[0mfind_element_by_css_selector\u001b[0m\u001b[1;33m(\u001b[0m\u001b[1;34m'#foo'\u001b[0m\u001b[1;33m)\u001b[0m\u001b[1;33m\u001b[0m\u001b[0m\n\u001b[0;32m    596\u001b[0m         \"\"\"\n\u001b[1;32m--> 597\u001b[1;33m         \u001b[1;32mreturn\u001b[0m \u001b[0mself\u001b[0m\u001b[1;33m.\u001b[0m\u001b[0mfind_element\u001b[0m\u001b[1;33m(\u001b[0m\u001b[0mby\u001b[0m\u001b[1;33m=\u001b[0m\u001b[0mBy\u001b[0m\u001b[1;33m.\u001b[0m\u001b[0mCSS_SELECTOR\u001b[0m\u001b[1;33m,\u001b[0m \u001b[0mvalue\u001b[0m\u001b[1;33m=\u001b[0m\u001b[0mcss_selector\u001b[0m\u001b[1;33m)\u001b[0m\u001b[1;33m\u001b[0m\u001b[0m\n\u001b[0m\u001b[0;32m    598\u001b[0m \u001b[1;33m\u001b[0m\u001b[0m\n\u001b[0;32m    599\u001b[0m     \u001b[1;32mdef\u001b[0m \u001b[0mfind_elements_by_css_selector\u001b[0m\u001b[1;33m(\u001b[0m\u001b[0mself\u001b[0m\u001b[1;33m,\u001b[0m \u001b[0mcss_selector\u001b[0m\u001b[1;33m)\u001b[0m\u001b[1;33m:\u001b[0m\u001b[1;33m\u001b[0m\u001b[0m\n",
      "\u001b[1;32mC:\\ProgramData\\Anaconda3\\lib\\site-packages\\selenium\\webdriver\\remote\\webdriver.py\u001b[0m in \u001b[0;36mfind_element\u001b[1;34m(self, by, value)\u001b[0m\n\u001b[0;32m    964\u001b[0m         return self.execute(Command.FIND_ELEMENT, {\n\u001b[0;32m    965\u001b[0m             \u001b[1;34m'using'\u001b[0m\u001b[1;33m:\u001b[0m \u001b[0mby\u001b[0m\u001b[1;33m,\u001b[0m\u001b[1;33m\u001b[0m\u001b[0m\n\u001b[1;32m--> 966\u001b[1;33m             'value': value})['value']\n\u001b[0m\u001b[0;32m    967\u001b[0m \u001b[1;33m\u001b[0m\u001b[0m\n\u001b[0;32m    968\u001b[0m     \u001b[1;32mdef\u001b[0m \u001b[0mfind_elements\u001b[0m\u001b[1;33m(\u001b[0m\u001b[0mself\u001b[0m\u001b[1;33m,\u001b[0m \u001b[0mby\u001b[0m\u001b[1;33m=\u001b[0m\u001b[0mBy\u001b[0m\u001b[1;33m.\u001b[0m\u001b[0mID\u001b[0m\u001b[1;33m,\u001b[0m \u001b[0mvalue\u001b[0m\u001b[1;33m=\u001b[0m\u001b[1;32mNone\u001b[0m\u001b[1;33m)\u001b[0m\u001b[1;33m:\u001b[0m\u001b[1;33m\u001b[0m\u001b[0m\n",
      "\u001b[1;32mC:\\ProgramData\\Anaconda3\\lib\\site-packages\\selenium\\webdriver\\remote\\webdriver.py\u001b[0m in \u001b[0;36mexecute\u001b[1;34m(self, driver_command, params)\u001b[0m\n\u001b[0;32m    318\u001b[0m         \u001b[0mresponse\u001b[0m \u001b[1;33m=\u001b[0m \u001b[0mself\u001b[0m\u001b[1;33m.\u001b[0m\u001b[0mcommand_executor\u001b[0m\u001b[1;33m.\u001b[0m\u001b[0mexecute\u001b[0m\u001b[1;33m(\u001b[0m\u001b[0mdriver_command\u001b[0m\u001b[1;33m,\u001b[0m \u001b[0mparams\u001b[0m\u001b[1;33m)\u001b[0m\u001b[1;33m\u001b[0m\u001b[0m\n\u001b[0;32m    319\u001b[0m         \u001b[1;32mif\u001b[0m \u001b[0mresponse\u001b[0m\u001b[1;33m:\u001b[0m\u001b[1;33m\u001b[0m\u001b[0m\n\u001b[1;32m--> 320\u001b[1;33m             \u001b[0mself\u001b[0m\u001b[1;33m.\u001b[0m\u001b[0merror_handler\u001b[0m\u001b[1;33m.\u001b[0m\u001b[0mcheck_response\u001b[0m\u001b[1;33m(\u001b[0m\u001b[0mresponse\u001b[0m\u001b[1;33m)\u001b[0m\u001b[1;33m\u001b[0m\u001b[0m\n\u001b[0m\u001b[0;32m    321\u001b[0m             response['value'] = self._unwrap_value(\n\u001b[0;32m    322\u001b[0m                 response.get('value', None))\n",
      "\u001b[1;32mC:\\ProgramData\\Anaconda3\\lib\\site-packages\\selenium\\webdriver\\remote\\errorhandler.py\u001b[0m in \u001b[0;36mcheck_response\u001b[1;34m(self, response)\u001b[0m\n\u001b[0;32m    240\u001b[0m                 \u001b[0malert_text\u001b[0m \u001b[1;33m=\u001b[0m \u001b[0mvalue\u001b[0m\u001b[1;33m[\u001b[0m\u001b[1;34m'alert'\u001b[0m\u001b[1;33m]\u001b[0m\u001b[1;33m.\u001b[0m\u001b[0mget\u001b[0m\u001b[1;33m(\u001b[0m\u001b[1;34m'text'\u001b[0m\u001b[1;33m)\u001b[0m\u001b[1;33m\u001b[0m\u001b[0m\n\u001b[0;32m    241\u001b[0m             \u001b[1;32mraise\u001b[0m \u001b[0mexception_class\u001b[0m\u001b[1;33m(\u001b[0m\u001b[0mmessage\u001b[0m\u001b[1;33m,\u001b[0m \u001b[0mscreen\u001b[0m\u001b[1;33m,\u001b[0m \u001b[0mstacktrace\u001b[0m\u001b[1;33m,\u001b[0m \u001b[0malert_text\u001b[0m\u001b[1;33m)\u001b[0m\u001b[1;33m\u001b[0m\u001b[0m\n\u001b[1;32m--> 242\u001b[1;33m         \u001b[1;32mraise\u001b[0m \u001b[0mexception_class\u001b[0m\u001b[1;33m(\u001b[0m\u001b[0mmessage\u001b[0m\u001b[1;33m,\u001b[0m \u001b[0mscreen\u001b[0m\u001b[1;33m,\u001b[0m \u001b[0mstacktrace\u001b[0m\u001b[1;33m)\u001b[0m\u001b[1;33m\u001b[0m\u001b[0m\n\u001b[0m\u001b[0;32m    243\u001b[0m \u001b[1;33m\u001b[0m\u001b[0m\n\u001b[0;32m    244\u001b[0m     \u001b[1;32mdef\u001b[0m \u001b[0m_value_or_default\u001b[0m\u001b[1;33m(\u001b[0m\u001b[0mself\u001b[0m\u001b[1;33m,\u001b[0m \u001b[0mobj\u001b[0m\u001b[1;33m,\u001b[0m \u001b[0mkey\u001b[0m\u001b[1;33m,\u001b[0m \u001b[0mdefault\u001b[0m\u001b[1;33m)\u001b[0m\u001b[1;33m:\u001b[0m\u001b[1;33m\u001b[0m\u001b[0m\n",
      "\u001b[1;31mNoSuchElementException\u001b[0m: Message: no such element: Unable to locate element: {\"method\":\"css selector\",\"selector\":\"input.shopee-button-outline\"}\n  (Session info: chrome=68.0.3440.106)\n  (Driver info: chromedriver=2.40.565498 (ea082db3280dd6843ebfb08a625e3eb905c4f5ab),platform=Windows NT 10.0.17134 x86_64)\n"
     ]
    }
   ],
   "source": [
    "#蝦皮 下架商品會是0\n",
    "pdid = \"145040877\"\n",
    "load = \"\" #重製\n",
    "from selenium import webdriver\n",
    "import time\n",
    "import json\n",
    "import requests\n",
    "import time\n",
    "\n",
    "chrome_options = webdriver.ChromeOptions() #新增chrome選項\n",
    "#chrome_options.add_argument('--headless') #隱藏GUI\n",
    "#chrome_options.add_argument('--disable-gpu')\n",
    "\n",
    "\n",
    "browser = webdriver.Chrome('chromedriver.exe',chrome_options = chrome_options) \n",
    "browser.get('https://shopee.tw/product/2019696/'+pdid) \n",
    "time.sleep(1) #第一次讀取會失敗 可能要加點選事件，或是觀看視窗的事件 資料可能放在dataLayer[5] #判斷4有無值，無值則layer[5]\n",
    "browser.find_element_by_css_selector(\"input.shopee-button-outline\").click()\n",
    "try:\n",
    "    browser.execute_script(\"return document.getElementById('main').innerHTML = JSON.stringify(dataLayer[4].info.impressions[0].targetData.item)\")\n",
    "    if browser.find_element_by_id('main').text == 'undefined': #如果沒有值，則找layer5\n",
    "        browser.execute_script(\"return document.getElementById('main').innerHTML = JSON.stringify(dataLayer[5].info.impressions[0].targetData.item)\")\n",
    "    gotjson = browser.find_element_by_id('main').text #取得JSON\n",
    "    load = json.loads(gotjson)\n",
    "    if len(load['models']) == 0: #判斷有沒有款式\n",
    "        print(load['stock'])\n",
    "    else:\n",
    "        for i in range(len(load['models'])):\n",
    "            print(str(load['models'][i]['modelid'])+\":\"+str(load['models'][i]['stock'])+\" \"+str(load['models'][i]['name']))    \n",
    "except:\n",
    "    print('...')\n",
    "finally:\n",
    "    #print('...')\n",
    "    browser.quit()"
   ]
  },
  {
   "cell_type": "code",
   "execution_count": null,
   "metadata": {},
   "outputs": [],
   "source": [
    "from bs4 import BeautifulSoup\n",
    "import requests\n",
    "import json\n",
    "url = \"https://shopee.tw/api/v1/item_detail/?item_id=30324026&shop_id=2019696\"\n",
    "my_headers = {'user-agent': 'Mozilla/5.0 (Windows NT 10.0; Win64; x64) AppleWebKit/537.36 (KHTML, like Gecko) Chrome/68.0.3440.106 Safari/537.36'}\n",
    "cookie = {'value': 'f6d90f8e-b763-11e8-9f87-b496912770ce'}\n",
    "gotrq = requests.get(url,headers = my_headers,cookies = cookie)\n",
    "api = json.loads(gotrq.text) #\"html.parser\" html解析器 將html 轉為bs4格式操作\n",
    "#for item in soup.select(\".listing-title\"): #html 可以使用select 選擇想要的東西\n",
    "    #print(item.select(\"a\")[0].text)\n",
    "print(gotrq.cookies)"
   ]
  },
  {
   "cell_type": "code",
   "execution_count": 2,
   "metadata": {},
   "outputs": [
    {
     "name": "stdout",
     "output_type": "stream",
     "text": [
      "184003643236022:20 洗髮精\n",
      "184003643236033:10 護髮乳\n",
      "有上架嗎?True\n"
     ]
    }
   ],
   "source": [
    "#ruten #下架商品會正常\n",
    "pdid = \"21840722557036\"\n",
    "from bs4 import BeautifulSoup\n",
    "import requests\n",
    "import json\n",
    "url = \"https://goods.ruten.com.tw/item/show?\"+pdid\n",
    "my_headers = {'user-agent': 'Mozilla/5.0 (Windows NT 10.0; Win64; x64) AppleWebKit/537.36 (KHTML, like Gecko) Chrome/68.0.3440.106 Safari/537.36'}\n",
    "gotrq = requests.get(url,headers = my_headers)\n",
    "soup = BeautifulSoup(gotrq.text, \"html.parser\") #\"html.parser\" html解析器 將html 轉為bs4格式操作\n",
    "strnum = soup.select('script[type=\"text/javascript\"]')[16].text.find(\"RT.context = \") #提取JSON資料 #find 找到RT.context的位址\n",
    "gotjson = soup.select('script[type=\"text/javascript\"]')[16].text[strnum+len(\"RT.context = \"):-2]\n",
    "load = json.loads(gotjson)  #轉成python dict\n",
    "if 'spec_info' in load.keys(): #是否有款式\n",
    "    for k,v in load['spec_info']['specs'].items():#for 出dict 資料\n",
    "        print(k+':'+v['spec_num']+\" \"+v['spec_name'])\n",
    "else:\n",
    "    print(load['remain_count'])\n",
    "print(\"有上架嗎?\"+str(load['is_product_buyer']))\n"
   ]
  },
  {
   "cell_type": "code",
   "execution_count": 1,
   "metadata": {},
   "outputs": [
    {
     "name": "stdout",
     "output_type": "stream",
     "text": [
      "0:480 \n"
     ]
    }
   ],
   "source": [
    "#PC \n",
    "pdid = \"C1139763580\"\n",
    "from bs4 import BeautifulSoup\n",
    "import requests\n",
    "import json\n",
    "url = \"http://seller.pcstore.com.tw/S188431702/\"+pdid+\".htm\"\n",
    "my_headers = {'user-agent': 'Mozilla/5.0 (Windows NT 10.0; Win64; x64) AppleWebKit/537.36 (KHTML, like Gecko) Chrome/68.0.3440.106 Safari/537.36'}\n",
    "gotrq = requests.get(url,headers = my_headers)\n",
    "soup = BeautifulSoup(gotrq.text, \"html.parser\") #\"html.parser\" html解析器 將html 轉為bs4格式操作\n",
    "gotjson = soup.select('#specs')[0].text\n",
    "load = json.loads(gotjson)\n",
    "\n",
    "if type(load) == dict: #新上的都是字典檔\n",
    "    for k,v in load.items():\n",
    "        print(v['p_sseq']+\":\"+v['p_invt']+\" \"+v['p_spec'])\n",
    "else:#舊的都是陣列\n",
    "    for i in range(len(load)):\n",
    "        print(load[i]['p_sseq']+\":\"+load[i]['p_invt']+\" \"+load[i]['p_spec'])"
   ]
  },
  {
   "cell_type": "code",
   "execution_count": null,
   "metadata": {},
   "outputs": [],
   "source": [
    "#PC 梓原 #下架會錯誤\n",
    "pdid = \"C1142301095\"\n",
    "from bs4 import BeautifulSoup\n",
    "import requests\n",
    "import json\n",
    "url = \"http://seller.pcstore.com.tw/S163498400/\"+pdid+\".htm\"\n",
    "my_headers = {'user-agent': 'Mozilla/5.0 (Windows NT 10.0; Win64; x64) AppleWebKit/537.36 (KHTML, like Gecko) Chrome/68.0.3440.106 Safari/537.36'}\n",
    "gotrq = requests.get(url,headers = my_headers)\n",
    "soup = BeautifulSoup(gotrq.text, \"html.parser\") #\"html.parser\" html解析器 將html 轉為bs4格式操作\n",
    "gotjson = soup.select('#specs')[0].text\n",
    "load = json.loads(gotjson)\n",
    "\n",
    "if type(load) == dict: #新上的都是字典檔\n",
    "    for k,v in load.items():\n",
    "        print(v['p_sseq']+\":\"+v['p_invt']+\" \"+v['p_spec'])\n",
    "else:#舊的都是陣列\n",
    "    for i in range(len(load)):\n",
    "        print(load[i]['p_sseq']+\":\"+load[i]['p_invt']+\" \"+load[i]['p_spec'])"
   ]
  },
  {
   "cell_type": "code",
   "execution_count": null,
   "metadata": {},
   "outputs": [],
   "source": []
  },
  {
   "cell_type": "code",
   "execution_count": 5,
   "metadata": {},
   "outputs": [
    {
     "name": "stdout",
     "output_type": "stream",
     "text": [
      "721147:40 None\n"
     ]
    }
   ],
   "source": [
    "#pcone #下架商品會錯誤\n",
    "pdid = \"170220443621\"\n",
    "from bs4 import BeautifulSoup\n",
    "import requests\n",
    "import json\n",
    "url = \"https://www.pcone.com.tw/product/info/\"+pdid\n",
    "my_headers = {'user-agent': 'Mozilla/5.0 (Windows NT 10.0; Win64; x64) AppleWebKit/537.36 (KHTML, like Gecko) Chrome/68.0.3440.106 Safari/537.36'}\n",
    "gotrq = requests.get(url,headers = my_headers)\n",
    "soup = BeautifulSoup(gotrq.text, \"html.parser\") #\"html.parser\" html解析器 將html 轉為bs4格式操作\n",
    "strnum = soup.select('script')[23].text.find(\"window._pc_p = \") #提取JSON資料\n",
    "gotjson = soup.select('script')[23].text[strnum+len(\"window._pc_p = \"):-2]\n",
    "load = json.loads(gotjson)  #轉成python dict\n",
    "\n",
    "for i in range(len(load['volumes'])):\n",
    "    print(str(load['volumes'][i]['volume_id'])+\":\"+str(load['volumes'][i]['volume_remaining'])+\" \"+str(load['volumes'][i]['option']))\n",
    "\n"
   ]
  },
  {
   "cell_type": "code",
   "execution_count": 38,
   "metadata": {},
   "outputs": [],
   "source": [
    "#讀取\n",
    "#第一次執行需要用CMD執行 才會跑出網頁認證\n",
    "from __future__ import print_function\n",
    "from googleapiclient.discovery import build\n",
    "from httplib2 import Http\n",
    "from oauth2client import file, client, tools\n",
    "\n",
    "\n",
    "# If modifying these scopes, delete the file token.json.\n",
    "SCOPES = 'https://www.googleapis.com/auth/spreadsheets'\n",
    "\n",
    "\n",
    "def main():\n",
    "    \"\"\"Shows basic usage of the Sheets API.\n",
    "    Prints values from a sample spreadsheet.\n",
    "    \"\"\"\n",
    "    store = file.Storage('token.json')\n",
    "    creds = store.get()\n",
    "    if not creds or creds.invalid:\n",
    "        flow = client.flow_from_clientsecrets('credentials.json', SCOPES)\n",
    "        creds = tools.run_flow(flow, store)\n",
    "    service = build('sheets', 'v4', http=creds.authorize(Http()))\n",
    "\n",
    "    # Call the Sheets API\n",
    "    SPREADSHEET_ID = '19ZXwhENPrLmLURoKO4xXoCDahpyMG5wuU_8xsU74kyI'\n",
    "    RANGE_NAME = '商品ID!A:Q'\n",
    "    result = service.spreadsheets().values().get(spreadsheetId=SPREADSHEET_ID,\n",
    "                                                range=RANGE_NAME).execute()\n",
    "    values = result.get('values', [])\n",
    "    if not values:\n",
    "        print('No data found.')\n",
    "    else:\n",
    "        global resultdata\n",
    "        resultdata= values\n",
    "\n",
    "if __name__ == '__main__':\n",
    "    main()"
   ]
  },
  {
   "cell_type": "code",
   "execution_count": 64,
   "metadata": {},
   "outputs": [
    {
     "name": "stdout",
     "output_type": "stream",
     "text": [
      "{'spreadsheetId': '19ZXwhENPrLmLURoKO4xXoCDahpyMG5wuU_8xsU74kyI', 'clearedRanges': [\"'庫存表'!M1:M2000\"]}\n"
     ]
    }
   ],
   "source": [
    "import time\n",
    "\n",
    "delsheet(\"'庫存表'!M:M\") #重製狀態欄\n",
    "writetime = time.strftime(\"%m-%d %H:%M\", time.localtime()) \n",
    "datay = []\n",
    "datar = []\n",
    "datas = []\n",
    "datapt = []\n",
    "datapd = []\n",
    "datapcone = []\n",
    "for row in range(1,len(resultdata)):\n",
    "    datay.append(resultdata[row][4])\n",
    "    datar.append(resultdata[row][6])\n",
    "    datas.append(resultdata[row][8])\n",
    "    datapt.append(resultdata[row][10])\n",
    "    datapd.append(resultdata[row][12])\n",
    "    datapcone.append(resultdata[row][14])\n"
   ]
  },
  {
   "cell_type": "code",
   "execution_count": 67,
   "metadata": {},
   "outputs": [
    {
     "ename": "AttributeError",
     "evalue": "'list' object has no attribute 'lastindexof'",
     "output_type": "error",
     "traceback": [
      "\u001b[1;31m---------------------------------------------------------------------------\u001b[0m",
      "\u001b[1;31mAttributeError\u001b[0m                            Traceback (most recent call last)",
      "\u001b[1;32m<ipython-input-67-4aff1b570f33>\u001b[0m in \u001b[0;36m<module>\u001b[1;34m()\u001b[0m\n\u001b[0;32m      9\u001b[0m     \u001b[0mwebID\u001b[0m \u001b[1;33m=\u001b[0m \u001b[0mresultdata\u001b[0m\u001b[1;33m[\u001b[0m\u001b[0mrow\u001b[0m\u001b[1;33m]\u001b[0m\u001b[1;33m[\u001b[0m\u001b[1;36m8\u001b[0m\u001b[1;33m]\u001b[0m \u001b[1;31m#蝦皮\u001b[0m\u001b[1;33m\u001b[0m\u001b[0m\n\u001b[0;32m     10\u001b[0m     \u001b[1;32mif\u001b[0m \u001b[0mwebID\u001b[0m\u001b[1;33m:\u001b[0m \u001b[1;31m#有值則執行\u001b[0m\u001b[1;33m\u001b[0m\u001b[0m\n\u001b[1;32m---> 11\u001b[1;33m         \u001b[0mprint\u001b[0m\u001b[1;33m(\u001b[0m\u001b[0mdatay\u001b[0m\u001b[1;33m.\u001b[0m\u001b[0mlastindexof\u001b[0m\u001b[1;33m(\u001b[0m\u001b[0mwebID\u001b[0m\u001b[1;33m)\u001b[0m\u001b[1;33m)\u001b[0m\u001b[1;33m\u001b[0m\u001b[0m\n\u001b[0m\u001b[0;32m     12\u001b[0m     \u001b[0mwebID\u001b[0m \u001b[1;33m=\u001b[0m \u001b[0mresultdata\u001b[0m\u001b[1;33m[\u001b[0m\u001b[0mrow\u001b[0m\u001b[1;33m]\u001b[0m\u001b[1;33m[\u001b[0m\u001b[1;36m10\u001b[0m\u001b[1;33m]\u001b[0m \u001b[1;31m#PC梓\u001b[0m\u001b[1;33m\u001b[0m\u001b[0m\n\u001b[0;32m     13\u001b[0m     \u001b[1;32mif\u001b[0m \u001b[0mwebID\u001b[0m\u001b[1;33m:\u001b[0m \u001b[1;31m#有值則執行\u001b[0m\u001b[1;33m\u001b[0m\u001b[0m\n",
      "\u001b[1;31mAttributeError\u001b[0m: 'list' object has no attribute 'lastindexof'"
     ]
    }
   ],
   "source": [
    "for row in range(1,5):\n",
    "    webID = resultdata[row][4] #yahoo\n",
    "    if webID: #有值則執行\n",
    "        datay.lastindexof(webID)\n",
    "\n",
    "    webID = resultdata[row][6] #露天\n",
    "    if webID: #有值則執行\n",
    "        print(webID)\n",
    "    webID = resultdata[row][8] #蝦皮\n",
    "    if webID: #有值則執行\n",
    "        print(datay.lastindexof(webID))\n",
    "    webID = resultdata[row][10] #PC梓\n",
    "    if webID: #有值則執行\n",
    "        print(webID)\n",
    "    webID = resultdata[row][12] #PC大\n",
    "    if webID: #有值則執行\n",
    "        print(webID)\n",
    "    webID = resultdata[row][14] #松果\n",
    "    if webID: #有值則執行\n",
    "        print(webID)\n",
    "    #執行完成\n"
   ]
  },
  {
   "cell_type": "code",
   "execution_count": 61,
   "metadata": {},
   "outputs": [],
   "source": [
    "#寫入\n",
    "#第一次執行需要用CMD執行 才會跑出網頁認證 SCOPE不一樣 TOKEN.JSON要刪掉重新刷過\n",
    "from __future__ import print_function\n",
    "from googleapiclient.discovery import build\n",
    "from httplib2 import Http\n",
    "from oauth2client import file, client, tools\n",
    "\n",
    "# If modifying these scopes, delete the file token.json.\n",
    "SCOPES = 'https://www.googleapis.com/auth/spreadsheets'\n",
    "\n",
    "def writesheet(sheetrange,writeVal):\n",
    "    \"\"\"Shows basic usage of the Sheets API.\n",
    "    Prints values from a sample spreadsheet.\n",
    "    \"\"\"\n",
    "    store = file.Storage('token.json')\n",
    "    creds = store.get()\n",
    "    if not creds or creds.invalid:\n",
    "        flow = client.flow_from_clientsecrets('credentials.json', SCOPES)\n",
    "        creds = tools.run_flow(flow, store)\n",
    "    service = build('sheets', 'v4', http=creds.authorize(Http()))\n",
    "\n",
    "    # Call the Sheets API\n",
    "    SPREADSHEET_ID = '19ZXwhENPrLmLURoKO4xXoCDahpyMG5wuU_8xsU74kyI'\n",
    "    RANGE_NAME = sheetrange\n",
    "    values =[['=52+25']]\n",
    "    body = {'values': writeVal}\n",
    "    value_input_option = 'USER_ENTERED'\n",
    "    result = service.spreadsheets().values().update(spreadsheetId=SPREADSHEET_ID,range=RANGE_NAME,valueInputOption=value_input_option,body=body).execute()\n",
    "    print(result)\n",
    "    \n",
    "def delsheet(sheetrange):\n",
    "    \"\"\"Shows basic usage of the Sheets API.\n",
    "    Prints values from a sample spreadsheet.\n",
    "    \"\"\"\n",
    "    store = file.Storage('token.json')\n",
    "    creds = store.get()\n",
    "    if not creds or creds.invalid:\n",
    "        flow = client.flow_from_clientsecrets('credentials.json', SCOPES)\n",
    "        creds = tools.run_flow(flow, store)\n",
    "    service = build('sheets', 'v4', http=creds.authorize(Http()))\n",
    "\n",
    "    # Call the Sheets API\n",
    "    SPREADSHEET_ID = '19ZXwhENPrLmLURoKO4xXoCDahpyMG5wuU_8xsU74kyI'\n",
    "    RANGE_NAME = {'ranges' : [sheetrange]}\n",
    "    result = service.spreadsheets().values().batchClear(spreadsheetId=SPREADSHEET_ID,body=RANGE_NAME).execute()\n",
    "    print(result)\n",
    "\n"
   ]
  },
  {
   "cell_type": "code",
   "execution_count": 89,
   "metadata": {},
   "outputs": [
    {
     "name": "stdout",
     "output_type": "stream",
     "text": [
      "4\n",
      "3\n",
      "3\n"
     ]
    }
   ],
   "source": [
    "OK = [] #完成的網頁放這邊\n",
    "for row in range(1,10):\n",
    "    webID = resultdata[row][8] #蝦皮\n",
    "    if webID and (OK.count(webID) == 0): #有網頁ID則執行且沒執行過的\n",
    "        OK.append(webID)\n",
    "        #執行DEF(webID)\n",
    "\n"
   ]
  },
  {
   "cell_type": "code",
   "execution_count": 34,
   "metadata": {},
   "outputs": [
    {
     "data": {
      "text/plain": [
       "'{\"size_chart\":\"\",\"is_cc_installment_payment_eligible\":false,\"show_official_shop_label_in_title\":false,\"free_return_day\":null,\"discount\":null,\"is_group_buy_item\":null,\"coin_spend_cash_unit\":100000,\"can_use_bundle_deal\":false,\"image_list\":[\"a2d4d11415a5c3572eafb59723f51700\",\"2c1ec163fa7d6b777e7a0376a21725a1\",\"d4c0e31c96eff39c040f0591f00d7a2c\",\"820c66961d51e7e76a524ea2148328b1\",\"89605a0ef9ab486cfd46a7f9c3f02386\",\"4e91896ab2976fd1a8b7edd66b16e7d5\",\"17b962afb4be3cab2cb2513e6953d93c\",\"9de3a8c38931b61bf9ab471feb552c31\",\"64f0de0a867e7c8b0672c8f09a0943c0\"],\"show_discount\":0,\"installment_plans\":null,\"show_shopee_verified_label\":true,\"is_full\":true,\"bundle_deal_info\":null,\"rcount_with_image\":0,\"welcome_package_info\":null,\"is_hot_sales\":null,\"is_adult\":null,\"preview_info\":null,\"group_buy_info\":null,\"coin_earn_items\":[],\"brand\":\"HARIO\",\"item_rating\":null,\"price\":58000000,\"is_category_failed\":false,\"show_official_shop_label_in_normal_position\":null,\"has_lowest_price_guarantee\":false,\"models\":[{\"modelid\":103737029,\"price\":58000000,\"name\":\"胭脂紅\",\"price_before_discount\":0,\"rebate_price\":0,\"itemid\":145040877,\"extinfo\":{},\"ctime\":1487149884,\"currency\":\"TWD\",\"status\":1,\"sold\":6,\"stock\":4,\"mtime\":1487149884,\"sku\":\"034419 \",\"promotionid\":0},{\"modelid\":103737030,\"price\":58000000,\"name\":\"墨綠\",\"price_before_discount\":0,\"rebate_price\":0,\"itemid\":145040877,\"extinfo\":{},\"ctime\":1487149884,\"currency\":\"TWD\",\"status\":1,\"sold\":4,\"stock\":6,\"mtime\":1487149884,\"sku\":\"034426\",\"promotionid\":0}],\"is_installment_payment_eligible\":false,\"name\":\"【HARIO】玻璃冷泡壺750ml 紅/綠 日本正品\",\"video_info_list\":null,\"price_before_discount\":0,\"offer_count\":0,\"flag\":458754,\"label_ids\":[],\"liked\":false,\"rating_count\":[9,0,0,0,0,9],\"price_max\":58000000,\"itemid\":145040877,\"is_non_cc_installment_payment_eligible\":false,\"shipping_icon_type\":0,\"price_max_before_discount\":-1,\"welcome_package_type\":0,\"ctime\":1487149884,\"currency\":\"TWD\",\"hashtag_list\":[],\"shopid\":2019696,\"shopee_verified\":null,\"bundle_deal_id\":0,\"catid\":73,\"sub_catid\":2686,\"status\":1,\"sold\":1,\"recommendation_info\":null,\"rating_star\":5,\"cb_option\":0,\"is_official_shop\":false,\"view_count\":null,\"stock\":10,\"flash_sale\":null,\"attributes\":[{\"is_pending_qc\":true,\"idx\":0,\"value\":\"玻璃\",\"id\":2860,\"is_timestamp\":false,\"name\":\"材質\"},{\"is_pending_qc\":true,\"idx\":0,\"value\":\"HARIO\",\"id\":4728,\"is_timestamp\":false,\"name\":\"\"},{\"is_pending_qc\":true,\"idx\":1,\"value\":\"\",\"id\":2861,\"is_timestamp\":false,\"name\":\"款式\"},{\"is_pending_qc\":true,\"idx\":2,\"value\":\"\",\"id\":2862,\"is_timestamp\":false,\"name\":\"功能\"}],\"hidden_price_display\":null,\"service_by_shopee_flag\":0,\"can_use_wholesale\":false,\"rcount_with_context\":3,\"version\":\"01bef5662c023459291fe9431738fd1d\",\"images\":\"a2d4d11415a5c3572eafb59723f51700,2c1ec163fa7d6b777e7a0376a21725a1,d4c0e31c96eff39c040f0591f00d7a2c,820c66961d51e7e76a524ea2148328b1,89605a0ef9ab486cfd46a7f9c3f02386,4e91896ab2976fd1a8b7edd66b16e7d5,17b962afb4be3cab2cb2513e6953d93c,9de3a8c38931b61bf9ab471feb552c31,64f0de0a867e7c8b0672c8f09a0943c0\",\"has_group_buy_stock\":false,\"videos\":[],\"raw_discount\":null,\"upcoming_flash_sale\":null,\"third_catid\":8005,\"wholesale_tier_list\":[],\"cmt_count\":9,\"estimated_days\":3,\"condition\":1,\"image\":\"a2d4d11415a5c3572eafb59723f51700\",\"coin_earn_label\":null,\"coin_info\":null,\"is_shopee_verified\":true,\"categories\":null,\"price_min\":58000000,\"description\":\"日本東京老字號的玻璃容器品牌，在亞洲地區乃至整個國際市場都享有盛譽\\\\n旗下產品製作精巧、清澈透明無雜質，因為選用材料為耐熱的安全玻璃素材\\\\n而這款酒瓶設計冷泡茶壺，更獲得IDEA美國傑出工業設計獎的殊榮\\\\n將西式酒瓶與東方茶藝融合的藝術逸品，可泡製各類茶飲\\\\n顏色上有胭脂紅與墨綠色可以選擇，清澈質感的玻璃瓶身，交融中西合璧的情懷\\\\n細長壺身便於放置在冰箱門格\\\\n瓶口蓋、瓶蓋、濾網、瓶身皆可拆卸清洗\\\\n便於清潔整理的物品更能夠經久耐用\\\\n就讓質感設計點綴你的生活角落吧！\\\\n\\\\n❤️產地：日本\\\\n❤️容量：750ml\\\\n❤️淨重：411g\\\\n❤️尺寸：8.7×8.4×30cm/口徑7.1 cm\\\\n❤️材質：耐熱玻璃、矽膠、PP樹脂\\\\n❤️玻璃耐熱溫度差:120℃\\\\n❤️矽膠耐熱溫度:180 ℃\\\\n❤️PP樹脂耐熱溫度: 120℃\\\\n\\\\n034419 玻璃冷泡壺750ml-胭脂紅\\\\n034426 玻璃冷泡壺750ml-墨綠\",\"is_pre_order\":false,\"liked_count\":33,\"show_official_shop_label\":false,\"tier_variations\":[],\"price_min_before_discount\":-1,\"item_status\":\"normal\",\"show_free_shipping\":true}'"
      ]
     },
     "execution_count": 34,
     "metadata": {},
     "output_type": "execute_result"
    }
   ],
   "source": [
    "browser.execute_script(\"return document.getElementById('main').innerHTML = JSON.stringify(dataLayer[4].info.impressions[0].targetData.item)\")\n"
   ]
  },
  {
   "cell_type": "code",
   "execution_count": 20,
   "metadata": {},
   "outputs": [],
   "source": [
    "\n"
   ]
  },
  {
   "cell_type": "code",
   "execution_count": null,
   "metadata": {},
   "outputs": [],
   "source": []
  }
 ],
 "metadata": {
  "kernelspec": {
   "display_name": "Python 3",
   "language": "python",
   "name": "python3"
  },
  "language_info": {
   "codemirror_mode": {
    "name": "ipython",
    "version": 3
   },
   "file_extension": ".py",
   "mimetype": "text/x-python",
   "name": "python",
   "nbconvert_exporter": "python",
   "pygments_lexer": "ipython3",
   "version": "3.6.5"
  }
 },
 "nbformat": 4,
 "nbformat_minor": 2
}

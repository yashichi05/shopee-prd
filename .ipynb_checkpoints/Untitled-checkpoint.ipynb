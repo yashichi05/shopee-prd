{
 "cells": [
  {
   "cell_type": "code",
   "execution_count": 1,
   "metadata": {},
   "outputs": [
    {
     "ename": "ModuleNotFoundError",
     "evalue": "No module named 'Module'",
     "output_type": "error",
     "traceback": [
      "\u001b[1;31m---------------------------------------------------------------------------\u001b[0m",
      "\u001b[1;31mModuleNotFoundError\u001b[0m                       Traceback (most recent call last)",
      "\u001b[1;32m<ipython-input-1-6ead735179aa>\u001b[0m in \u001b[0;36m<module>\u001b[1;34m()\u001b[0m\n\u001b[0;32m      4\u001b[0m \u001b[1;32mimport\u001b[0m \u001b[0mjson\u001b[0m\u001b[1;33m\u001b[0m\u001b[0m\n\u001b[0;32m      5\u001b[0m \u001b[1;32mimport\u001b[0m \u001b[0mrequests\u001b[0m\u001b[1;33m\u001b[0m\u001b[0m\n\u001b[1;32m----> 6\u001b[1;33m \u001b[1;32mfrom\u001b[0m \u001b[0mModule\u001b[0m \u001b[1;32mimport\u001b[0m \u001b[0mnet_fn\u001b[0m\u001b[1;33m\u001b[0m\u001b[0m\n\u001b[0m\u001b[0;32m      7\u001b[0m \u001b[1;33m\u001b[0m\u001b[0m\n\u001b[0;32m      8\u001b[0m \u001b[1;32mclass\u001b[0m \u001b[0mShopee\u001b[0m\u001b[1;33m:\u001b[0m\u001b[1;33m\u001b[0m\u001b[0m\n",
      "\u001b[1;31mModuleNotFoundError\u001b[0m: No module named 'Module'"
     ]
    }
   ],
   "source": [
    "from selenium import webdriver\n",
    "import time\n",
    "import os\n",
    "import json\n",
    "import requests\n",
    "from Module import net_fn\n",
    "\n",
    "class Shopee:\n",
    "\n",
    "    def __init__(self,Root_Dir=\"\",Cookie_Path=\"\"):\n",
    "        self.web = None\n",
    "        self.Root_Dir = Root_Dir\n",
    "        self.Cookie_Path = Cookie_Path\n",
    "        self.Net = net_fn.Net()\n",
    "        self.Cookie_Data = self.Loading_Cookie()\n",
    "\n",
    "\n",
    "    def Loading_Cookie(self):\n",
    "        fp = open(self.Cookie_Path,'r')\n",
    "        Cookie_Str = fp.read()\n",
    "        fp.close()\n",
    "        Cookie_JSON = json.loads(Cookie_Str)\n",
    "\n",
    "        jar = requests.cookies.RequestsCookieJar()\n",
    "\n",
    "        for item in Cookie_JSON:\n",
    "\n",
    "            jar.set(item['name'], item['value'], domain=item['domain'], path=item['path'])\n",
    "\n",
    "        return jar\n",
    "\n",
    "    def Get_Product_List(self,Cookie_Data,Page_Number=0):\n",
    "        Start_Offset = 24 * Page_Number\n",
    "        header = \"Host: seller.shopee.tw###Connection: keep-alive###Accept: application/json, text/javascript, */*; q=0.01###User-Agent: Mozilla/5.0 (Windows NT 6.1; Win64; x64) AppleWebKit/537.36 (KHTML, like Gecko) Chrome/67.0.3396.99 Safari/537.36###Referer: https://seller.shopee.tw/portal/product/list/all###Accept-Encoding: gzip, deflate, br###Accept-Language: zh-TW,zh;q=0.9,en-US;q=0.8,en;q=0.7\"\n",
    "        url = \"https://seller.shopee.tw/api/v2/products/?limit=24&offset=\"+format(Start_Offset)+\"&order=list_time_dsc&search=&type=&SPC_CDS_VER=2\"\n",
    "        rs = self.Net.Get(header_string=header,url=url,cookie=Cookie_Data)\n",
    "        data = rs.content.decode()\n",
    "        return data\n",
    "\n",
    "    def Shopee_Login_By_Cookie(self,Cookie_Data):\n",
    "        url = \"https://seller.shopee.tw/\"\n",
    "\n",
    "        rs = self.Net.Get(url=url,cookie=Cookie_Data)\n",
    "        data = rs.content.decode()\n",
    "        print(data)\n",
    "\n",
    "\n",
    "\n",
    "\n",
    "\n",
    "    def Shopee_Login_Selenium(self,account,password):\n",
    "        if self.web == None:\n",
    "            self.Init_Browser()\n",
    "        self.web.get(\"https://seller.shopee.tw/account/signin\")\n",
    "\n",
    "        # self.web = webdriver.Chrome()\n",
    "\n",
    "\n",
    "        time.sleep(1)\n",
    "        self.web.find_element_by_css_selector(\"#ember616\").send_keys(account)\n",
    "        self.web.find_element_by_css_selector(\"#ember618\").send_keys(password)\n",
    "        self.web.find_element_by_css_selector(\"#ember628\").click()\n",
    "\n",
    "        #等待驗証簡訊\n",
    "        while self.web.current_url != \"https://seller.shopee.tw/\":\n",
    "\n",
    "            time.sleep(0.2)\n",
    "\n",
    "        cookies = self.web.get_cookies()\n",
    "\n",
    "        json_cookie = json.dumps(cookies)\n",
    "        fp = open(\"login_cookie.cok\",'w+')\n",
    "        fp.write(json_cookie)\n",
    "        fp.close()\n",
    "\n",
    "\n",
    "    def Init_Browser(self):\n",
    "\n",
    "        Chrome_Path = self.Root_Dir + \"Tool/chromedriver.exe\"\n",
    "        chrome_options = webdriver.ChromeOptions()\n",
    "\n",
    "        chrome_options.add_argument(\"--window-size=1920x1080\")\n",
    "        chrome_options.add_argument(\"--mute-audio\")\n",
    "\n",
    "        self.web = webdriver.Chrome(chrome_options=chrome_options, executable_path=Chrome_Path)\n",
    "        return self.web\n",
    "\n",
    "\n",
    "if __name__ == '__main__':\n",
    "    obj = Shopee(Root_Dir=\"../\",Cookie_Path=\"login_cookie.cok\")\n",
    "    obj.Get_Product_List(obj.Cookie_Data)"
   ]
  },
  {
   "cell_type": "code",
   "execution_count": 24,
   "metadata": {},
   "outputs": [
    {
     "ename": "NameError",
     "evalue": "name 'salary' is not defined",
     "output_type": "error",
     "traceback": [
      "\u001b[1;31m---------------------------------------------------------------------------\u001b[0m",
      "\u001b[1;31mNameError\u001b[0m                                 Traceback (most recent call last)",
      "\u001b[1;32m<ipython-input-24-450220dc66d3>\u001b[0m in \u001b[0;36m<module>\u001b[1;34m()\u001b[0m\n\u001b[0;32m      6\u001b[0m     \u001b[1;32mdef\u001b[0m \u001b[0mtt\u001b[0m\u001b[1;33m(\u001b[0m\u001b[1;33m)\u001b[0m\u001b[1;33m:\u001b[0m\u001b[1;33m\u001b[0m\u001b[0m\n\u001b[0;32m      7\u001b[0m         \u001b[1;32mreturn\u001b[0m \u001b[1;36m0\u001b[0m\u001b[1;33m\u001b[0m\u001b[0m\n\u001b[1;32m----> 8\u001b[1;33m \u001b[0mc\u001b[0m\u001b[1;33m=\u001b[0m \u001b[0mnewobj\u001b[0m\u001b[1;33m(\u001b[0m\u001b[1;34m'noyo'\u001b[0m\u001b[1;33m,\u001b[0m\u001b[1;36m0\u001b[0m\u001b[1;33m)\u001b[0m\u001b[1;33m\u001b[0m\u001b[0m\n\u001b[0m\u001b[0;32m      9\u001b[0m \u001b[0mprint\u001b[0m\u001b[1;33m(\u001b[0m\u001b[0mc\u001b[0m\u001b[1;33m.\u001b[0m\u001b[0msalary\u001b[0m\u001b[1;33m)\u001b[0m\u001b[1;33m\u001b[0m\u001b[0m\n",
      "\u001b[1;32m<ipython-input-24-450220dc66d3>\u001b[0m in \u001b[0;36m__init__\u001b[1;34m(self, name, sy)\u001b[0m\n\u001b[0;32m      3\u001b[0m     \u001b[1;32mdef\u001b[0m \u001b[0m__init__\u001b[0m\u001b[1;33m(\u001b[0m\u001b[0mself\u001b[0m\u001b[1;33m,\u001b[0m \u001b[0mname\u001b[0m\u001b[1;33m,\u001b[0m \u001b[0msy\u001b[0m\u001b[1;33m)\u001b[0m\u001b[1;33m:\u001b[0m\u001b[1;33m\u001b[0m\u001b[0m\n\u001b[0;32m      4\u001b[0m         \u001b[0mself\u001b[0m\u001b[1;33m.\u001b[0m\u001b[0mname\u001b[0m \u001b[1;33m=\u001b[0m \u001b[0mname\u001b[0m\u001b[1;33m\u001b[0m\u001b[0m\n\u001b[1;32m----> 5\u001b[1;33m         \u001b[0mself\u001b[0m\u001b[1;33m.\u001b[0m\u001b[0msy\u001b[0m \u001b[1;33m=\u001b[0m \u001b[0msalary\u001b[0m\u001b[1;33m\u001b[0m\u001b[0m\n\u001b[0m\u001b[0;32m      6\u001b[0m     \u001b[1;32mdef\u001b[0m \u001b[0mtt\u001b[0m\u001b[1;33m(\u001b[0m\u001b[1;33m)\u001b[0m\u001b[1;33m:\u001b[0m\u001b[1;33m\u001b[0m\u001b[0m\n\u001b[0;32m      7\u001b[0m         \u001b[1;32mreturn\u001b[0m \u001b[1;36m0\u001b[0m\u001b[1;33m\u001b[0m\u001b[0m\n",
      "\u001b[1;31mNameError\u001b[0m: name 'salary' is not defined"
     ]
    }
   ],
   "source": [
    "class newobj:\n",
    "    name = '我的'\n",
    "    def __init__(self, name, sy):\n",
    "        self.name = name\n",
    "        self.sy = salary\n",
    "    def tt():\n",
    "        return 0\n",
    "c= newobj('noyo',0)\n",
    "print(c.salary)"
   ]
  },
  {
   "cell_type": "code",
   "execution_count": null,
   "metadata": {},
   "outputs": [],
   "source": []
  },
  {
   "cell_type": "code",
   "execution_count": null,
   "metadata": {},
   "outputs": [],
   "source": []
  },
  {
   "cell_type": "code",
   "execution_count": null,
   "metadata": {},
   "outputs": [],
   "source": []
  },
  {
   "cell_type": "code",
   "execution_count": null,
   "metadata": {},
   "outputs": [],
   "source": []
  },
  {
   "cell_type": "code",
   "execution_count": null,
   "metadata": {},
   "outputs": [],
   "source": []
  },
  {
   "cell_type": "code",
   "execution_count": null,
   "metadata": {},
   "outputs": [],
   "source": []
  }
 ],
 "metadata": {
  "kernelspec": {
   "display_name": "Python 3",
   "language": "python",
   "name": "python3"
  },
  "language_info": {
   "codemirror_mode": {
    "name": "ipython",
    "version": 3
   },
   "file_extension": ".py",
   "mimetype": "text/x-python",
   "name": "python",
   "nbconvert_exporter": "python",
   "pygments_lexer": "ipython3",
   "version": "3.6.5"
  }
 },
 "nbformat": 4,
 "nbformat_minor": 2
}

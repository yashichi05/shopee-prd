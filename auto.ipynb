{
 "cells": [
  {
   "cell_type": "code",
   "execution_count": 4,
   "metadata": {},
   "outputs": [
    {
     "name": "stdout",
     "output_type": "stream",
     "text": [
      "Control Identifiers:\n",
      "\n",
      "Notepad - '未命名 - 記事本'    (L323, T406, R1523, B919)\n",
      "['未命名 - 記事本Notepad', 'Notepad', '未命名 - 記事本']\n",
      "child_window(title=\"未命名 - 記事本\", class_name=\"Notepad\")\n",
      "   | \n",
      "   | Edit - ''    (L331, T457, R1515, B911)\n",
      "   | ['Edit', '未命名 - 記事本Edit']\n",
      "   | child_window(class_name=\"Edit\")\n",
      "   | \n",
      "   | StatusBar - ''    (L331, T889, R1515, B911)\n",
      "   | ['StatusBar', '未命名 - 記事本StatusBar', 'StatusBar   第 1 列，第 1 行  ']\n",
      "   | child_window(class_name=\"msctls_statusbar32\")\n"
     ]
    }
   ],
   "source": [
    "from pywinauto.application import Application\n",
    "app = Application(backend=\"win32\").start('notepad')\n",
    "\n",
    "app.Notepad.wait('ready')\n",
    "#\n",
    "#dlg_spec = app['未命名 - 記事本']\n",
    "app.Notepad.print_control_identifiers()\n",
    "\n",
    "app.Notepad.Edit.type_keys('dovah')\n",
    "app.Notepad.menu_select('編輯(E) -> 取代(R)...\tCtrl+H')\n",
    "app.取代.Edit1.type_keys('dovah')\n",
    "app.取代.Edit2.type_keys('dovahkiin')\n",
    "app.取代.Button3.click()\n",
    "\n",
    "#根據標題（窗口文字，名稱）:app.Properties.OK.click()\n",
    "#按標題和控制類型：app.Properties.OKButton.click()\n",
    "#通過控制類型和數量：app.Properties.Button3.click()(Button和Button1匹配相同按鈕，button2匹配下一個按鈕)\n",
    "#通過左上角的標籤和控件類型：app.OpenDialog.FileNameEdit.set_text(\"\")\n",
    "#按控件類型和項目文本：app.Properties.TabControlSharing.select(\"General\")\n"
   ]
  },
  {
   "cell_type": "code",
   "execution_count": 9,
   "metadata": {
    "scrolled": true
   },
   "outputs": [
    {
     "name": "stdout",
     "output_type": "stream",
     "text": [
      "Control Identifiers:\n",
      "\n",
      "Dialog - '登入：主機 [ SP\\sqlexpress,1554 ] -- 系統 [ pos ]'    (L545, T329, R1055, B570)\n",
      "['Dialog', '登入：主機 [ SP\\\\sqlexpress,1554 ] -- 系統 [ pos ]', '登入：主機 [ SP\\\\sqlexpress,1554 ] -- 系統 [ pos ]Dialog']\n",
      "child_window(title=\"登入：主機 [ SP\\sqlexpress,1554 ] -- 系統 [ pos ]\", control_type=\"Window\")\n",
      "   | \n",
      "   | Pane - ''    (L889, T355, R1052, B567)\n",
      "   | ['', 'Pane', '0', '1', '00', '01', '10', '11', 'Pane0', 'Pane1']\n",
      "   | child_window(auto_id=\"2099020\", control_type=\"Pane\")\n",
      "   |    | \n",
      "   |    | Button - ''    (L997, T510, R1051, B561)\n",
      "   |    | ['2', 'Button', 'Button0', 'Button1', '20', '21']\n",
      "   |    | child_window(auto_id=\"528190\", control_type=\"Button\")\n",
      "   |    | \n",
      "   |    | Button - 'C'    (L943, T510, R997, B561)\n",
      "   |    | ['Button2', 'C', 'CButton']\n",
      "   |    | child_window(title=\"C\", auto_id=\"2166286\", control_type=\"Button\")\n",
      "   |    | \n",
      "   |    | Button - '0'    (L889, T510, R943, B561)\n",
      "   |    | ['Button3', '0Button', '02']\n",
      "   |    | child_window(title=\"0\", auto_id=\"1445204\", control_type=\"Button\")\n",
      "   |    | \n",
      "   |    | Button - '3'    (L997, T458, R1051, B509)\n",
      "   |    | ['3', 'Button4', '3Button']\n",
      "   |    | child_window(title=\"3\", auto_id=\"658642\", control_type=\"Button\")\n",
      "   |    | \n",
      "   |    | Button - '2'    (L943, T458, R997, B509)\n",
      "   |    | ['22', 'Button5', '2Button']\n",
      "   |    | child_window(title=\"2\", auto_id=\"2034742\", control_type=\"Button\")\n",
      "   |    | \n",
      "   |    | Button - '1'    (L889, T458, R943, B509)\n",
      "   |    | ['Button6', '12', '1Button']\n",
      "   |    | child_window(title=\"1\", auto_id=\"2821642\", control_type=\"Button\")\n",
      "   |    | \n",
      "   |    | Button - '6'    (L997, T406, R1051, B457)\n",
      "   |    | ['Button7', '6', '6Button']\n",
      "   |    | child_window(title=\"6\", auto_id=\"1117610\", control_type=\"Button\")\n",
      "   |    | \n",
      "   |    | Button - '5'    (L943, T406, R997, B457)\n",
      "   |    | ['Button8', '5', '5Button']\n",
      "   |    | child_window(title=\"5\", auto_id=\"1183034\", control_type=\"Button\")\n",
      "   |    | \n",
      "   |    | Button - '4'    (L889, T406, R943, B457)\n",
      "   |    | ['Button9', '4', '4Button']\n",
      "   |    | child_window(title=\"4\", auto_id=\"2295550\", control_type=\"Button\")\n",
      "   |    | \n",
      "   |    | Button - '9'    (L997, T355, R1051, B406)\n",
      "   |    | ['9', 'Button10', '9Button']\n",
      "   |    | child_window(title=\"9\", auto_id=\"2558634\", control_type=\"Button\")\n",
      "   |    | \n",
      "   |    | Button - '8'    (L943, T355, R997, B406)\n",
      "   |    | ['Button11', '8Button', '8']\n",
      "   |    | child_window(title=\"8\", auto_id=\"2033894\", control_type=\"Button\")\n",
      "   |    | \n",
      "   |    | Button - '7'    (L889, T355, R943, B406)\n",
      "   |    | ['Button12', '7Button', '7']\n",
      "   |    | child_window(title=\"7\", auto_id=\"1706680\", control_type=\"Button\")\n",
      "   | \n",
      "   | Pane - ''    (L548, T355, R889, B567)\n",
      "   | ['13', 'Pane2']\n",
      "   | child_window(auto_id=\"3476124\", control_type=\"Pane\")\n",
      "   |    | \n",
      "   |    | Button - '選項(O) >>'    (L788, T528, R868, B558)\n",
      "   |    | ['Button13', '選項(O) >>', '選項(O) >>Button']\n",
      "   |    | child_window(title=\"選項(O) >>\", auto_id=\"2755528\", control_type=\"Button\")\n",
      "   |    | \n",
      "   |    | Button - '離 開(x)'    (L699, T528, R779, B558)\n",
      "   |    | ['離 開(x)Button', 'Button14', '離 開(x)']\n",
      "   |    | child_window(title=\"離 開(x)\", auto_id=\"2295746\", control_type=\"Button\")\n",
      "   |    | \n",
      "   |    | Button - '登 入(L) '    (L611, T528, R691, B558)\n",
      "   |    | ['登 入(L) ', 'Button15', '登 入(L) Button']\n",
      "   |    | child_window(title=\"登 入(L) \", auto_id=\"1706682\", control_type=\"Button\")\n",
      "   |    | \n",
      "   |    | Pane - ''    (L548, T355, R889, B434)\n",
      "   |    | ['14', 'Pane3']\n",
      "   |    | child_window(auto_id=\"724398\", control_type=\"Pane\")\n",
      "   |    | \n",
      "   |    | Edit - ''    (L634, T483, R869, B507)\n",
      "   |    | ['Edit', '15', 'Edit0', 'Edit1']\n",
      "   |    | child_window(auto_id=\"789896\", control_type=\"Edit\")\n",
      "   |    | \n",
      "   |    | Edit - ''    (L634, T457, R869, B481)\n",
      "   |    | ['Edit2', '16']\n",
      "   |    | child_window(auto_id=\"1707186\", control_type=\"Edit\")\n",
      "   | \n",
      "   | TitleBar - ''    (L548, T332, R1052, B355)\n",
      "   | ['17', 'TitleBar']\n"
     ]
    },
    {
     "data": {
      "text/plain": [
       "<uia_controls.ButtonWrapper - '登 入(L) ', Button, 3713041255210071831>"
      ]
     },
     "execution_count": 9,
     "metadata": {},
     "output_type": "execute_result"
    }
   ],
   "source": [
    "#開啟POS\n",
    "from pywinauto.application import Application\n",
    "app = Application(backend=\"uia\").start('D:\\sqldata\\POS.exe')\n",
    "\n",
    "# 查到这个记事本的控件树\n",
    "dlg_spec = app.Dialog  #鎖定視窗\n",
    "dlg_spec.print_control_identifiers()\n",
    "dlg_spec.TEdit.type_keys('0800') #密碼\n",
    "dlg_spec.Button15.click()  #登入\n",
    "\n"
   ]
  },
  {
   "cell_type": "code",
   "execution_count": 177,
   "metadata": {},
   "outputs": [],
   "source": [
    "from pywinauto.keyboard import SendKeys\n",
    "def rpout(price):\n",
    "    dlg2 = app['POS_2018_04']\n",
    "    #dlg2.print_control_identifiers()\n",
    "    dlg2.清除.click()\n",
    "    for key in price:\n",
    "        SendKeys('{VK_NUMPAD'+key+'}')\n",
    "    dlg2.日用品.click()\n",
    "    dlg2.Button27.click() #小計\n",
    "    #dlg2.Button26.click() #列印發票"
   ]
  },
  {
   "cell_type": "code",
   "execution_count": 162,
   "metadata": {},
   "outputs": [],
   "source": []
  },
  {
   "cell_type": "code",
   "execution_count": 178,
   "metadata": {},
   "outputs": [],
   "source": [
    "def doit():\n",
    "    txt = open('aa.txt', 'r')\n",
    "    txtcontent = txt.read().split('\\n')\n",
    "    outcontent = []\n",
    "    for po in txtcontent:\n",
    "        if po != \"\":\n",
    "            rpout(po)"
   ]
  },
  {
   "cell_type": "code",
   "execution_count": 11,
   "metadata": {},
   "outputs": [
    {
     "data": {
      "text/plain": [
       "<uia_controls.ButtonWrapper - '日用品', Button, 3713040191217899831>"
      ]
     },
     "execution_count": 11,
     "metadata": {},
     "output_type": "execute_result"
    }
   ],
   "source": [
    "dlg_spec.日用品.click()\n"
   ]
  },
  {
   "cell_type": "code",
   "execution_count": 23,
   "metadata": {},
   "outputs": [],
   "source": []
  },
  {
   "cell_type": "code",
   "execution_count": 20,
   "metadata": {},
   "outputs": [],
   "source": [
    "import tkinter\n",
    "gui = tkinter.Tk()\n",
    "gui.geometry(\"300x80\")\n",
    "btn = tkinter.Button(gui, text =\"執行\", command = doit)\n",
    "btn.pack(anchor='center', expand='yes')\n",
    "gui.mainloop()\n"
   ]
  },
  {
   "cell_type": "code",
   "execution_count": null,
   "metadata": {},
   "outputs": [],
   "source": []
  }
 ],
 "metadata": {
  "kernelspec": {
   "display_name": "Python 3",
   "language": "python",
   "name": "python3"
  },
  "language_info": {
   "codemirror_mode": {
    "name": "ipython",
    "version": 3
   },
   "file_extension": ".py",
   "mimetype": "text/x-python",
   "name": "python",
   "nbconvert_exporter": "python",
   "pygments_lexer": "ipython3",
   "version": "3.6.5"
  }
 },
 "nbformat": 4,
 "nbformat_minor": 2
}

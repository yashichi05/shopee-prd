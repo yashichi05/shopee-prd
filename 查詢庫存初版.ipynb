{
 "cells": [
  {
   "cell_type": "code",
   "execution_count": 25,
   "metadata": {},
   "outputs": [
    {
     "name": "stdout",
     "output_type": "stream",
     "text": [
      "驗證成功 368538061:19 kitty\n",
      "驗證成功 368538062:17 米奇\n",
      "2   ● 2:上架,3:下架\n"
     ]
    }
   ],
   "source": [
    "#yahoo 下架會正常\n",
    "pdid = \"100215396811\"\n",
    "from bs4 import BeautifulSoup\n",
    "import requests\n",
    "import json\n",
    "url = \"https://tw.bid.yahoo.com/item/\"+pdid\n",
    "my_headers = {'user-agent': 'Mozilla/5.0 (Windows NT 10.0; Win64; x64) AppleWebKit/537.36 (KHTML, like Gecko) Chrome/68.0.3440.106 Safari/537.36'}\n",
    "gotrq = requests.get(url,headers = my_headers)\n",
    "soup = BeautifulSoup(gotrq.text, \"html.parser\") #\"html.parser\" html解析器 將html 轉為bs4格式操作\n",
    "#for item in soup.select(\".listing-title\"): #html 可以使用select 選擇想要的東西\n",
    "    #print(item.select(\"a\")[0].text)\n",
    "gotjson = soup.select(\"#isoredux-data\")[0].get(\"data-state\") #get 取得屬性\n",
    "load = json.loads(gotjson)  #轉成python dict\n",
    "\n",
    "for i in range(len(load[\"item\"][\"models\"])): #提取ID\n",
    "    specnameID = str(load[\"item\"][\"models\"][i][\"specCombination\"]).split(\":\")\n",
    "    specname = str(load[\"item\"][\"specs\"][0]['options'][i]['name'])\n",
    "    if specnameID[1] == str(load[\"item\"][\"specs\"][0]['options'][i]['id']):\n",
    "        text = '驗證成功 '\n",
    "    \n",
    "    print(text+load[\"item\"][\"models\"][i][\"id\"]+\":\"+ str(load[\"item\"][\"models\"][i][\"qty\"])+\" \"+specname)\n",
    "print(str(load[\"item\"][\"status\"])+\"   ● 2:上架,3:下架\")"
   ]
  },
  {
   "cell_type": "code",
   "execution_count": null,
   "metadata": {},
   "outputs": [],
   "source": []
  },
  {
   "cell_type": "code",
   "execution_count": 32,
   "metadata": {
    "scrolled": true
   },
   "outputs": [
    {
     "ename": "NoSuchElementException",
     "evalue": "Message: no such element: Unable to locate element: {\"method\":\"css selector\",\"selector\":\"input.shopee-button-outline\"}\n  (Session info: chrome=68.0.3440.106)\n  (Driver info: chromedriver=2.40.565498 (ea082db3280dd6843ebfb08a625e3eb905c4f5ab),platform=Windows NT 10.0.17134 x86_64)\n",
     "output_type": "error",
     "traceback": [
      "\u001b[1;31m---------------------------------------------------------------------------\u001b[0m",
      "\u001b[1;31mNoSuchElementException\u001b[0m                    Traceback (most recent call last)",
      "\u001b[1;32m<ipython-input-32-34e093cfc98d>\u001b[0m in \u001b[0;36m<module>\u001b[1;34m()\u001b[0m\n\u001b[0;32m     16\u001b[0m \u001b[0mbrowser\u001b[0m\u001b[1;33m.\u001b[0m\u001b[0mget\u001b[0m\u001b[1;33m(\u001b[0m\u001b[1;34m'https://shopee.tw/product/2019696/'\u001b[0m\u001b[1;33m+\u001b[0m\u001b[0mpdid\u001b[0m\u001b[1;33m)\u001b[0m\u001b[1;33m\u001b[0m\u001b[0m\n\u001b[0;32m     17\u001b[0m \u001b[0mtime\u001b[0m\u001b[1;33m.\u001b[0m\u001b[0msleep\u001b[0m\u001b[1;33m(\u001b[0m\u001b[1;36m1\u001b[0m\u001b[1;33m)\u001b[0m \u001b[1;31m#第一次讀取會失敗 可能要加點選事件，或是觀看視窗的事件 資料可能放在dataLayer[5] #判斷4有無值，無值則layer[5]\u001b[0m\u001b[1;33m\u001b[0m\u001b[0m\n\u001b[1;32m---> 18\u001b[1;33m \u001b[0mbrowser\u001b[0m\u001b[1;33m.\u001b[0m\u001b[0mfind_element_by_css_selector\u001b[0m\u001b[1;33m(\u001b[0m\u001b[1;34m\"input.shopee-button-outline\"\u001b[0m\u001b[1;33m)\u001b[0m\u001b[1;33m.\u001b[0m\u001b[0mclick\u001b[0m\u001b[1;33m(\u001b[0m\u001b[1;33m)\u001b[0m\u001b[1;33m\u001b[0m\u001b[0m\n\u001b[0m\u001b[0;32m     19\u001b[0m \u001b[1;32mtry\u001b[0m\u001b[1;33m:\u001b[0m\u001b[1;33m\u001b[0m\u001b[0m\n\u001b[0;32m     20\u001b[0m     \u001b[0mbrowser\u001b[0m\u001b[1;33m.\u001b[0m\u001b[0mexecute_script\u001b[0m\u001b[1;33m(\u001b[0m\u001b[1;34m\"return document.getElementById('main').innerHTML = JSON.stringify(dataLayer[4].info.impressions[0].targetData.item)\"\u001b[0m\u001b[1;33m)\u001b[0m\u001b[1;33m\u001b[0m\u001b[0m\n",
      "\u001b[1;32mC:\\ProgramData\\Anaconda3\\lib\\site-packages\\selenium\\webdriver\\remote\\webdriver.py\u001b[0m in \u001b[0;36mfind_element_by_css_selector\u001b[1;34m(self, css_selector)\u001b[0m\n\u001b[0;32m    595\u001b[0m             \u001b[0melement\u001b[0m \u001b[1;33m=\u001b[0m \u001b[0mdriver\u001b[0m\u001b[1;33m.\u001b[0m\u001b[0mfind_element_by_css_selector\u001b[0m\u001b[1;33m(\u001b[0m\u001b[1;34m'#foo'\u001b[0m\u001b[1;33m)\u001b[0m\u001b[1;33m\u001b[0m\u001b[0m\n\u001b[0;32m    596\u001b[0m         \"\"\"\n\u001b[1;32m--> 597\u001b[1;33m         \u001b[1;32mreturn\u001b[0m \u001b[0mself\u001b[0m\u001b[1;33m.\u001b[0m\u001b[0mfind_element\u001b[0m\u001b[1;33m(\u001b[0m\u001b[0mby\u001b[0m\u001b[1;33m=\u001b[0m\u001b[0mBy\u001b[0m\u001b[1;33m.\u001b[0m\u001b[0mCSS_SELECTOR\u001b[0m\u001b[1;33m,\u001b[0m \u001b[0mvalue\u001b[0m\u001b[1;33m=\u001b[0m\u001b[0mcss_selector\u001b[0m\u001b[1;33m)\u001b[0m\u001b[1;33m\u001b[0m\u001b[0m\n\u001b[0m\u001b[0;32m    598\u001b[0m \u001b[1;33m\u001b[0m\u001b[0m\n\u001b[0;32m    599\u001b[0m     \u001b[1;32mdef\u001b[0m \u001b[0mfind_elements_by_css_selector\u001b[0m\u001b[1;33m(\u001b[0m\u001b[0mself\u001b[0m\u001b[1;33m,\u001b[0m \u001b[0mcss_selector\u001b[0m\u001b[1;33m)\u001b[0m\u001b[1;33m:\u001b[0m\u001b[1;33m\u001b[0m\u001b[0m\n",
      "\u001b[1;32mC:\\ProgramData\\Anaconda3\\lib\\site-packages\\selenium\\webdriver\\remote\\webdriver.py\u001b[0m in \u001b[0;36mfind_element\u001b[1;34m(self, by, value)\u001b[0m\n\u001b[0;32m    964\u001b[0m         return self.execute(Command.FIND_ELEMENT, {\n\u001b[0;32m    965\u001b[0m             \u001b[1;34m'using'\u001b[0m\u001b[1;33m:\u001b[0m \u001b[0mby\u001b[0m\u001b[1;33m,\u001b[0m\u001b[1;33m\u001b[0m\u001b[0m\n\u001b[1;32m--> 966\u001b[1;33m             'value': value})['value']\n\u001b[0m\u001b[0;32m    967\u001b[0m \u001b[1;33m\u001b[0m\u001b[0m\n\u001b[0;32m    968\u001b[0m     \u001b[1;32mdef\u001b[0m \u001b[0mfind_elements\u001b[0m\u001b[1;33m(\u001b[0m\u001b[0mself\u001b[0m\u001b[1;33m,\u001b[0m \u001b[0mby\u001b[0m\u001b[1;33m=\u001b[0m\u001b[0mBy\u001b[0m\u001b[1;33m.\u001b[0m\u001b[0mID\u001b[0m\u001b[1;33m,\u001b[0m \u001b[0mvalue\u001b[0m\u001b[1;33m=\u001b[0m\u001b[1;32mNone\u001b[0m\u001b[1;33m)\u001b[0m\u001b[1;33m:\u001b[0m\u001b[1;33m\u001b[0m\u001b[0m\n",
      "\u001b[1;32mC:\\ProgramData\\Anaconda3\\lib\\site-packages\\selenium\\webdriver\\remote\\webdriver.py\u001b[0m in \u001b[0;36mexecute\u001b[1;34m(self, driver_command, params)\u001b[0m\n\u001b[0;32m    318\u001b[0m         \u001b[0mresponse\u001b[0m \u001b[1;33m=\u001b[0m \u001b[0mself\u001b[0m\u001b[1;33m.\u001b[0m\u001b[0mcommand_executor\u001b[0m\u001b[1;33m.\u001b[0m\u001b[0mexecute\u001b[0m\u001b[1;33m(\u001b[0m\u001b[0mdriver_command\u001b[0m\u001b[1;33m,\u001b[0m \u001b[0mparams\u001b[0m\u001b[1;33m)\u001b[0m\u001b[1;33m\u001b[0m\u001b[0m\n\u001b[0;32m    319\u001b[0m         \u001b[1;32mif\u001b[0m \u001b[0mresponse\u001b[0m\u001b[1;33m:\u001b[0m\u001b[1;33m\u001b[0m\u001b[0m\n\u001b[1;32m--> 320\u001b[1;33m             \u001b[0mself\u001b[0m\u001b[1;33m.\u001b[0m\u001b[0merror_handler\u001b[0m\u001b[1;33m.\u001b[0m\u001b[0mcheck_response\u001b[0m\u001b[1;33m(\u001b[0m\u001b[0mresponse\u001b[0m\u001b[1;33m)\u001b[0m\u001b[1;33m\u001b[0m\u001b[0m\n\u001b[0m\u001b[0;32m    321\u001b[0m             response['value'] = self._unwrap_value(\n\u001b[0;32m    322\u001b[0m                 response.get('value', None))\n",
      "\u001b[1;32mC:\\ProgramData\\Anaconda3\\lib\\site-packages\\selenium\\webdriver\\remote\\errorhandler.py\u001b[0m in \u001b[0;36mcheck_response\u001b[1;34m(self, response)\u001b[0m\n\u001b[0;32m    240\u001b[0m                 \u001b[0malert_text\u001b[0m \u001b[1;33m=\u001b[0m \u001b[0mvalue\u001b[0m\u001b[1;33m[\u001b[0m\u001b[1;34m'alert'\u001b[0m\u001b[1;33m]\u001b[0m\u001b[1;33m.\u001b[0m\u001b[0mget\u001b[0m\u001b[1;33m(\u001b[0m\u001b[1;34m'text'\u001b[0m\u001b[1;33m)\u001b[0m\u001b[1;33m\u001b[0m\u001b[0m\n\u001b[0;32m    241\u001b[0m             \u001b[1;32mraise\u001b[0m \u001b[0mexception_class\u001b[0m\u001b[1;33m(\u001b[0m\u001b[0mmessage\u001b[0m\u001b[1;33m,\u001b[0m \u001b[0mscreen\u001b[0m\u001b[1;33m,\u001b[0m \u001b[0mstacktrace\u001b[0m\u001b[1;33m,\u001b[0m \u001b[0malert_text\u001b[0m\u001b[1;33m)\u001b[0m\u001b[1;33m\u001b[0m\u001b[0m\n\u001b[1;32m--> 242\u001b[1;33m         \u001b[1;32mraise\u001b[0m \u001b[0mexception_class\u001b[0m\u001b[1;33m(\u001b[0m\u001b[0mmessage\u001b[0m\u001b[1;33m,\u001b[0m \u001b[0mscreen\u001b[0m\u001b[1;33m,\u001b[0m \u001b[0mstacktrace\u001b[0m\u001b[1;33m)\u001b[0m\u001b[1;33m\u001b[0m\u001b[0m\n\u001b[0m\u001b[0;32m    243\u001b[0m \u001b[1;33m\u001b[0m\u001b[0m\n\u001b[0;32m    244\u001b[0m     \u001b[1;32mdef\u001b[0m \u001b[0m_value_or_default\u001b[0m\u001b[1;33m(\u001b[0m\u001b[0mself\u001b[0m\u001b[1;33m,\u001b[0m \u001b[0mobj\u001b[0m\u001b[1;33m,\u001b[0m \u001b[0mkey\u001b[0m\u001b[1;33m,\u001b[0m \u001b[0mdefault\u001b[0m\u001b[1;33m)\u001b[0m\u001b[1;33m:\u001b[0m\u001b[1;33m\u001b[0m\u001b[0m\n",
      "\u001b[1;31mNoSuchElementException\u001b[0m: Message: no such element: Unable to locate element: {\"method\":\"css selector\",\"selector\":\"input.shopee-button-outline\"}\n  (Session info: chrome=68.0.3440.106)\n  (Driver info: chromedriver=2.40.565498 (ea082db3280dd6843ebfb08a625e3eb905c4f5ab),platform=Windows NT 10.0.17134 x86_64)\n"
     ]
    }
   ],
   "source": [
    "#蝦皮 下架商品會是0\n",
    "pdid = \"145040877\"\n",
    "load = \"\" #重製\n",
    "from selenium import webdriver\n",
    "import time\n",
    "import json\n",
    "import requests\n",
    "import time\n",
    "\n",
    "chrome_options = webdriver.ChromeOptions() #新增chrome選項\n",
    "#chrome_options.add_argument('--headless') #隱藏GUI\n",
    "#chrome_options.add_argument('--disable-gpu')\n",
    "\n",
    "\n",
    "browser = webdriver.Chrome('chromedriver.exe',chrome_options = chrome_options) \n",
    "browser.get('https://shopee.tw/product/2019696/'+pdid) \n",
    "time.sleep(1) #第一次讀取會失敗 可能要加點選事件，或是觀看視窗的事件 資料可能放在dataLayer[5] #判斷4有無值，無值則layer[5]\n",
    "browser.find_element_by_css_selector(\"input.shopee-button-outline\").click()\n",
    "try:\n",
    "    browser.execute_script(\"return document.getElementById('main').innerHTML = JSON.stringify(dataLayer[4].info.impressions[0].targetData.item)\")\n",
    "    if browser.find_element_by_id('main').text == 'undefined': #如果沒有值，則找layer5\n",
    "        browser.execute_script(\"return document.getElementById('main').innerHTML = JSON.stringify(dataLayer[5].info.impressions[0].targetData.item)\")\n",
    "    gotjson = browser.find_element_by_id('main').text #取得JSON\n",
    "    load = json.loads(gotjson)\n",
    "    if len(load['models']) == 0: #判斷有沒有款式\n",
    "        print(load['stock'])\n",
    "    else:\n",
    "        for i in range(len(load['models'])):\n",
    "            print(str(load['models'][i]['modelid'])+\":\"+str(load['models'][i]['stock'])+\" \"+str(load['models'][i]['name']))    \n",
    "except:\n",
    "    print('...')\n",
    "finally:\n",
    "    #print('...')\n",
    "    browser.quit()"
   ]
  },
  {
   "cell_type": "code",
   "execution_count": null,
   "metadata": {},
   "outputs": [],
   "source": [
    "from bs4 import BeautifulSoup\n",
    "import requests\n",
    "import json\n",
    "url = \"https://shopee.tw/api/v1/item_detail/?item_id=30324026&shop_id=2019696\"\n",
    "my_headers = {'user-agent': 'Mozilla/5.0 (Windows NT 10.0; Win64; x64) AppleWebKit/537.36 (KHTML, like Gecko) Chrome/68.0.3440.106 Safari/537.36'}\n",
    "cookie = {'value': 'f6d90f8e-b763-11e8-9f87-b496912770ce'}\n",
    "gotrq = requests.get(url,headers = my_headers,cookies = cookie)\n",
    "api = json.loads(gotrq.text) #\"html.parser\" html解析器 將html 轉為bs4格式操作\n",
    "#for item in soup.select(\".listing-title\"): #html 可以使用select 選擇想要的東西\n",
    "    #print(item.select(\"a\")[0].text)\n",
    "print(gotrq.cookies)"
   ]
  },
  {
   "cell_type": "code",
   "execution_count": null,
   "metadata": {},
   "outputs": [],
   "source": [
    "#ruten #下架商品會正常\n",
    "pdid = \"21738136998850\"\n",
    "from bs4 import BeautifulSoup\n",
    "import requests\n",
    "import json\n",
    "url = \"https://goods.ruten.com.tw/item/show?\"+pdid\n",
    "my_headers = {'user-agent': 'Mozilla/5.0 (Windows NT 10.0; Win64; x64) AppleWebKit/537.36 (KHTML, like Gecko) Chrome/68.0.3440.106 Safari/537.36'}\n",
    "gotrq = requests.get(url,headers = my_headers)\n",
    "soup = BeautifulSoup(gotrq.text, \"html.parser\") #\"html.parser\" html解析器 將html 轉為bs4格式操作\n",
    "strnum = soup.select('script[type=\"text/javascript\"]')[16].text.find(\"RT.context = \") #提取JSON資料 #find 找到RT.context的位址\n",
    "gotjson = soup.select('script[type=\"text/javascript\"]')[16].text[strnum+len(\"RT.context = \"):-2]\n",
    "load = json.loads(gotjson)  #轉成python dict\n",
    "if 'spec_info' in load.keys(): #是否有款式\n",
    "    for k,v in load['spec_info']['specs'].items():#for 出dict 資料\n",
    "        print(k+':'+v['spec_num']+\" \"+v['spec_name'])\n",
    "else:\n",
    "    print(load['remain_count'])\n",
    "print(\"有上架嗎?\"+str(load['is_product_buyer']))\n"
   ]
  },
  {
   "cell_type": "code",
   "execution_count": 1,
   "metadata": {},
   "outputs": [
    {
     "name": "stdout",
     "output_type": "stream",
     "text": [
      "0:480 \n"
     ]
    }
   ],
   "source": [
    "#PC \n",
    "pdid = \"C1139763580\"\n",
    "from bs4 import BeautifulSoup\n",
    "import requests\n",
    "import json\n",
    "url = \"http://seller.pcstore.com.tw/S188431702/\"+pdid+\".htm\"\n",
    "my_headers = {'user-agent': 'Mozilla/5.0 (Windows NT 10.0; Win64; x64) AppleWebKit/537.36 (KHTML, like Gecko) Chrome/68.0.3440.106 Safari/537.36'}\n",
    "gotrq = requests.get(url,headers = my_headers)\n",
    "soup = BeautifulSoup(gotrq.text, \"html.parser\") #\"html.parser\" html解析器 將html 轉為bs4格式操作\n",
    "gotjson = soup.select('#specs')[0].text\n",
    "load = json.loads(gotjson)\n",
    "\n",
    "if type(load) == dict: #新上的都是字典檔\n",
    "    for k,v in load.items():\n",
    "        print(v['p_sseq']+\":\"+v['p_invt']+\" \"+v['p_spec'])\n",
    "else:#舊的都是陣列\n",
    "    for i in range(len(load)):\n",
    "        print(load[i]['p_sseq']+\":\"+load[i]['p_invt']+\" \"+load[i]['p_spec'])"
   ]
  },
  {
   "cell_type": "code",
   "execution_count": null,
   "metadata": {},
   "outputs": [],
   "source": [
    "#PC 梓原 #下架會錯誤\n",
    "pdid = \"C1142301095\"\n",
    "from bs4 import BeautifulSoup\n",
    "import requests\n",
    "import json\n",
    "url = \"http://seller.pcstore.com.tw/S163498400/\"+pdid+\".htm\"\n",
    "my_headers = {'user-agent': 'Mozilla/5.0 (Windows NT 10.0; Win64; x64) AppleWebKit/537.36 (KHTML, like Gecko) Chrome/68.0.3440.106 Safari/537.36'}\n",
    "gotrq = requests.get(url,headers = my_headers)\n",
    "soup = BeautifulSoup(gotrq.text, \"html.parser\") #\"html.parser\" html解析器 將html 轉為bs4格式操作\n",
    "gotjson = soup.select('#specs')[0].text\n",
    "load = json.loads(gotjson)\n",
    "\n",
    "if type(load) == dict: #新上的都是字典檔\n",
    "    for k,v in load.items():\n",
    "        print(v['p_sseq']+\":\"+v['p_invt']+\" \"+v['p_spec'])\n",
    "else:#舊的都是陣列\n",
    "    for i in range(len(load)):\n",
    "        print(load[i]['p_sseq']+\":\"+load[i]['p_invt']+\" \"+load[i]['p_spec'])"
   ]
  },
  {
   "cell_type": "code",
   "execution_count": null,
   "metadata": {},
   "outputs": [],
   "source": []
  },
  {
   "cell_type": "code",
   "execution_count": 5,
   "metadata": {},
   "outputs": [
    {
     "name": "stdout",
     "output_type": "stream",
     "text": [
      "721147:40 None\n"
     ]
    }
   ],
   "source": [
    "#pcone #下架商品會錯誤\n",
    "pdid = \"170220443621\"\n",
    "from bs4 import BeautifulSoup\n",
    "import requests\n",
    "import json\n",
    "url = \"https://www.pcone.com.tw/product/info/\"+pdid\n",
    "my_headers = {'user-agent': 'Mozilla/5.0 (Windows NT 10.0; Win64; x64) AppleWebKit/537.36 (KHTML, like Gecko) Chrome/68.0.3440.106 Safari/537.36'}\n",
    "gotrq = requests.get(url,headers = my_headers)\n",
    "soup = BeautifulSoup(gotrq.text, \"html.parser\") #\"html.parser\" html解析器 將html 轉為bs4格式操作\n",
    "strnum = soup.select('script')[23].text.find(\"window._pc_p = \") #提取JSON資料\n",
    "gotjson = soup.select('script')[23].text[strnum+len(\"window._pc_p = \"):-2]\n",
    "load = json.loads(gotjson)  #轉成python dict\n",
    "\n",
    "for i in range(len(load['volumes'])):\n",
    "    print(str(load['volumes'][i]['volume_id'])+\":\"+str(load['volumes'][i]['volume_remaining'])+\" \"+str(load['volumes'][i]['option']))\n",
    "\n"
   ]
  },
  {
   "cell_type": "code",
   "execution_count": 38,
   "metadata": {},
   "outputs": [],
   "source": [
    "#讀取\n",
    "#第一次執行需要用CMD執行 才會跑出網頁認證\n",
    "from __future__ import print_function\n",
    "from googleapiclient.discovery import build\n",
    "from httplib2 import Http\n",
    "from oauth2client import file, client, tools\n",
    "\n",
    "\n",
    "# If modifying these scopes, delete the file token.json.\n",
    "SCOPES = 'https://www.googleapis.com/auth/spreadsheets'\n",
    "\n",
    "\n",
    "def main():\n",
    "    \"\"\"Shows basic usage of the Sheets API.\n",
    "    Prints values from a sample spreadsheet.\n",
    "    \"\"\"\n",
    "    store = file.Storage('token.json')\n",
    "    creds = store.get()\n",
    "    if not creds or creds.invalid:\n",
    "        flow = client.flow_from_clientsecrets('credentials.json', SCOPES)\n",
    "        creds = tools.run_flow(flow, store)\n",
    "    service = build('sheets', 'v4', http=creds.authorize(Http()))\n",
    "\n",
    "    # Call the Sheets API\n",
    "    SPREADSHEET_ID = '19ZXwhENPrLmLURoKO4xXoCDahpyMG5wuU_8xsU74kyI'\n",
    "    RANGE_NAME = '商品ID!A:Q'\n",
    "    result = service.spreadsheets().values().get(spreadsheetId=SPREADSHEET_ID,\n",
    "                                                range=RANGE_NAME).execute()\n",
    "    values = result.get('values', [])\n",
    "    if not values:\n",
    "        print('No data found.')\n",
    "    else:\n",
    "        global resultdata\n",
    "        resultdata= values\n",
    "\n",
    "if __name__ == '__main__':\n",
    "    main()"
   ]
  },
  {
   "cell_type": "code",
   "execution_count": 64,
   "metadata": {},
   "outputs": [
    {
     "name": "stdout",
     "output_type": "stream",
     "text": [
      "{'spreadsheetId': '19ZXwhENPrLmLURoKO4xXoCDahpyMG5wuU_8xsU74kyI', 'clearedRanges': [\"'庫存表'!M1:M2000\"]}\n"
     ]
    }
   ],
   "source": [
    "import time\n",
    "\n",
    "delsheet(\"'庫存表'!M:M\") #重製狀態欄\n",
    "writetime = time.strftime(\"%m-%d %H:%M\", time.localtime()) \n",
    "datay = []\n",
    "datar = []\n",
    "datas = []\n",
    "datapt = []\n",
    "datapd = []\n",
    "datapcone = []\n",
    "for row in range(1,len(resultdata)):\n",
    "    datay.append(resultdata[row][4])\n",
    "    datar.append(resultdata[row][6])\n",
    "    datas.append(resultdata[row][8])\n",
    "    datapt.append(resultdata[row][10])\n",
    "    datapd.append(resultdata[row][12])\n",
    "    datapcone.append(resultdata[row][14])\n"
   ]
  },
  {
   "cell_type": "code",
   "execution_count": 67,
   "metadata": {},
   "outputs": [
    {
     "ename": "AttributeError",
     "evalue": "'list' object has no attribute 'lastindexof'",
     "output_type": "error",
     "traceback": [
      "\u001b[1;31m---------------------------------------------------------------------------\u001b[0m",
      "\u001b[1;31mAttributeError\u001b[0m                            Traceback (most recent call last)",
      "\u001b[1;32m<ipython-input-67-4aff1b570f33>\u001b[0m in \u001b[0;36m<module>\u001b[1;34m()\u001b[0m\n\u001b[0;32m      9\u001b[0m     \u001b[0mwebID\u001b[0m \u001b[1;33m=\u001b[0m \u001b[0mresultdata\u001b[0m\u001b[1;33m[\u001b[0m\u001b[0mrow\u001b[0m\u001b[1;33m]\u001b[0m\u001b[1;33m[\u001b[0m\u001b[1;36m8\u001b[0m\u001b[1;33m]\u001b[0m \u001b[1;31m#蝦皮\u001b[0m\u001b[1;33m\u001b[0m\u001b[0m\n\u001b[0;32m     10\u001b[0m     \u001b[1;32mif\u001b[0m \u001b[0mwebID\u001b[0m\u001b[1;33m:\u001b[0m \u001b[1;31m#有值則執行\u001b[0m\u001b[1;33m\u001b[0m\u001b[0m\n\u001b[1;32m---> 11\u001b[1;33m         \u001b[0mprint\u001b[0m\u001b[1;33m(\u001b[0m\u001b[0mdatay\u001b[0m\u001b[1;33m.\u001b[0m\u001b[0mlastindexof\u001b[0m\u001b[1;33m(\u001b[0m\u001b[0mwebID\u001b[0m\u001b[1;33m)\u001b[0m\u001b[1;33m)\u001b[0m\u001b[1;33m\u001b[0m\u001b[0m\n\u001b[0m\u001b[0;32m     12\u001b[0m     \u001b[0mwebID\u001b[0m \u001b[1;33m=\u001b[0m \u001b[0mresultdata\u001b[0m\u001b[1;33m[\u001b[0m\u001b[0mrow\u001b[0m\u001b[1;33m]\u001b[0m\u001b[1;33m[\u001b[0m\u001b[1;36m10\u001b[0m\u001b[1;33m]\u001b[0m \u001b[1;31m#PC梓\u001b[0m\u001b[1;33m\u001b[0m\u001b[0m\n\u001b[0;32m     13\u001b[0m     \u001b[1;32mif\u001b[0m \u001b[0mwebID\u001b[0m\u001b[1;33m:\u001b[0m \u001b[1;31m#有值則執行\u001b[0m\u001b[1;33m\u001b[0m\u001b[0m\n",
      "\u001b[1;31mAttributeError\u001b[0m: 'list' object has no attribute 'lastindexof'"
     ]
    }
   ],
   "source": [
    "for row in range(1,5):\n",
    "    webID = resultdata[row][4] #yahoo\n",
    "    if webID: #有值則執行\n",
    "        datay.lastindexof(webID)\n",
    "\n",
    "    webID = resultdata[row][6] #露天\n",
    "    if webID: #有值則執行\n",
    "        print(webID)\n",
    "    webID = resultdata[row][8] #蝦皮\n",
    "    if webID: #有值則執行\n",
    "        print(datay.lastindexof(webID))\n",
    "    webID = resultdata[row][10] #PC梓\n",
    "    if webID: #有值則執行\n",
    "        print(webID)\n",
    "    webID = resultdata[row][12] #PC大\n",
    "    if webID: #有值則執行\n",
    "        print(webID)\n",
    "    webID = resultdata[row][14] #松果\n",
    "    if webID: #有值則執行\n",
    "        print(webID)\n",
    "    #執行完成\n"
   ]
  },
  {
   "cell_type": "code",
   "execution_count": 61,
   "metadata": {},
   "outputs": [],
   "source": [
    "#寫入\n",
    "#第一次執行需要用CMD執行 才會跑出網頁認證 SCOPE不一樣 TOKEN.JSON要刪掉重新刷過\n",
    "from __future__ import print_function\n",
    "from googleapiclient.discovery import build\n",
    "from httplib2 import Http\n",
    "from oauth2client import file, client, tools\n",
    "\n",
    "# If modifying these scopes, delete the file token.json.\n",
    "SCOPES = 'https://www.googleapis.com/auth/spreadsheets'\n",
    "\n",
    "def writesheet(sheetrange,writeVal):\n",
    "    \"\"\"Shows basic usage of the Sheets API.\n",
    "    Prints values from a sample spreadsheet.\n",
    "    \"\"\"\n",
    "    store = file.Storage('token.json')\n",
    "    creds = store.get()\n",
    "    if not creds or creds.invalid:\n",
    "        flow = client.flow_from_clientsecrets('credentials.json', SCOPES)\n",
    "        creds = tools.run_flow(flow, store)\n",
    "    service = build('sheets', 'v4', http=creds.authorize(Http()))\n",
    "\n",
    "    # Call the Sheets API\n",
    "    SPREADSHEET_ID = '19ZXwhENPrLmLURoKO4xXoCDahpyMG5wuU_8xsU74kyI'\n",
    "    RANGE_NAME = sheetrange\n",
    "    values =[['=52+25']]\n",
    "    body = {'values': writeVal}\n",
    "    value_input_option = 'USER_ENTERED'\n",
    "    result = service.spreadsheets().values().update(spreadsheetId=SPREADSHEET_ID,range=RANGE_NAME,valueInputOption=value_input_option,body=body).execute()\n",
    "    print(result)\n",
    "    \n",
    "def delsheet(sheetrange):\n",
    "    \"\"\"Shows basic usage of the Sheets API.\n",
    "    Prints values from a sample spreadsheet.\n",
    "    \"\"\"\n",
    "    store = file.Storage('token.json')\n",
    "    creds = store.get()\n",
    "    if not creds or creds.invalid:\n",
    "        flow = client.flow_from_clientsecrets('credentials.json', SCOPES)\n",
    "        creds = tools.run_flow(flow, store)\n",
    "    service = build('sheets', 'v4', http=creds.authorize(Http()))\n",
    "\n",
    "    # Call the Sheets API\n",
    "    SPREADSHEET_ID = '19ZXwhENPrLmLURoKO4xXoCDahpyMG5wuU_8xsU74kyI'\n",
    "    RANGE_NAME = {'ranges' : [sheetrange]}\n",
    "    result = service.spreadsheets().values().batchClear(spreadsheetId=SPREADSHEET_ID,body=RANGE_NAME).execute()\n",
    "    print(result)\n",
    "\n"
   ]
  },
  {
   "cell_type": "code",
   "execution_count": 89,
   "metadata": {},
   "outputs": [
    {
     "name": "stdout",
     "output_type": "stream",
     "text": [
      "4\n",
      "3\n",
      "3\n"
     ]
    }
   ],
   "source": [
    "OK = [] #完成的網頁放這邊\n",
    "for row in range(1,10):\n",
    "    webID = resultdata[row][8] #蝦皮\n",
    "    if webID and (OK.count(webID) == 0): #有網頁ID則執行且沒執行過的\n",
    "        OK.append(webID)\n",
    "        #執行DEF(webID)\n",
    "\n"
   ]
  },
  {
   "cell_type": "code",
   "execution_count": 34,
   "metadata": {},
   "outputs": [
    {
     "data": {
      "text/plain": [
       "'{\"size_chart\":\"\",\"is_cc_installment_payment_eligible\":false,\"show_official_shop_label_in_title\":false,\"free_return_day\":null,\"discount\":null,\"is_group_buy_item\":null,\"coin_spend_cash_unit\":100000,\"can_use_bundle_deal\":false,\"image_list\":[\"a2d4d11415a5c3572eafb59723f51700\",\"2c1ec163fa7d6b777e7a0376a21725a1\",\"d4c0e31c96eff39c040f0591f00d7a2c\",\"820c66961d51e7e76a524ea2148328b1\",\"89605a0ef9ab486cfd46a7f9c3f02386\",\"4e91896ab2976fd1a8b7edd66b16e7d5\",\"17b962afb4be3cab2cb2513e6953d93c\",\"9de3a8c38931b61bf9ab471feb552c31\",\"64f0de0a867e7c8b0672c8f09a0943c0\"],\"show_discount\":0,\"installment_plans\":null,\"show_shopee_verified_label\":true,\"is_full\":true,\"bundle_deal_info\":null,\"rcount_with_image\":0,\"welcome_package_info\":null,\"is_hot_sales\":null,\"is_adult\":null,\"preview_info\":null,\"group_buy_info\":null,\"coin_earn_items\":[],\"brand\":\"HARIO\",\"item_rating\":null,\"price\":58000000,\"is_category_failed\":false,\"show_official_shop_label_in_normal_position\":null,\"has_lowest_price_guarantee\":false,\"models\":[{\"modelid\":103737029,\"price\":58000000,\"name\":\"胭脂紅\",\"price_before_discount\":0,\"rebate_price\":0,\"itemid\":145040877,\"extinfo\":{},\"ctime\":1487149884,\"currency\":\"TWD\",\"status\":1,\"sold\":6,\"stock\":4,\"mtime\":1487149884,\"sku\":\"034419 \",\"promotionid\":0},{\"modelid\":103737030,\"price\":58000000,\"name\":\"墨綠\",\"price_before_discount\":0,\"rebate_price\":0,\"itemid\":145040877,\"extinfo\":{},\"ctime\":1487149884,\"currency\":\"TWD\",\"status\":1,\"sold\":4,\"stock\":6,\"mtime\":1487149884,\"sku\":\"034426\",\"promotionid\":0}],\"is_installment_payment_eligible\":false,\"name\":\"【HARIO】玻璃冷泡壺750ml 紅/綠 日本正品\",\"video_info_list\":null,\"price_before_discount\":0,\"offer_count\":0,\"flag\":458754,\"label_ids\":[],\"liked\":false,\"rating_count\":[9,0,0,0,0,9],\"price_max\":58000000,\"itemid\":145040877,\"is_non_cc_installment_payment_eligible\":false,\"shipping_icon_type\":0,\"price_max_before_discount\":-1,\"welcome_package_type\":0,\"ctime\":1487149884,\"currency\":\"TWD\",\"hashtag_list\":[],\"shopid\":2019696,\"shopee_verified\":null,\"bundle_deal_id\":0,\"catid\":73,\"sub_catid\":2686,\"status\":1,\"sold\":1,\"recommendation_info\":null,\"rating_star\":5,\"cb_option\":0,\"is_official_shop\":false,\"view_count\":null,\"stock\":10,\"flash_sale\":null,\"attributes\":[{\"is_pending_qc\":true,\"idx\":0,\"value\":\"玻璃\",\"id\":2860,\"is_timestamp\":false,\"name\":\"材質\"},{\"is_pending_qc\":true,\"idx\":0,\"value\":\"HARIO\",\"id\":4728,\"is_timestamp\":false,\"name\":\"\"},{\"is_pending_qc\":true,\"idx\":1,\"value\":\"\",\"id\":2861,\"is_timestamp\":false,\"name\":\"款式\"},{\"is_pending_qc\":true,\"idx\":2,\"value\":\"\",\"id\":2862,\"is_timestamp\":false,\"name\":\"功能\"}],\"hidden_price_display\":null,\"service_by_shopee_flag\":0,\"can_use_wholesale\":false,\"rcount_with_context\":3,\"version\":\"01bef5662c023459291fe9431738fd1d\",\"images\":\"a2d4d11415a5c3572eafb59723f51700,2c1ec163fa7d6b777e7a0376a21725a1,d4c0e31c96eff39c040f0591f00d7a2c,820c66961d51e7e76a524ea2148328b1,89605a0ef9ab486cfd46a7f9c3f02386,4e91896ab2976fd1a8b7edd66b16e7d5,17b962afb4be3cab2cb2513e6953d93c,9de3a8c38931b61bf9ab471feb552c31,64f0de0a867e7c8b0672c8f09a0943c0\",\"has_group_buy_stock\":false,\"videos\":[],\"raw_discount\":null,\"upcoming_flash_sale\":null,\"third_catid\":8005,\"wholesale_tier_list\":[],\"cmt_count\":9,\"estimated_days\":3,\"condition\":1,\"image\":\"a2d4d11415a5c3572eafb59723f51700\",\"coin_earn_label\":null,\"coin_info\":null,\"is_shopee_verified\":true,\"categories\":null,\"price_min\":58000000,\"description\":\"日本東京老字號的玻璃容器品牌，在亞洲地區乃至整個國際市場都享有盛譽\\\\n旗下產品製作精巧、清澈透明無雜質，因為選用材料為耐熱的安全玻璃素材\\\\n而這款酒瓶設計冷泡茶壺，更獲得IDEA美國傑出工業設計獎的殊榮\\\\n將西式酒瓶與東方茶藝融合的藝術逸品，可泡製各類茶飲\\\\n顏色上有胭脂紅與墨綠色可以選擇，清澈質感的玻璃瓶身，交融中西合璧的情懷\\\\n細長壺身便於放置在冰箱門格\\\\n瓶口蓋、瓶蓋、濾網、瓶身皆可拆卸清洗\\\\n便於清潔整理的物品更能夠經久耐用\\\\n就讓質感設計點綴你的生活角落吧！\\\\n\\\\n❤️產地：日本\\\\n❤️容量：750ml\\\\n❤️淨重：411g\\\\n❤️尺寸：8.7×8.4×30cm/口徑7.1 cm\\\\n❤️材質：耐熱玻璃、矽膠、PP樹脂\\\\n❤️玻璃耐熱溫度差:120℃\\\\n❤️矽膠耐熱溫度:180 ℃\\\\n❤️PP樹脂耐熱溫度: 120℃\\\\n\\\\n034419 玻璃冷泡壺750ml-胭脂紅\\\\n034426 玻璃冷泡壺750ml-墨綠\",\"is_pre_order\":false,\"liked_count\":33,\"show_official_shop_label\":false,\"tier_variations\":[],\"price_min_before_discount\":-1,\"item_status\":\"normal\",\"show_free_shipping\":true}'"
      ]
     },
     "execution_count": 34,
     "metadata": {},
     "output_type": "execute_result"
    }
   ],
   "source": [
    "browser.execute_script(\"return document.getElementById('main').innerHTML = JSON.stringify(dataLayer[4].info.impressions[0].targetData.item)\")\n"
   ]
  },
  {
   "cell_type": "code",
   "execution_count": 20,
   "metadata": {},
   "outputs": [],
   "source": [
    "\n"
   ]
  },
  {
   "cell_type": "code",
   "execution_count": null,
   "metadata": {},
   "outputs": [],
   "source": []
  }
 ],
 "metadata": {
  "kernelspec": {
   "display_name": "Python 3",
   "language": "python",
   "name": "python3"
  },
  "language_info": {
   "codemirror_mode": {
    "name": "ipython",
    "version": 3
   },
   "file_extension": ".py",
   "mimetype": "text/x-python",
   "name": "python",
   "nbconvert_exporter": "python",
   "pygments_lexer": "ipython3",
   "version": "3.6.5"
  }
 },
 "nbformat": 4,
 "nbformat_minor": 2
}

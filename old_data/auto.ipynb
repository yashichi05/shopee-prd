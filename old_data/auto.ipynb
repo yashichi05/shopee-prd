{
 "cells": [
  {
   "cell_type": "code",
   "execution_count": 20,
   "metadata": {},
   "outputs": [
    {
     "ename": "TimeoutError",
     "evalue": "timed out",
     "output_type": "error",
     "traceback": [
      "\u001b[1;31m---------------------------------------------------------------------------\u001b[0m",
      "\u001b[1;31mTimeoutError\u001b[0m                              Traceback (most recent call last)",
      "\u001b[1;32m<ipython-input-20-5c441c3942c0>\u001b[0m in \u001b[0;36m<module>\u001b[1;34m()\u001b[0m\n\u001b[0;32m      4\u001b[0m \u001b[0mapp\u001b[0m \u001b[1;33m=\u001b[0m \u001b[0mApplication\u001b[0m\u001b[1;33m(\u001b[0m\u001b[0mbackend\u001b[0m\u001b[1;33m=\u001b[0m\u001b[1;34m\"uia\"\u001b[0m\u001b[1;33m)\u001b[0m\u001b[1;33m.\u001b[0m\u001b[0mstart\u001b[0m\u001b[1;33m(\u001b[0m\u001b[1;34mr'D:\\sqldata\\POS.exe'\u001b[0m\u001b[1;33m)\u001b[0m\u001b[1;33m\u001b[0m\u001b[0m\n\u001b[0;32m      5\u001b[0m \u001b[0mdlg_spec\u001b[0m \u001b[1;33m=\u001b[0m \u001b[0mapp\u001b[0m\u001b[1;33m.\u001b[0m\u001b[0mDialog\u001b[0m\u001b[1;33m\u001b[0m\u001b[0m\n\u001b[1;32m----> 6\u001b[1;33m \u001b[0mdlg_spec\u001b[0m\u001b[1;33m.\u001b[0m\u001b[0mwait\u001b[0m\u001b[1;33m(\u001b[0m\u001b[1;34m'visible'\u001b[0m\u001b[1;33m)\u001b[0m\u001b[1;33m\u001b[0m\u001b[0m\n\u001b[0m\u001b[0;32m      7\u001b[0m \u001b[0mdlg_spec\u001b[0m\u001b[1;33m.\u001b[0m\u001b[0mTEdit\u001b[0m\u001b[1;33m.\u001b[0m\u001b[0mtype_keys\u001b[0m\u001b[1;33m(\u001b[0m\u001b[1;34m'0800'\u001b[0m\u001b[1;33m)\u001b[0m \u001b[1;31m#密碼\u001b[0m\u001b[1;33m\u001b[0m\u001b[0m\n",
      "\u001b[1;32mC:\\ProgramData\\Anaconda3\\lib\\site-packages\\pywinauto\\application.py\u001b[0m in \u001b[0;36mwait\u001b[1;34m(self, wait_for, timeout, retry_interval)\u001b[0m\n\u001b[0;32m    500\u001b[0m         \u001b[0mcheck_method_names\u001b[0m\u001b[1;33m,\u001b[0m \u001b[0mtimeout\u001b[0m\u001b[1;33m,\u001b[0m \u001b[0mretry_interval\u001b[0m \u001b[1;33m=\u001b[0m \u001b[0mself\u001b[0m\u001b[1;33m.\u001b[0m\u001b[0m__parse_wait_args\u001b[0m\u001b[1;33m(\u001b[0m\u001b[0mwait_for\u001b[0m\u001b[1;33m,\u001b[0m \u001b[0mtimeout\u001b[0m\u001b[1;33m,\u001b[0m \u001b[0mretry_interval\u001b[0m\u001b[1;33m)\u001b[0m\u001b[1;33m\u001b[0m\u001b[0m\n\u001b[0;32m    501\u001b[0m         wait_until(timeout, retry_interval,\n\u001b[1;32m--> 502\u001b[1;33m                    lambda: self.__check_all_conditions(check_method_names, retry_interval))\n\u001b[0m\u001b[0;32m    503\u001b[0m \u001b[1;33m\u001b[0m\u001b[0m\n\u001b[0;32m    504\u001b[0m         \u001b[1;31m# Return the wrapped control\u001b[0m\u001b[1;33m\u001b[0m\u001b[1;33m\u001b[0m\u001b[0m\n",
      "\u001b[1;32mC:\\ProgramData\\Anaconda3\\lib\\site-packages\\pywinauto\\timings.py\u001b[0m in \u001b[0;36mwait_until\u001b[1;34m(timeout, retry_interval, func, value, op, *args, **kwargs)\u001b[0m\n\u001b[0;32m    368\u001b[0m             \u001b[0merr\u001b[0m \u001b[1;33m=\u001b[0m \u001b[0mTimeoutError\u001b[0m\u001b[1;33m(\u001b[0m\u001b[1;34m\"timed out\"\u001b[0m\u001b[1;33m)\u001b[0m\u001b[1;33m\u001b[0m\u001b[0m\n\u001b[0;32m    369\u001b[0m             \u001b[0merr\u001b[0m\u001b[1;33m.\u001b[0m\u001b[0mfunction_value\u001b[0m \u001b[1;33m=\u001b[0m \u001b[0mfunc_val\u001b[0m\u001b[1;33m\u001b[0m\u001b[0m\n\u001b[1;32m--> 370\u001b[1;33m             \u001b[1;32mraise\u001b[0m \u001b[0merr\u001b[0m\u001b[1;33m\u001b[0m\u001b[0m\n\u001b[0m\u001b[0;32m    371\u001b[0m \u001b[1;33m\u001b[0m\u001b[0m\n\u001b[0;32m    372\u001b[0m     \u001b[1;32mreturn\u001b[0m \u001b[0mfunc_val\u001b[0m\u001b[1;33m\u001b[0m\u001b[0m\n",
      "\u001b[1;31mTimeoutError\u001b[0m: timed out"
     ]
    }
   ],
   "source": [
    "import pywinauto\n",
    "import time\n",
    "from pywinauto.application import Application\n",
    "app = Application(backend=\"uia\").start(r'D:\\sqldata\\POS.exe')\n",
    "dlg_spec = app.Dialog\n",
    "dlg_spec.TEdit.type_keys('0800') #密碼\n"
   ]
  },
  {
   "cell_type": "code",
   "execution_count": 21,
   "metadata": {},
   "outputs": [
    {
     "data": {
      "text/plain": [
       "<uia_controls.EditWrapper - '', Edit, 3713042535993030431>"
      ]
     },
     "execution_count": 21,
     "metadata": {},
     "output_type": "execute_result"
    }
   ],
   "source": [
    "\n",
    "dlg_spec.TEdit.type_keys('0800') #密碼"
   ]
  },
  {
   "cell_type": "code",
   "execution_count": null,
   "metadata": {},
   "outputs": [],
   "source": [
    "from pywinauto.application import Application\n",
    "app = Application(backend=\"win32\").start('notepad')\n",
    "\n",
    "app.Notepad.wait('ready')\n",
    "#\n",
    "#dlg_spec = app['未命名 - 記事本']\n",
    "app.Notepad.print_control_identifiers()\n",
    "\n",
    "app.Notepad.Edit.type_keys('dovah')\n",
    "app.Notepad.menu_select('編輯(E) -> 取代(R)...\tCtrl+H')\n",
    "app.取代.Edit1.type_keys('dovah')\n",
    "app.取代.Edit2.type_keys('dovahkiin')\n",
    "app.取代.Button3.click()\n",
    "\n",
    "\n",
    "#dlg_spec = app.Dialog  #鎖定視窗\n",
    "#dlg_spec.print_control_identifiers() #列出按鈕\n",
    "#dlg_spec.Button27.click() #點選\n",
    "#根據標題（窗口文字，名稱）:app.Properties.OK.click()\n",
    "#按標題和控制類型：app.Properties.OKButton.click()\n",
    "#通過控制類型和數量：app.Properties.Button3.click()(Button和Button1匹配相同按鈕，button2匹配下一個按鈕)\n",
    "#通過左上角的標籤和控件類型：app.OpenDialog.FileNameEdit.set_text(\"\")\n",
    "#按控件類型和項目文本：app.Properties.TabControlSharing.select(\"General\")\n"
   ]
  },
  {
   "cell_type": "code",
   "execution_count": null,
   "metadata": {
    "scrolled": true
   },
   "outputs": [],
   "source": [
    "#開啟POS\n",
    "from pywinauto.application import Application\n",
    "app = Application(backend=\"uia\").start('D:\\sqldata\\POS.exe')\n",
    "\n",
    "# 查到这个记事本的控件树\n",
    "dlg_spec = app.Dialog  #鎖定視窗\n",
    "#dlg_spec.print_control_identifiers()\n",
    "dlg_spec.TEdit.type_keys('0800') #密碼\n",
    "dlg_spec.Button15.click()  #登入\n",
    "\n"
   ]
  },
  {
   "cell_type": "code",
   "execution_count": null,
   "metadata": {},
   "outputs": [],
   "source": [
    "from pywinauto.keyboard import SendKeys\n",
    "def rpout(price):\n",
    "    dlg2 = app['POS_2018_04']\n",
    "    #dlg2.print_control_identifiers()\n",
    "    dlg2.清除.click()\n",
    "    for key in price:\n",
    "        SendKeys('{VK_NUMPAD'+key+'}')\n",
    "    dlg2.日用品.click()\n",
    "    dlg2.Button27.click() #小計\n",
    "    #dlg2.Button26.click() #列印發票"
   ]
  },
  {
   "cell_type": "code",
   "execution_count": null,
   "metadata": {},
   "outputs": [],
   "source": []
  },
  {
   "cell_type": "code",
   "execution_count": null,
   "metadata": {},
   "outputs": [],
   "source": [
    "def doit():\n",
    "    txt = open('aa.txt', 'r')\n",
    "    txtcontent = txt.read().split('\\n')\n",
    "    outcontent = []\n",
    "    for po in txtcontent:\n",
    "        if po != \"\":\n",
    "            rpout(po)"
   ]
  },
  {
   "cell_type": "code",
   "execution_count": null,
   "metadata": {},
   "outputs": [],
   "source": [
    "pywinauto.findwindows.find_element()\n"
   ]
  },
  {
   "cell_type": "code",
   "execution_count": null,
   "metadata": {},
   "outputs": [],
   "source": []
  },
  {
   "cell_type": "code",
   "execution_count": 22,
   "metadata": {},
   "outputs": [],
   "source": [
    "#開啟POS\n",
    "import tkinter\n",
    "from pywinauto.application import Application\n",
    "from pywinauto.keyboard import SendKeys\n",
    "\n",
    "\n",
    "def rpout(price):\n",
    "    #dlg_spec.print_control_identifiers()\n",
    "    dlg_spec.清除.click()\n",
    "    for key in price:\n",
    "        SendKeys('{VK_NUMPAD'+key+'}')\n",
    "    dlg_spec.日用品.click()\n",
    "    dlg_spec.Button27.click() #小計\n",
    "    dlg_spec.Button26.click() #列印發票\n",
    "\n",
    "def doit():\n",
    "    txt = open('orderPrice.txt', 'r')\n",
    "    txtcontent = txt.read().split('\\n')\n",
    "    outcontent = []\n",
    "    for po in txtcontent:\n",
    "        if po != \"\":\n",
    "            rpout(po)\n",
    "def login():\n",
    "    dlg_spec.TEdit.type_keys('0800') #密碼\n",
    "    dlg_spec.Button15.click()  #登入\n",
    "    \n",
    "app = Application(backend=\"uia\").start('D:\\sqldata\\POS.exe')\n",
    "# 查到这个记事本的控件树\n",
    "dlg_spec = app.Dialog#鎖定視窗\n",
    "\n",
    "\n",
    "#執行視窗\n",
    "gui = tkinter.Tk()\n",
    "gui.geometry(\"300x80\")\n",
    "btn2 = tkinter.Button(gui, text =\"登入\", command = login)\n",
    "btn = tkinter.Button(gui, text =\"執行\", command = doit)\n",
    "btn.pack(anchor='center', expand='yes')\n",
    "btn2.pack(anchor='center', expand='yes')\n",
    "gui.mainloop()\n",
    "\n"
   ]
  },
  {
   "cell_type": "code",
   "execution_count": null,
   "metadata": {},
   "outputs": [],
   "source": []
  }
 ],
 "metadata": {
  "kernelspec": {
   "display_name": "Python 3",
   "language": "python",
   "name": "python3"
  },
  "language_info": {
   "codemirror_mode": {
    "name": "ipython",
    "version": 3
   },
   "file_extension": ".py",
   "mimetype": "text/x-python",
   "name": "python",
   "nbconvert_exporter": "python",
   "pygments_lexer": "ipython3",
   "version": "3.6.5"
  }
 },
 "nbformat": 4,
 "nbformat_minor": 2
}

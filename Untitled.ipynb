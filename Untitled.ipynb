{
 "cells": [
  {
   "cell_type": "code",
   "execution_count": 1,
   "metadata": {},
   "outputs": [
    {
     "name": "stdout",
     "output_type": "stream",
     "text": [
      "驗證成功 887727948:17 Kitty\n",
      "驗證成功 887727949:15 巧虎\n",
      "驗證成功 887727950:0 冰雪奇緣\n",
      "驗證成功 887727951:0 多美車\n",
      "驗證成功 887727952:0 長髮公主\n",
      "驗證成功 887727953:0 美人魚公主\n",
      "驗證成功 887727954:0 美女與野獸\n",
      "驗證成功 887727955:3 美樂蒂\n",
      "驗證成功 887727956:0 迪士尼公主\n",
      "驗證成功 887727957:0 閃電麥坤\n",
      "驗證成功 887727958:0 精靈寶可夢\n",
      "3   ● 2:上架,3:下架\n"
     ]
    }
   ],
   "source": [
    "#yahoo 下架會正常\n",
    "pdid = \"100443243712\"\n",
    "from bs4 import BeautifulSoup\n",
    "import requests\n",
    "import json\n",
    "url = \"https://tw.bid.yahoo.com/item/\"+pdid\n",
    "my_headers = {'user-agent': 'Mozilla/5.0 (Windows NT 10.0; Win64; x64) AppleWebKit/537.36 (KHTML, like Gecko) Chrome/68.0.3440.106 Safari/537.36'}\n",
    "gotrq = requests.get(url,headers = my_headers)\n",
    "soup = BeautifulSoup(gotrq.text, \"html.parser\") #\"html.parser\" html解析器 將html 轉為bs4格式操作\n",
    "#for item in soup.select(\".listing-title\"): #html 可以使用select 選擇想要的東西\n",
    "    #print(item.select(\"a\")[0].text)\n",
    "gotjson = soup.select(\"#isoredux-data\")[0].get(\"data-state\") #get 取得屬性\n",
    "load = json.loads(gotjson)  #轉成python dict\n",
    "\n",
    "for i in range(len(load[\"item\"][\"models\"])): #提取ID\n",
    "    specnameID = str(load[\"item\"][\"models\"][i][\"specCombination\"]).split(\":\")\n",
    "    specname = str(load[\"item\"][\"specs\"][0]['options'][i]['name'])\n",
    "    if specnameID[1] == str(load[\"item\"][\"specs\"][0]['options'][i]['id']):\n",
    "        text = '驗證成功 '\n",
    "    \n",
    "    print(text+load[\"item\"][\"models\"][i][\"id\"]+\":\"+ str(load[\"item\"][\"models\"][i][\"qty\"])+\" \"+specname)\n",
    "print(str(load[\"item\"][\"status\"])+\"   ● 2:上架,3:下架\")"
   ]
  },
  {
   "cell_type": "code",
   "execution_count": 40,
   "metadata": {},
   "outputs": [
    {
     "name": "stdout",
     "output_type": "stream",
     "text": [
      "[{\"modelid\":14771559,\"price\":14000000,\"name\":\"黑色\",\"price_before_discount\":0,\"rebate_price\":0,\"itemid\":30324026,\"extinfo\":{\"seller_promotion_refresh_time\":0,\"holiday_mode_old_stock\":0},\"ctime\":1465030169,\"currency\":\"TWD\",\"status\":1,\"sold\":13,\"stock\":23,\"mtime\":1534821018,\"sku\":\"4973307189562\",\"promotionid\":0},{\"modelid\":14771560,\"price\":14000000,\"name\":\"藍色\",\"price_before_discount\":0,\"rebate_price\":0,\"itemid\":30324026,\"extinfo\":{\"seller_promotion_refresh_time\":0,\"holiday_mode_old_stock\":0,\"stockout_time\":0},\"ctime\":1465030169,\"currency\":\"TWD\",\"status\":1,\"sold\":39,\"stock\":13,\"mtime\":1534821018,\"sku\":\"4973307189579\",\"promotionid\":0},{\"modelid\":18570161,\"price\":14000000,\"name\":\"黃色\",\"price_before_discount\":0,\"rebate_price\":0,\"itemid\":30324026,\"extinfo\":{\"seller_promotion_refresh_time\":0,\"holiday_mode_old_stock\":0},\"ctime\":1466410186,\"currency\":\"TWD\",\"status\":1,\"sold\":20,\"stock\":13,\"mtime\":1534821018,\"sku\":\"4973307318511\",\"promotionid\":0},{\"modelid\":181435371,\"price\":14000000,\"name\":\"粉色\",\"price_before_discount\":0,\"rebate_price\":0,\"itemid\":30324026,\"extinfo\":{\"stockout_time\":1536534355},\"ctime\":1495617212,\"currency\":\"TWD\",\"status\":1,\"sold\":21,\"stock\":0,\"mtime\":1534821018,\"sku\":\"4973307189586\",\"promotionid\":0},{\"modelid\":181435372,\"price\":14000000,\"name\":\"紅色\",\"price_before_discount\":0,\"rebate_price\":0,\"itemid\":30324026,\"extinfo\":{\"stockout_time\":1534642732},\"ctime\":1495617212,\"currency\":\"TWD\",\"status\":1,\"sold\":19,\"stock\":0,\"mtime\":1534483422,\"sku\":\"4973307189593\",\"promotionid\":0},{\"modelid\":894123144,\"price\":14000000,\"name\":\"淺藍\",\"price_before_discount\":0,\"rebate_price\":0,\"itemid\":30324026,\"extinfo\":{\"stockout_time\":0},\"ctime\":1522050717,\"currency\":\"TWD\",\"status\":1,\"sold\":11,\"stock\":19,\"mtime\":1534821018,\"sku\":\"4973307318498\",\"promotionid\":0},{\"modelid\":894123145,\"price\":14000000,\"name\":\"紫色\",\"price_before_discount\":0,\"rebate_price\":0,\"itemid\":30324026,\"extinfo\":{\"stockout_time\":0},\"ctime\":1522050717,\"currency\":\"TWD\",\"status\":1,\"sold\":6,\"stock\":8,\"mtime\":1534821018,\"sku\":\"4973307318504\",\"promotionid\":0}]\n"
     ]
    },
    {
     "ename": "WebDriverException",
     "evalue": "Message: unknown error: Cannot read property 'info' of undefined\n  (Session info: chrome=68.0.3440.106)\n  (Driver info: chromedriver=2.40.565498 (ea082db3280dd6843ebfb08a625e3eb905c4f5ab),platform=Windows NT 10.0.17134 x86_64)\n",
     "output_type": "error",
     "traceback": [
      "\u001b[1;31m---------------------------------------------------------------------------\u001b[0m",
      "\u001b[1;31mWebDriverException\u001b[0m                        Traceback (most recent call last)",
      "\u001b[1;32m<ipython-input-40-d399e90ca21e>\u001b[0m in \u001b[0;36m<module>\u001b[1;34m()\u001b[0m\n\u001b[0;32m     14\u001b[0m \u001b[0mtime\u001b[0m\u001b[1;33m.\u001b[0m\u001b[0msleep\u001b[0m\u001b[1;33m(\u001b[0m\u001b[1;36m5\u001b[0m\u001b[1;33m)\u001b[0m\u001b[1;33m\u001b[0m\u001b[0m\n\u001b[0;32m     15\u001b[0m \u001b[1;32mtry\u001b[0m\u001b[1;33m:\u001b[0m\u001b[1;33m\u001b[0m\u001b[0m\n\u001b[1;32m---> 16\u001b[1;33m     \u001b[0mbrowser\u001b[0m\u001b[1;33m.\u001b[0m\u001b[0mexecute_script\u001b[0m\u001b[1;33m(\u001b[0m\u001b[1;34m\"return document.getElementById('main').innerHTML = JSON.stringify(dataLayer[4].info.impressions[0].targetData.item.models)\"\u001b[0m\u001b[1;33m)\u001b[0m\u001b[1;33m\u001b[0m\u001b[0m\n\u001b[0m\u001b[0;32m     17\u001b[0m     \u001b[0mgot\u001b[0m \u001b[1;33m=\u001b[0m \u001b[0mbrowser\u001b[0m\u001b[1;33m.\u001b[0m\u001b[0mfind_element_by_id\u001b[0m\u001b[1;33m(\u001b[0m\u001b[1;34m'main'\u001b[0m\u001b[1;33m)\u001b[0m\u001b[1;33m.\u001b[0m\u001b[0mtext\u001b[0m\u001b[1;33m\u001b[0m\u001b[0m\n\u001b[0;32m     18\u001b[0m \u001b[1;33m\u001b[0m\u001b[0m\n",
      "\u001b[1;32mC:\\ProgramData\\Anaconda3\\lib\\site-packages\\selenium\\webdriver\\remote\\webdriver.py\u001b[0m in \u001b[0;36mexecute_script\u001b[1;34m(self, script, *args)\u001b[0m\n\u001b[0;32m    633\u001b[0m         return self.execute(command, {\n\u001b[0;32m    634\u001b[0m             \u001b[1;34m'script'\u001b[0m\u001b[1;33m:\u001b[0m \u001b[0mscript\u001b[0m\u001b[1;33m,\u001b[0m\u001b[1;33m\u001b[0m\u001b[0m\n\u001b[1;32m--> 635\u001b[1;33m             'args': converted_args})['value']\n\u001b[0m\u001b[0;32m    636\u001b[0m \u001b[1;33m\u001b[0m\u001b[0m\n\u001b[0;32m    637\u001b[0m     \u001b[1;32mdef\u001b[0m \u001b[0mexecute_async_script\u001b[0m\u001b[1;33m(\u001b[0m\u001b[0mself\u001b[0m\u001b[1;33m,\u001b[0m \u001b[0mscript\u001b[0m\u001b[1;33m,\u001b[0m \u001b[1;33m*\u001b[0m\u001b[0margs\u001b[0m\u001b[1;33m)\u001b[0m\u001b[1;33m:\u001b[0m\u001b[1;33m\u001b[0m\u001b[0m\n",
      "\u001b[1;32mC:\\ProgramData\\Anaconda3\\lib\\site-packages\\selenium\\webdriver\\remote\\webdriver.py\u001b[0m in \u001b[0;36mexecute\u001b[1;34m(self, driver_command, params)\u001b[0m\n\u001b[0;32m    318\u001b[0m         \u001b[0mresponse\u001b[0m \u001b[1;33m=\u001b[0m \u001b[0mself\u001b[0m\u001b[1;33m.\u001b[0m\u001b[0mcommand_executor\u001b[0m\u001b[1;33m.\u001b[0m\u001b[0mexecute\u001b[0m\u001b[1;33m(\u001b[0m\u001b[0mdriver_command\u001b[0m\u001b[1;33m,\u001b[0m \u001b[0mparams\u001b[0m\u001b[1;33m)\u001b[0m\u001b[1;33m\u001b[0m\u001b[0m\n\u001b[0;32m    319\u001b[0m         \u001b[1;32mif\u001b[0m \u001b[0mresponse\u001b[0m\u001b[1;33m:\u001b[0m\u001b[1;33m\u001b[0m\u001b[0m\n\u001b[1;32m--> 320\u001b[1;33m             \u001b[0mself\u001b[0m\u001b[1;33m.\u001b[0m\u001b[0merror_handler\u001b[0m\u001b[1;33m.\u001b[0m\u001b[0mcheck_response\u001b[0m\u001b[1;33m(\u001b[0m\u001b[0mresponse\u001b[0m\u001b[1;33m)\u001b[0m\u001b[1;33m\u001b[0m\u001b[0m\n\u001b[0m\u001b[0;32m    321\u001b[0m             response['value'] = self._unwrap_value(\n\u001b[0;32m    322\u001b[0m                 response.get('value', None))\n",
      "\u001b[1;32mC:\\ProgramData\\Anaconda3\\lib\\site-packages\\selenium\\webdriver\\remote\\errorhandler.py\u001b[0m in \u001b[0;36mcheck_response\u001b[1;34m(self, response)\u001b[0m\n\u001b[0;32m    240\u001b[0m                 \u001b[0malert_text\u001b[0m \u001b[1;33m=\u001b[0m \u001b[0mvalue\u001b[0m\u001b[1;33m[\u001b[0m\u001b[1;34m'alert'\u001b[0m\u001b[1;33m]\u001b[0m\u001b[1;33m.\u001b[0m\u001b[0mget\u001b[0m\u001b[1;33m(\u001b[0m\u001b[1;34m'text'\u001b[0m\u001b[1;33m)\u001b[0m\u001b[1;33m\u001b[0m\u001b[0m\n\u001b[0;32m    241\u001b[0m             \u001b[1;32mraise\u001b[0m \u001b[0mexception_class\u001b[0m\u001b[1;33m(\u001b[0m\u001b[0mmessage\u001b[0m\u001b[1;33m,\u001b[0m \u001b[0mscreen\u001b[0m\u001b[1;33m,\u001b[0m \u001b[0mstacktrace\u001b[0m\u001b[1;33m,\u001b[0m \u001b[0malert_text\u001b[0m\u001b[1;33m)\u001b[0m\u001b[1;33m\u001b[0m\u001b[0m\n\u001b[1;32m--> 242\u001b[1;33m         \u001b[1;32mraise\u001b[0m \u001b[0mexception_class\u001b[0m\u001b[1;33m(\u001b[0m\u001b[0mmessage\u001b[0m\u001b[1;33m,\u001b[0m \u001b[0mscreen\u001b[0m\u001b[1;33m,\u001b[0m \u001b[0mstacktrace\u001b[0m\u001b[1;33m)\u001b[0m\u001b[1;33m\u001b[0m\u001b[0m\n\u001b[0m\u001b[0;32m    243\u001b[0m \u001b[1;33m\u001b[0m\u001b[0m\n\u001b[0;32m    244\u001b[0m     \u001b[1;32mdef\u001b[0m \u001b[0m_value_or_default\u001b[0m\u001b[1;33m(\u001b[0m\u001b[0mself\u001b[0m\u001b[1;33m,\u001b[0m \u001b[0mobj\u001b[0m\u001b[1;33m,\u001b[0m \u001b[0mkey\u001b[0m\u001b[1;33m,\u001b[0m \u001b[0mdefault\u001b[0m\u001b[1;33m)\u001b[0m\u001b[1;33m:\u001b[0m\u001b[1;33m\u001b[0m\u001b[0m\n",
      "\u001b[1;31mWebDriverException\u001b[0m: Message: unknown error: Cannot read property 'info' of undefined\n  (Session info: chrome=68.0.3440.106)\n  (Driver info: chromedriver=2.40.565498 (ea082db3280dd6843ebfb08a625e3eb905c4f5ab),platform=Windows NT 10.0.17134 x86_64)\n"
     ]
    }
   ],
   "source": [
    "from selenium import webdriver\n",
    "import time\n",
    "import json\n",
    "import requests\n",
    "import time\n",
    "\n",
    "\n",
    "\n",
    "#https://shopee.tw/api/v1/item_detail/?item_id=724636560&shop_id=2019696\n",
    "browser = webdriver.Chrome('chromedriver.exe') \n",
    "browser.get('https://shopee.tw/product/2019696/30324026/') \n",
    "#print(browser.execute_script(\"return document\"))\n",
    "\n",
    "time.sleep(5)\n",
    "try:\n",
    "    browser.execute_script(\"return document.getElementById('main').innerHTML = JSON.stringify(dataLayer[4].info.impressions[0].targetData.item.models)\")\n",
    "    got = browser.find_element_by_id('main').text\n",
    "\n",
    "#print(soup.select(\".shopee-page-wrapper\"))\n",
    "#print(getHttpResponseHeader(browser))\n",
    "finally:\n",
    "    \n",
    "    print(got)\n",
    "    browser.quit()\n"
   ]
  },
  {
   "cell_type": "code",
   "execution_count": 17,
   "metadata": {},
   "outputs": [
    {
     "name": "stdout",
     "output_type": "stream",
     "text": [
      "<RequestsCookieJar[<Cookie SPC_EC=- for .shopee.tw/>, <Cookie SPC_F=0eSDn71C94f2JxCkd3nstMyp91kX6tkX for .shopee.tw/>, <Cookie SPC_SI=ts8vl55qquvisqwpu9zc9ooywnb9wac0 for .shopee.tw/>, <Cookie SPC_U=- for .shopee.tw/>, <Cookie REC_T_ID=2c3214f2-b767-11e8-98da-b496911575da for shopee.tw/>, <Cookie SPC_IA=-1 for shopee.tw/>, <Cookie SPC_T_ID=\"PaInI/kssz3+QWyqjrluixGprm2jXXc03TLtD0OU1wJyQFp2Le//AkEcpkMmhgsXVbnHqneoXUbP0HM1wF5MXOTpcve2kzEpTiH4Ozdoz8I=\" for shopee.tw/>, <Cookie SPC_T_IV=\"6agOsSbXNG3l/zLv7roadw==\" for shopee.tw/>]>\n"
     ]
    }
   ],
   "source": [
    "from bs4 import BeautifulSoup\n",
    "import requests\n",
    "import json\n",
    "url = \"https://shopee.tw/api/v1/item_detail/?item_id=30324026&shop_id=2019696\"\n",
    "my_headers = {'user-agent': 'Mozilla/5.0 (Windows NT 10.0; Win64; x64) AppleWebKit/537.36 (KHTML, like Gecko) Chrome/68.0.3440.106 Safari/537.36'}\n",
    "cookie = {'value': 'f6d90f8e-b763-11e8-9f87-b496912770ce'}\n",
    "gotrq = requests.get(url,headers = my_headers,cookies = cookie)\n",
    "api = json.loads(gotrq.text) #\"html.parser\" html解析器 將html 轉為bs4格式操作\n",
    "#for item in soup.select(\".listing-title\"): #html 可以使用select 選擇想要的東西\n",
    "    #print(item.select(\"a\")[0].text)\n",
    "print(gotrq.cookies)"
   ]
  },
  {
   "cell_type": "code",
   "execution_count": 43,
   "metadata": {},
   "outputs": [
    {
     "name": "stdout",
     "output_type": "stream",
     "text": [
      "173800496412106:0 紫色&寶石莓果香\n",
      "173800496412117:46 紅色&鑽石花香\n",
      "173800496412128:0 綠色&翡翠微風香\n",
      "有上架嗎?False\n"
     ]
    }
   ],
   "source": [
    "#ruten #下架商品會正常\n",
    "pdid = \"21738136998850\"\n",
    "from bs4 import BeautifulSoup\n",
    "import requests\n",
    "import json\n",
    "url = \"https://goods.ruten.com.tw/item/show?\"+pdid\n",
    "my_headers = {'user-agent': 'Mozilla/5.0 (Windows NT 10.0; Win64; x64) AppleWebKit/537.36 (KHTML, like Gecko) Chrome/68.0.3440.106 Safari/537.36'}\n",
    "gotrq = requests.get(url,headers = my_headers)\n",
    "soup = BeautifulSoup(gotrq.text, \"html.parser\") #\"html.parser\" html解析器 將html 轉為bs4格式操作\n",
    "strnum = soup.select('script[type=\"text/javascript\"]')[16].text.find(\"RT.context = \") #提取JSON資料 #find 找到RT.context的位址\n",
    "gotjson = soup.select('script[type=\"text/javascript\"]')[16].text[strnum+len(\"RT.context = \"):-2]\n",
    "load = json.loads(gotjson)  #轉成python dict\n",
    "if 'spec_info' in load.keys(): #是否有款式\n",
    "    for k,v in load['spec_info']['specs'].items():#for 出dict 資料\n",
    "        print(k+':'+v['spec_num']+\" \"+v['spec_name'])\n",
    "else:\n",
    "    print(load['remain_count'])\n",
    "print(\"有上架嗎?\"+str(load['is_product_buyer']))\n"
   ]
  },
  {
   "cell_type": "code",
   "execution_count": 7,
   "metadata": {},
   "outputs": [
    {
     "name": "stdout",
     "output_type": "stream",
     "text": [
      "0:0 紫色\n",
      "1:20 紅色\n",
      "2:0 綠色\n"
     ]
    }
   ],
   "source": [
    "#PC \n",
    "pdid = \"C1163203776\"\n",
    "from bs4 import BeautifulSoup\n",
    "import requests\n",
    "import json\n",
    "url = \"http://seller.pcstore.com.tw/S188431702/\"+pdid+\".htm\"\n",
    "my_headers = {'user-agent': 'Mozilla/5.0 (Windows NT 10.0; Win64; x64) AppleWebKit/537.36 (KHTML, like Gecko) Chrome/68.0.3440.106 Safari/537.36'}\n",
    "gotrq = requests.get(url,headers = my_headers)\n",
    "soup = BeautifulSoup(gotrq.text, \"html.parser\") #\"html.parser\" html解析器 將html 轉為bs4格式操作\n",
    "gotjson = soup.select('#specs')[0].text\n",
    "load = json.loads(gotjson)\n",
    "\n",
    "if type(load) == dict: #新上的都是字典檔\n",
    "    for k,v in load.items():\n",
    "        print(v['p_sseq']+\":\"+v['p_invt']+\" \"+v['p_spec'])\n",
    "else:#舊的都是陣列\n",
    "    for i in range(len(load)):\n",
    "        print(load[i]['p_sseq']+\":\"+load[i]['p_invt']+\" \"+load[i]['p_spec'])"
   ]
  },
  {
   "cell_type": "code",
   "execution_count": 35,
   "metadata": {},
   "outputs": [
    {
     "name": "stdout",
     "output_type": "stream",
     "text": [
      "0:87 \n"
     ]
    }
   ],
   "source": [
    "#PC 梓原 #下架會錯誤\n",
    "pdid = \"C1142301095\"\n",
    "from bs4 import BeautifulSoup\n",
    "import requests\n",
    "import json\n",
    "url = \"http://seller.pcstore.com.tw/S163498400/\"+pdid+\".htm\"\n",
    "my_headers = {'user-agent': 'Mozilla/5.0 (Windows NT 10.0; Win64; x64) AppleWebKit/537.36 (KHTML, like Gecko) Chrome/68.0.3440.106 Safari/537.36'}\n",
    "gotrq = requests.get(url,headers = my_headers)\n",
    "soup = BeautifulSoup(gotrq.text, \"html.parser\") #\"html.parser\" html解析器 將html 轉為bs4格式操作\n",
    "gotjson = soup.select('#specs')[0].text\n",
    "load = json.loads(gotjson)\n",
    "\n",
    "if type(load) == dict: #新上的都是字典檔\n",
    "    for k,v in load.items():\n",
    "        print(v['p_sseq']+\":\"+v['p_invt']+\" \"+v['p_spec'])\n",
    "else:#舊的都是陣列\n",
    "    for i in range(len(load)):\n",
    "        print(load[i]['p_sseq']+\":\"+load[i]['p_invt']+\" \"+load[i]['p_spec'])"
   ]
  },
  {
   "cell_type": "code",
   "execution_count": 5,
   "metadata": {},
   "outputs": [
    {
     "ename": "JSONDecodeError",
     "evalue": "Expecting value: line 1 column 1 (char 0)",
     "output_type": "error",
     "traceback": [
      "\u001b[1;31m---------------------------------------------------------------------------\u001b[0m",
      "\u001b[1;31mJSONDecodeError\u001b[0m                           Traceback (most recent call last)",
      "\u001b[1;32m<ipython-input-5-16bb730a2b8b>\u001b[0m in \u001b[0;36m<module>\u001b[1;34m()\u001b[0m\n\u001b[0;32m     10\u001b[0m \u001b[0mstrnum\u001b[0m \u001b[1;33m=\u001b[0m \u001b[0msoup\u001b[0m\u001b[1;33m.\u001b[0m\u001b[0mselect\u001b[0m\u001b[1;33m(\u001b[0m\u001b[1;34m'script'\u001b[0m\u001b[1;33m)\u001b[0m\u001b[1;33m[\u001b[0m\u001b[1;36m23\u001b[0m\u001b[1;33m]\u001b[0m\u001b[1;33m.\u001b[0m\u001b[0mtext\u001b[0m\u001b[1;33m.\u001b[0m\u001b[0mfind\u001b[0m\u001b[1;33m(\u001b[0m\u001b[1;34m\"window._pc_p = \"\u001b[0m\u001b[1;33m)\u001b[0m \u001b[1;31m#提取JSON資料\u001b[0m\u001b[1;33m\u001b[0m\u001b[0m\n\u001b[0;32m     11\u001b[0m \u001b[0mgotjson\u001b[0m \u001b[1;33m=\u001b[0m \u001b[0msoup\u001b[0m\u001b[1;33m.\u001b[0m\u001b[0mselect\u001b[0m\u001b[1;33m(\u001b[0m\u001b[1;34m'script'\u001b[0m\u001b[1;33m)\u001b[0m\u001b[1;33m[\u001b[0m\u001b[1;36m23\u001b[0m\u001b[1;33m]\u001b[0m\u001b[1;33m.\u001b[0m\u001b[0mtext\u001b[0m\u001b[1;33m[\u001b[0m\u001b[0mstrnum\u001b[0m\u001b[1;33m+\u001b[0m\u001b[0mlen\u001b[0m\u001b[1;33m(\u001b[0m\u001b[1;34m\"window._pc_p = \"\u001b[0m\u001b[1;33m)\u001b[0m\u001b[1;33m:\u001b[0m\u001b[1;33m-\u001b[0m\u001b[1;36m2\u001b[0m\u001b[1;33m]\u001b[0m\u001b[1;33m\u001b[0m\u001b[0m\n\u001b[1;32m---> 12\u001b[1;33m \u001b[0mload\u001b[0m \u001b[1;33m=\u001b[0m \u001b[0mjson\u001b[0m\u001b[1;33m.\u001b[0m\u001b[0mloads\u001b[0m\u001b[1;33m(\u001b[0m\u001b[0mgotjson\u001b[0m\u001b[1;33m)\u001b[0m  \u001b[1;31m#轉成python dict\u001b[0m\u001b[1;33m\u001b[0m\u001b[0m\n\u001b[0m\u001b[0;32m     13\u001b[0m \u001b[1;33m\u001b[0m\u001b[0m\n\u001b[0;32m     14\u001b[0m \u001b[1;32mfor\u001b[0m \u001b[0mi\u001b[0m \u001b[1;32min\u001b[0m \u001b[0mrange\u001b[0m\u001b[1;33m(\u001b[0m\u001b[0mlen\u001b[0m\u001b[1;33m(\u001b[0m\u001b[0mload\u001b[0m\u001b[1;33m[\u001b[0m\u001b[1;34m'volumes'\u001b[0m\u001b[1;33m]\u001b[0m\u001b[1;33m)\u001b[0m\u001b[1;33m)\u001b[0m\u001b[1;33m:\u001b[0m\u001b[1;33m\u001b[0m\u001b[0m\n",
      "\u001b[1;32mC:\\ProgramData\\Anaconda3\\lib\\json\\__init__.py\u001b[0m in \u001b[0;36mloads\u001b[1;34m(s, encoding, cls, object_hook, parse_float, parse_int, parse_constant, object_pairs_hook, **kw)\u001b[0m\n\u001b[0;32m    352\u001b[0m             \u001b[0mparse_int\u001b[0m \u001b[1;32mis\u001b[0m \u001b[1;32mNone\u001b[0m \u001b[1;32mand\u001b[0m \u001b[0mparse_float\u001b[0m \u001b[1;32mis\u001b[0m \u001b[1;32mNone\u001b[0m \u001b[1;32mand\u001b[0m\u001b[1;33m\u001b[0m\u001b[0m\n\u001b[0;32m    353\u001b[0m             parse_constant is None and object_pairs_hook is None and not kw):\n\u001b[1;32m--> 354\u001b[1;33m         \u001b[1;32mreturn\u001b[0m \u001b[0m_default_decoder\u001b[0m\u001b[1;33m.\u001b[0m\u001b[0mdecode\u001b[0m\u001b[1;33m(\u001b[0m\u001b[0ms\u001b[0m\u001b[1;33m)\u001b[0m\u001b[1;33m\u001b[0m\u001b[0m\n\u001b[0m\u001b[0;32m    355\u001b[0m     \u001b[1;32mif\u001b[0m \u001b[0mcls\u001b[0m \u001b[1;32mis\u001b[0m \u001b[1;32mNone\u001b[0m\u001b[1;33m:\u001b[0m\u001b[1;33m\u001b[0m\u001b[0m\n\u001b[0;32m    356\u001b[0m         \u001b[0mcls\u001b[0m \u001b[1;33m=\u001b[0m \u001b[0mJSONDecoder\u001b[0m\u001b[1;33m\u001b[0m\u001b[0m\n",
      "\u001b[1;32mC:\\ProgramData\\Anaconda3\\lib\\json\\decoder.py\u001b[0m in \u001b[0;36mdecode\u001b[1;34m(self, s, _w)\u001b[0m\n\u001b[0;32m    337\u001b[0m \u001b[1;33m\u001b[0m\u001b[0m\n\u001b[0;32m    338\u001b[0m         \"\"\"\n\u001b[1;32m--> 339\u001b[1;33m         \u001b[0mobj\u001b[0m\u001b[1;33m,\u001b[0m \u001b[0mend\u001b[0m \u001b[1;33m=\u001b[0m \u001b[0mself\u001b[0m\u001b[1;33m.\u001b[0m\u001b[0mraw_decode\u001b[0m\u001b[1;33m(\u001b[0m\u001b[0ms\u001b[0m\u001b[1;33m,\u001b[0m \u001b[0midx\u001b[0m\u001b[1;33m=\u001b[0m\u001b[0m_w\u001b[0m\u001b[1;33m(\u001b[0m\u001b[0ms\u001b[0m\u001b[1;33m,\u001b[0m \u001b[1;36m0\u001b[0m\u001b[1;33m)\u001b[0m\u001b[1;33m.\u001b[0m\u001b[0mend\u001b[0m\u001b[1;33m(\u001b[0m\u001b[1;33m)\u001b[0m\u001b[1;33m)\u001b[0m\u001b[1;33m\u001b[0m\u001b[0m\n\u001b[0m\u001b[0;32m    340\u001b[0m         \u001b[0mend\u001b[0m \u001b[1;33m=\u001b[0m \u001b[0m_w\u001b[0m\u001b[1;33m(\u001b[0m\u001b[0ms\u001b[0m\u001b[1;33m,\u001b[0m \u001b[0mend\u001b[0m\u001b[1;33m)\u001b[0m\u001b[1;33m.\u001b[0m\u001b[0mend\u001b[0m\u001b[1;33m(\u001b[0m\u001b[1;33m)\u001b[0m\u001b[1;33m\u001b[0m\u001b[0m\n\u001b[0;32m    341\u001b[0m         \u001b[1;32mif\u001b[0m \u001b[0mend\u001b[0m \u001b[1;33m!=\u001b[0m \u001b[0mlen\u001b[0m\u001b[1;33m(\u001b[0m\u001b[0ms\u001b[0m\u001b[1;33m)\u001b[0m\u001b[1;33m:\u001b[0m\u001b[1;33m\u001b[0m\u001b[0m\n",
      "\u001b[1;32mC:\\ProgramData\\Anaconda3\\lib\\json\\decoder.py\u001b[0m in \u001b[0;36mraw_decode\u001b[1;34m(self, s, idx)\u001b[0m\n\u001b[0;32m    355\u001b[0m             \u001b[0mobj\u001b[0m\u001b[1;33m,\u001b[0m \u001b[0mend\u001b[0m \u001b[1;33m=\u001b[0m \u001b[0mself\u001b[0m\u001b[1;33m.\u001b[0m\u001b[0mscan_once\u001b[0m\u001b[1;33m(\u001b[0m\u001b[0ms\u001b[0m\u001b[1;33m,\u001b[0m \u001b[0midx\u001b[0m\u001b[1;33m)\u001b[0m\u001b[1;33m\u001b[0m\u001b[0m\n\u001b[0;32m    356\u001b[0m         \u001b[1;32mexcept\u001b[0m \u001b[0mStopIteration\u001b[0m \u001b[1;32mas\u001b[0m \u001b[0merr\u001b[0m\u001b[1;33m:\u001b[0m\u001b[1;33m\u001b[0m\u001b[0m\n\u001b[1;32m--> 357\u001b[1;33m             \u001b[1;32mraise\u001b[0m \u001b[0mJSONDecodeError\u001b[0m\u001b[1;33m(\u001b[0m\u001b[1;34m\"Expecting value\"\u001b[0m\u001b[1;33m,\u001b[0m \u001b[0ms\u001b[0m\u001b[1;33m,\u001b[0m \u001b[0merr\u001b[0m\u001b[1;33m.\u001b[0m\u001b[0mvalue\u001b[0m\u001b[1;33m)\u001b[0m \u001b[1;32mfrom\u001b[0m \u001b[1;32mNone\u001b[0m\u001b[1;33m\u001b[0m\u001b[0m\n\u001b[0m\u001b[0;32m    358\u001b[0m         \u001b[1;32mreturn\u001b[0m \u001b[0mobj\u001b[0m\u001b[1;33m,\u001b[0m \u001b[0mend\u001b[0m\u001b[1;33m\u001b[0m\u001b[0m\n",
      "\u001b[1;31mJSONDecodeError\u001b[0m: Expecting value: line 1 column 1 (char 0)"
     ]
    }
   ],
   "source": [
    "#pcone #下架商品會錯誤\n",
    "pdid = \"180126442661\"\n",
    "from bs4 import BeautifulSoup\n",
    "import requests\n",
    "import json\n",
    "url = \"https://www.pcone.com.tw/product/info/\"+pdid\n",
    "my_headers = {'user-agent': 'Mozilla/5.0 (Windows NT 10.0; Win64; x64) AppleWebKit/537.36 (KHTML, like Gecko) Chrome/68.0.3440.106 Safari/537.36'}\n",
    "gotrq = requests.get(url,headers = my_headers)\n",
    "soup = BeautifulSoup(gotrq.text, \"html.parser\") #\"html.parser\" html解析器 將html 轉為bs4格式操作\n",
    "strnum = soup.select('script')[23].text.find(\"window._pc_p = \") #提取JSON資料\n",
    "gotjson = soup.select('script')[23].text[strnum+len(\"window._pc_p = \"):-2]\n",
    "load = json.loads(gotjson)  #轉成python dict\n",
    "\n",
    "for i in range(len(load['volumes'])):\n",
    "    print(str(load['volumes'][i]['volume_id'])+\":\"+str(load['volumes'][i]['volume_remaining'])+\" \"+str(load['volumes'][i]['option']))\n",
    "\n"
   ]
  },
  {
   "cell_type": "code",
   "execution_count": 28,
   "metadata": {},
   "outputs": [
    {
     "data": {
      "text/plain": [
       "'賣家中心\\n下載\\n追蹤我們\\n通知總覽\\n幫助中心\\n註冊\\n登入\\na8 手機殼\\nplus 手機殼\\n兒童手錶\\n拍照道具\\n宴會婚紗\\n無鋼圈內衣\\n大尺碼女鞋\\n高腰短褲\\n防水貼紙\\n男生包包\\n運動長褲\\n手提托特包\\n夾式耳環\\n蝦皮\\n居家生活\\n水壺、杯子\\n冷水瓶、壺\\n✨現貨快出🔜【SKATER】直飲水壺替換蓋 黑色 藍色 黃色 粉色 紅色 淺藍 紫色 🌳 綠光森林 🌳\\n讚: 114\\n分享至\\n✨現貨快出🔜【SKATER】直飲水壺替換蓋 黑色 藍色 黃色 粉色 紅色 淺藍 紫色 🌳 綠光森林 🌳\\n$140\\n5/5\\n(75個評價)\\n月銷售量77\\n蝦皮優選\\nmojim.forest的訂單滿$1,000，7-11、全家、萊爾富、賣家宅配免運費\\n運費:\\n$60 - $80\\n規格:\\n黑色藍色黃色粉色紅色淺藍紫色\\n數量:\\n還剩76件\\n聊聊\\n加入購物車\\n直接購買\\n蝦皮承諾\\n蝦皮購物保障你的交易安全：我們只會在買家確認收到商品後，才會撥款給賣家！\\nmojim.forest\\n7小時前上線\\n查看賣場\\n關注\\n727\\n商品\\n5.0\\n商品評價\\n86%\\n聊聊回應率\\n幾小時內\\n回應速度\\n33個月 前\\n加入時間\\n客服中心\\n幫助中心\\n蝦皮商城\\n付款方式\\n蝦皮錢包\\n蝦幣\\n運費補助\\n退貨退款\\n蝦皮承諾\\n聯絡客服\\n關於蝦皮\\n關於蝦皮\\n加入我們\\n蝦皮條款\\n隱私權政策\\n蝦皮商城\\n賣家中心\\n限時特賣\\n物流合作\\n關注我們\\nFacebook\\nInstagram\\nLine\\nLinkedIn\\n蝦拼開箱\\n下載蝦皮\\n© 2018 Shopee. 版權所有。\\n國家和地區:\\n新加坡\\n印尼\\n台灣\\n泰國\\n馬來西亞\\n越南\\n菲律賓'"
      ]
     },
     "execution_count": 28,
     "metadata": {},
     "output_type": "execute_result"
    }
   ],
   "source": [
    "browser.find_element_by_id('main').text"
   ]
  },
  {
   "cell_type": "code",
   "execution_count": null,
   "metadata": {},
   "outputs": [],
   "source": []
  }
 ],
 "metadata": {
  "kernelspec": {
   "display_name": "Python 3",
   "language": "python",
   "name": "python3"
  }
 },
 "nbformat": 4,
 "nbformat_minor": 2
}

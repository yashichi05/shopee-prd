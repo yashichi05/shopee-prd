{
 "cells": [
  {
   "cell_type": "code",
   "execution_count": 224,
   "metadata": {},
   "outputs": [
    {
     "name": "stdout",
     "output_type": "stream",
     "text": [
      "{'spreadsheetId': '19ZXwhENPrLmLURoKO4xXoCDahpyMG5wuU_8xsU74kyI', 'updatedRange': \"'庫存表'!G1123:L1123\", 'updatedRows': 1, 'updatedColumns': 6, 'updatedCells': 6}\n",
      "[['34', 'noID', '50', 'noID', 'noID', '44']]\n"
     ]
    }
   ],
   "source": [
    "\n",
    "from bs4 import BeautifulSoup\n",
    "from selenium import webdriver\n",
    "from __future__ import print_function\n",
    "from googleapiclient.discovery import build\n",
    "from httplib2 import Http\n",
    "from oauth2client import file, client, tools\n",
    "import requests\n",
    "import json\n",
    "import time\n",
    "\n",
    "SCOPES = 'https://www.googleapis.com/auth/spreadsheets'\n",
    "\n",
    "global browser\n",
    "chrome_options = webdriver.ChromeOptions() #新增chrome選項\n",
    "#chrome_options.add_argument('--headless') #隱藏GUI\n",
    "#chrome_options.add_argument('--disable-gpu')\n",
    "browser = webdriver.Chrome('chromedriver.exe',chrome_options = chrome_options) \n",
    "\n",
    "\n",
    "resultdata = getprdstock(\"4562351019316\")\n",
    "#resultdata = getsheet('商品ID!A:Q') #獲取試算表所有資料        \n",
    "\n",
    "\n",
    "\n",
    "#getyahoo(\"100443243712\")\n",
    "#getshopee(\"129680129\")\n",
    "#getruten(\"21738136998850\")\n",
    "#getpct(\"C1139763580\")\n",
    "#getpcd(\"C1142301095\")\n",
    "#getpcone(\"180126442661\")\n",
    "browser.quit()\n",
    "print(a)"
   ]
  },
  {
   "cell_type": "code",
   "execution_count": 186,
   "metadata": {},
   "outputs": [],
   "source": [
    "#蝦皮\n",
    "chrome_options = webdriver.ChromeOptions() #新增chrome選項\n",
    "#chrome_options.add_argument('--headless') #隱藏GUI\n",
    "#chrome_options.add_argument('--disable-gpu')\n",
    "global browser\n",
    "browser = webdriver.Chrome('chromedriver.exe',chrome_options = chrome_options) \n",
    "OK = [] #完成的網頁放這邊"
   ]
  },
  {
   "cell_type": "code",
   "execution_count": null,
   "metadata": {},
   "outputs": [],
   "source": []
  },
  {
   "cell_type": "code",
   "execution_count": 222,
   "metadata": {},
   "outputs": [],
   "source": [
    "def getprdstock(isoinput):\n",
    "    prdidData = getsheet('商品ID!A:Q') #獲取試算表所有資料\n",
    "    #提取ISO\n",
    "    isoAry = []\n",
    "    wval=[\"\",\"\",\"\",\"\",\"\",\"\"]\n",
    "    for row in range(len(prdidData)):\n",
    "        try:\n",
    "            isoAry.append(prdidData[row][0])#iso位置\n",
    "        except:\n",
    "            isoAry.append(\"\")#如果錯誤(空值)，新增空白\n",
    "    getArow = isoAry.index(isoinput) #找到list的第幾個\n",
    "    IDObj = {\"Yahoo\":{\"web\":\"\",\"type\":\"\"},\"Ruten\":{\"web\":\"\",\"type\":\"\"},\"Shopee\":{\"web\":\"\",\"type\":\"\"},\"PCt\":{\"web\":\"\",\"type\":\"\"},\"PCd\":{\"web\":\"\",\"type\":\"\"},\"pcone\":{\"web\":\"\",\"type\":\"\"}}\n",
    "    try:#webid\n",
    "        IDObj[\"Yahoo\"][\"web\"]=prdidData[getArow][4]\n",
    "    except:#錯誤新增\n",
    "        IDObj[\"Yahoo\"][\"web\"]= \"\"\n",
    "    try:#typeid\n",
    "        IDObj[\"Yahoo\"][\"type\"]=prdidData[getArow][5]\n",
    "    except:#錯誤新增\n",
    "        IDObj[\"Yahoo\"][\"type\"]=\"\"\n",
    "    try:#webid\n",
    "        IDObj[\"Ruten\"][\"web\"]=prdidData[getArow][6]\n",
    "    except:#錯誤新增\n",
    "        IDObj[\"Ruten\"][\"web\"]= \"\"\n",
    "    try:#typeid\n",
    "        IDObj[\"Ruten\"][\"type\"]=prdidData[getArow][7]\n",
    "    except:#錯誤新增\n",
    "        IDObj[\"Ruten\"][\"type\"]=\"\"    \n",
    "    try:#webid\n",
    "        IDObj[\"Shopee\"][\"web\"]=prdidData[getArow][8]\n",
    "    except:#錯誤新增\n",
    "        IDObj[\"Shopee\"][\"web\"]= \"\"\n",
    "    try:#typeid\n",
    "        IDObj[\"Shopee\"][\"type\"]=prdidData[getArow][9]\n",
    "    except:#錯誤新增\n",
    "        IDObj[\"Shopee\"][\"type\"]=\"\"    \n",
    "    try:#webid\n",
    "        IDObj[\"PCt\"][\"web\"]=prdidData[getArow][10]\n",
    "    except:#錯誤新增\n",
    "        IDObj[\"PCt\"][\"web\"]= \"\"\n",
    "    try:#typeid\n",
    "        IDObj[\"PCt\"][\"type\"]=prdidData[getArow][11]\n",
    "    except:#錯誤新增\n",
    "        IDObj[\"PCt\"][\"type\"]=\"\"\n",
    "    try:#webid\n",
    "        IDObj[\"PCd\"][\"web\"]=prdidData[getArow][12]\n",
    "    except:#錯誤新增\n",
    "        IDObj[\"PCd\"][\"web\"]= \"\"\n",
    "    try:#typeid\n",
    "        IDObj[\"PCd\"][\"type\"]=prdidData[getArow][13]\n",
    "    except:#錯誤新增\n",
    "        IDObj[\"PCd\"][\"type\"]=\"\"\n",
    "    try:#webid\n",
    "        IDObj[\"pcone\"][\"web\"]=prdidData[getArow][14]\n",
    "    except:#錯誤新增\n",
    "        IDObj[\"pcone\"][\"web\"]= \"\"\n",
    "    try:#typeid\n",
    "        IDObj[\"pcone\"][\"type\"]=prdidData[getArow][15]\n",
    "    except:#錯誤新增\n",
    "        IDObj[\"pcone\"][\"type\"]=\"\"\n",
    "        \n",
    "        \n",
    "        \n",
    "    #找yahoo\n",
    "    try:\n",
    "        if IDObj[\"Yahoo\"][\"web\"] : #有web id開始找\n",
    "            gotstock = getyahoo(IDObj[\"Yahoo\"][\"web\"])\n",
    "            if type(gotstock[\"prd\"]) == type(\"str\"): #單一商品\n",
    "                wval[0] = gotstock[\"prd\"] #寫入數量\n",
    "            else: #多商品\n",
    "                for i in range(len(gotstock[\"prd\"])):\n",
    "                    if gotstock[\"prd\"][i][0] == IDObj[\"Yahoo\"][\"type\"]:\n",
    "                         wval[0] = gotstock[\"prd\"][i][1]\n",
    "                if wval[0] == \"\":\n",
    "                    wval[0] = \"款式ID錯誤\"\n",
    "        else:\n",
    "            wval[0] = \"noID\"\n",
    "        if gotstock[\"state\"] == \"3\":\n",
    "             wval[0] =\"下架\"\n",
    "    except:\n",
    "        wval[0] =\"錯誤\"\n",
    "    #找Ruten\n",
    "    try:\n",
    "        if IDObj[\"Ruten\"][\"web\"] : #有web id開始找\n",
    "            gotstock = getruten(IDObj[\"Ruten\"][\"web\"])\n",
    "            if type(gotstock[\"prd\"]) == type(\"str\"): #單一商品\n",
    "                wval[1] = gotstock[\"prd\"] #寫入數量\n",
    "            else: #多商品\n",
    "                for i in range(len(gotstock[\"prd\"])):\n",
    "                    if gotstock[\"prd\"][i][0] == IDObj[\"Ruten\"][\"type\"]:\n",
    "                        wval[1] = gotstock[\"prd\"][i][1]\n",
    "                        if gotstock[\"prd\"][i][3] == \"N\": #如果款式關閉\n",
    "                            wval[1] = \"關閉\"\n",
    "                if wval[1] == \"\":\n",
    "                    wval[1] = \"款式ID錯誤\"\n",
    "        else:\n",
    "            wval[1] = \"noID\"\n",
    "        if gotstock[\"state\"] == False:\n",
    "             wval[1] =\"下架\"\n",
    "    except:\n",
    "        wval[1] =\"錯誤\"\n",
    "        \n",
    "    #找蝦皮\n",
    "    try:\n",
    "        if IDObj[\"Shopee\"][\"web\"] : #有web id開始找\n",
    "            gotstock = getshopee(IDObj[\"Shopee\"][\"web\"])\n",
    "            if type(gotstock[\"prd\"]) == type(\"str\"): #單一商品\n",
    "                wval[2] = gotstock[\"prd\"] #寫入數量\n",
    "            else: #多商品\n",
    "                for i in range(len(gotstock[\"prd\"])):\n",
    "                    if gotstock[\"prd\"][i][0] == IDObj[\"Shopee\"][\"type\"]:\n",
    "                         wval[2] = gotstock[\"prd\"][i][1]\n",
    "                if wval[2] == \"\":\n",
    "                    wval[2] = \"款式ID錯誤\"\n",
    "        else:\n",
    "            wval[2] = \"noID\"\n",
    "        if gotstock[\"state\"] == \"8\":\n",
    "             wval[2] =\"下架\"\n",
    "    except:\n",
    "        wval[2] =\"錯誤\"\n",
    "        \n",
    "    \n",
    "    #找PC梓原\n",
    "    try:\n",
    "        if IDObj[\"PCt\"][\"web\"] : #有web id開始找\n",
    "            gotstock = getpct(IDObj[\"PCt\"][\"web\"]) #查找網頁\n",
    "            for i in range(len(gotstock[\"prd\"])):\n",
    "                if gotstock[\"prd\"][i][0] == IDObj[\"PCt\"][\"type\"]:\n",
    "                    wval[3] = gotstock[\"prd\"][i][1]\n",
    "            if wval[3] == \"\":\n",
    "                wval[3] = \"款式ID錯誤\"\n",
    "\n",
    "        else:\n",
    "            wval[3] = \"noID\"\n",
    "\n",
    "    except:\n",
    "        wval[3] =\"錯誤或下架\"\n",
    "\n",
    "    #找PC大一\n",
    "    try:\n",
    "        if IDObj[\"PCd\"][\"web\"] : #有web id開始找\n",
    "            gotstock = getpcd(IDObj[\"PCd\"][\"web\"]) #查找網頁\n",
    "            for i in range(len(gotstock[\"prd\"])):\n",
    "                if gotstock[\"prd\"][i][0] == IDObj[\"PCd\"][\"type\"]:\n",
    "                    wval[4] = gotstock[\"prd\"][i][1]\n",
    "            if wval[4] == \"\":\n",
    "                wval[4] = \"款式ID錯誤\"\n",
    "\n",
    "        else:\n",
    "            wval[4] = \"noID\"\n",
    "\n",
    "    except:\n",
    "        wval[4] =\"錯誤或下架\"\n",
    "        \n",
    "    #找松果\n",
    "    try:\n",
    "        if IDObj[\"pcone\"][\"web\"] : #有web id開始找\n",
    "            gotstock = getpcone(IDObj[\"pcone\"][\"web\"]) #查找網頁\n",
    "            for i in range(len(gotstock[\"prd\"])):\n",
    "                if gotstock[\"prd\"][i][0] == IDObj[\"pcone\"][\"type\"]:\n",
    "                    wval[5] = gotstock[\"prd\"][i][1]\n",
    "            if wval[5] == \"\":\n",
    "                wval[5] = \"款式ID錯誤\"\n",
    "\n",
    "        else:\n",
    "            wval[5] = \"noID\"\n",
    "\n",
    "    except:\n",
    "        wval[5] =\"錯誤或下架\"\n",
    "    \n",
    "    \n",
    "    writesheet(\"庫存表!G\"+str(getArow),[wval])\n",
    "    return  [wval]    \n",
    " \n"
   ]
  },
  {
   "cell_type": "code",
   "execution_count": 68,
   "metadata": {},
   "outputs": [],
   "source": [
    "def getyahoo(pid):\n",
    "    url = \"https://tw.bid.yahoo.com/item/\"+pid\n",
    "    my_headers = {'user-agent': 'Mozilla/5.0 (Windows NT 10.0; Win64; x64) AppleWebKit/537.36 (KHTML, like Gecko) Chrome/68.0.3440.106 Safari/537.36'}\n",
    "    gotrq = requests.get(url,headers = my_headers)\n",
    "    soup = BeautifulSoup(gotrq.text, \"html.parser\") #\"html.parser\" html解析器 將html 轉為bs4格式操作\n",
    "    #for item in soup.select(\".listing-title\"): #html 可以使用select 選擇想要的東西\n",
    "    #print(item.select(\"a\")[0].text)\n",
    "    gotjson = soup.select(\"#isoredux-data\")[0].get(\"data-state\") #get 取得屬性\n",
    "    load = json.loads(gotjson)  #轉成python dict\n",
    "    outObj = {\"state\":\"0\",\"prd\":\"\"}\n",
    "    if len(load[\"item\"][\"specs\"]) == 0:\n",
    "        #print(load[\"item\"][\"models\"][0][\"id\"]+\":\"+ str(load[\"item\"][\"models\"][0][\"qty\"]))\n",
    "        outObj[\"prd\"] = str(load[\"item\"][\"models\"][0][\"qty\"])\n",
    "    else:\n",
    "        outAry = []\n",
    "        for i in range(len(load[\"item\"][\"models\"])): #提取ID\n",
    "            specnameID = str(load[\"item\"][\"models\"][i][\"specCombination\"]).split(\":\")\n",
    "            specname = str(load[\"item\"][\"specs\"][0]['options'][i]['name'])\n",
    "            outAry.append([str(load[\"item\"][\"models\"][i][\"id\"]),str(load[\"item\"][\"models\"][i][\"qty\"]),specname])\n",
    "            #print(load[\"item\"][\"models\"][i][\"id\"]+\":\"+ str(load[\"item\"][\"models\"][i][\"qty\"])+\" \"+specname)\n",
    "            outObj[\"prd\"] = outAry\n",
    "            \n",
    "    outObj[\"state\"] = str(load[\"item\"][\"status\"])    \n",
    "    return outObj\n",
    "    #print(str(load[\"item\"][\"status\"])+\"   ● 2:上架,3:下架\")"
   ]
  },
  {
   "cell_type": "code",
   "execution_count": 214,
   "metadata": {},
   "outputs": [
    {
     "data": {
      "text/plain": [
       "{'state': '1', 'prd': '50'}"
      ]
     },
     "execution_count": 214,
     "metadata": {},
     "output_type": "execute_result"
    }
   ],
   "source": [
    "#getshopee(\"235224531\")\n",
    "getshopee(\"235224531\")\n"
   ]
  },
  {
   "cell_type": "code",
   "execution_count": 213,
   "metadata": {},
   "outputs": [],
   "source": [
    "def getshopee(pid):\n",
    "    global browser\n",
    "    load = \"\" #重製\n",
    "    browser.get('https://shopee.tw/product/2019696/'+pid) \n",
    "    time.sleep(2) #第一次讀取會失敗 可能要加點選事件，或是觀看視窗的事件 資料可能放在dataLayer[5] #判斷4有無值，無值則layer[5]\n",
    "    browser.find_element_by_css_selector(\"input.shopee-button-outline\").click()\n",
    "    browser.execute_script(\"return document.getElementsByClassName('shopee-product-info__header__title')[0].innerHTML = JSON.stringify(dataLayer[4].info.impressions[0].targetData.item)\")\n",
    "    outObj = {\"state\":\"0\",\"prd\":\"\"}\n",
    "    prdAry = []\n",
    "    if browser.find_element_by_class_name('shopee-product-info__header__title').text == 'undefined': #如果沒有值，則找layer5\n",
    "        print('ly5')\n",
    "        browser.execute_script(\"return document.getElementsByClassName('shopee-product-info__header__title')[0].innerHTML = JSON.stringify(dataLayer[5].info.impressions[0].targetData.item)\")\n",
    "    gotjson = browser.find_element_by_class_name('shopee-product-info__header__title').text #取得JSON\n",
    "    load = json.loads(gotjson)\n",
    "    if len(load['models']) == 0: #判斷有沒有款式\n",
    "        outObj[\"prd\"] = str(load['stock'])\n",
    "    else:\n",
    "        for i in range(len(load['models'])):\n",
    "            prdAry.append([str(load['models'][i]['modelid']),str(load['models'][i]['stock']),str(load['models'][i]['name'])])\n",
    "        outObj[\"prd\"] = prdAry\n",
    "    outObj[\"state\"] = str(load['status'])\n",
    "    return outObj\n",
    "    \n",
    "            \n"
   ]
  },
  {
   "cell_type": "code",
   "execution_count": 107,
   "metadata": {},
   "outputs": [
    {
     "data": {
      "text/plain": [
       "{'state': True,\n",
       " 'prd': [['172800307144052', '5', '黃', 'Y'],\n",
       "  ['172800307144063', '0', '白', 'N'],\n",
       "  ['172800307144074', '0', '粉', 'Y'],\n",
       "  ['172800307144085', '2', '藍', 'Y']]}"
      ]
     },
     "execution_count": 107,
     "metadata": {},
     "output_type": "execute_result"
    }
   ],
   "source": [
    "getruten(\"21728702272471\")"
   ]
  },
  {
   "cell_type": "code",
   "execution_count": 105,
   "metadata": {},
   "outputs": [],
   "source": [
    "def getruten(pid):\n",
    "    url = \"https://goods.ruten.com.tw/item/show?\"+pid\n",
    "    my_headers = {'user-agent': 'Mozilla/5.0 (Windows NT 10.0; Win64; x64) AppleWebKit/537.36 (KHTML, like Gecko) Chrome/68.0.3440.106 Safari/537.36'}\n",
    "    gotrq = requests.get(url,headers = my_headers)\n",
    "    soup = BeautifulSoup(gotrq.text, \"html.parser\") #\"html.parser\" html解析器 將html 轉為bs4格式操作\n",
    "    strnum = soup.select('script[type=\"text/javascript\"]')[16].text.find(\"RT.context = \") #提取JSON資料 #find 找到RT.context的位址\n",
    "    gotjson = soup.select('script[type=\"text/javascript\"]')[16].text[strnum+len(\"RT.context = \"):-2]\n",
    "    load = json.loads(gotjson)  #轉成python dict\n",
    "    outObj = {\"state\":\"0\",\"prd\":\"\"}\n",
    "    prdAry = []\n",
    "    if 'spec_info' in load.keys(): #是否有款式\n",
    "        for k,v in load['spec_info']['specs'].items():#for 出dict 資料\n",
    "            prdAry.append([k,v['spec_num'],v['spec_name'],v[\"spec_status\"]])\n",
    "            #print(k+':'+v['spec_num']+\" \"+v['spec_name']+v[\"spec_status\"])\n",
    "        outObj[\"prd\"]=prdAry\n",
    "    else:\n",
    "        outObj[\"prd\"]=str(load['remain_count'])\n",
    "        #print(load['remain_count'])\n",
    "    outObj[\"state\"] = load['is_product_buyer']\n",
    "    return outObj"
   ]
  },
  {
   "cell_type": "code",
   "execution_count": 156,
   "metadata": {},
   "outputs": [
    {
     "data": {
      "text/plain": [
       "{'state': '0',\n",
       " 'prd': [['0', '5', '黃'], ['1', '0', '白'], ['2', '0', '粉'], ['3', '2', '藍']]}"
      ]
     },
     "execution_count": 156,
     "metadata": {},
     "output_type": "execute_result"
    }
   ],
   "source": [
    "getpcd(\"C1139763374\")"
   ]
  },
  {
   "cell_type": "code",
   "execution_count": 134,
   "metadata": {},
   "outputs": [],
   "source": [
    "def getpct(pid):\n",
    "    url = \"http://seller.pcstore.com.tw/S163498400/\"+pid+\".htm\"\n",
    "    my_headers = {'user-agent': 'Mozilla/5.0 (Windows NT 10.0; Win64; x64) AppleWebKit/537.36 (KHTML, like Gecko) Chrome/68.0.3440.106 Safari/537.36'}\n",
    "    gotrq = requests.get(url,headers = my_headers)\n",
    "    soup = BeautifulSoup(gotrq.text, \"html.parser\") #\"html.parser\" html解析器 將html 轉為bs4格式操作\n",
    "    gotjson = soup.select('#specs')[0].text\n",
    "    load = json.loads(gotjson)\n",
    "    outObj = {\"state\":\"0\",\"prd\":\"\"}\n",
    "    prdAry = []\n",
    "    if type(load) == dict: #新上的都是字典檔\n",
    "        for k,v in load.items():\n",
    "            prdAry.append([v['p_sseq'],v['p_invt'],['p_spec']])\n",
    "    else:#舊的都是陣列\n",
    "        for i in range(len(load)):\n",
    "            prdAry.append([load[i]['p_sseq'],load[i]['p_invt'],load[i]['p_spec']])\n",
    "    outObj[\"prd\"] = prdAry\n",
    "    return outObj\n",
    "    "
   ]
  },
  {
   "cell_type": "code",
   "execution_count": 155,
   "metadata": {},
   "outputs": [],
   "source": [
    "def getpcd(pid):\n",
    "    url = \"http://seller.pcstore.com.tw/S188431702/\"+pid+\".htm\"\n",
    "    my_headers = {'user-agent': 'Mozilla/5.0 (Windows NT 10.0; Win64; x64) AppleWebKit/537.36 (KHTML, like Gecko) Chrome/68.0.3440.106 Safari/537.36'}\n",
    "    gotrq = requests.get(url,headers = my_headers)\n",
    "    soup = BeautifulSoup(gotrq.text, \"html.parser\") #\"html.parser\" html解析器 將html 轉為bs4格式操作\n",
    "    gotjson = soup.select('#specs')[0].text\n",
    "    load = json.loads(gotjson)\n",
    "    outObj = {\"state\":\"0\",\"prd\":\"\"}\n",
    "    prdAry = []\n",
    "    if type(load) == dict: #新上的都是字典檔\n",
    "        for k,v in load.items():\n",
    "            prdAry.append([v['p_sseq'],v['p_invt'],['p_spec']])\n",
    "    else:#舊的都是陣列\n",
    "        for i in range(len(load)):\n",
    "            prdAry.append([load[i]['p_sseq'],load[i]['p_invt'],load[i]['p_spec']])\n",
    "    outObj[\"prd\"] = prdAry\n",
    "    return outObj\n",
    "    "
   ]
  },
  {
   "cell_type": "code",
   "execution_count": 181,
   "metadata": {},
   "outputs": [
    {
     "data": {
      "text/plain": [
       "{'state': '0', 'prd': [['192263', '44', 'None']]}"
      ]
     },
     "execution_count": 181,
     "metadata": {},
     "output_type": "execute_result"
    }
   ],
   "source": [
    "getpcone(\"161025880898\")\n",
    "#getpcone(\"160816897671\")"
   ]
  },
  {
   "cell_type": "code",
   "execution_count": 167,
   "metadata": {},
   "outputs": [],
   "source": [
    "def getpcone(pid):\n",
    "    url = \"https://www.pcone.com.tw/product/info/\"+pid\n",
    "    my_headers = {'user-agent': 'Mozilla/5.0 (Windows NT 10.0; Win64; x64) AppleWebKit/537.36 (KHTML, like Gecko) Chrome/68.0.3440.106 Safari/537.36'}\n",
    "    gotrq = requests.get(url,headers = my_headers)\n",
    "    soup = BeautifulSoup(gotrq.text, \"html.parser\") #\"html.parser\" html解析器 將html 轉為bs4格式操作\n",
    "    strnum = soup.select('script')[23].text.find(\"window._pc_p = \") #提取JSON資料\n",
    "    gotjson = soup.select('script')[23].text[strnum+len(\"window._pc_p = \"):-2]\n",
    "    load = json.loads(gotjson)  #轉成python dict\n",
    "    outObj = {\"state\":\"0\",\"prd\":\"\"}\n",
    "    prdAry = []\n",
    "    for i in range(len(load['volumes'])):\n",
    "        prdAry.append([str(load['volumes'][i]['volume_id']),str(load['volumes'][i]['volume_remaining']),str(load['volumes'][i]['option'])])\n",
    "    outObj[\"prd\"] = prdAry\n",
    "    return outObj\n"
   ]
  },
  {
   "cell_type": "code",
   "execution_count": 4,
   "metadata": {},
   "outputs": [],
   "source": [
    "def getsheet(sheetrange):\n",
    "    \"\"\"Shows basic usage of the Sheets API.\n",
    "    Prints values from a sample spreadsheet.\n",
    "    \"\"\"\n",
    "    store = file.Storage('token.json')\n",
    "    creds = store.get()\n",
    "    if not creds or creds.invalid:\n",
    "        flow = client.flow_from_clientsecrets('credentials.json', SCOPES)\n",
    "        creds = tools.run_flow(flow, store)\n",
    "    service = build('sheets', 'v4', http=creds.authorize(Http()))\n",
    "\n",
    "    # Call the Sheets API\n",
    "    SPREADSHEET_ID = '19ZXwhENPrLmLURoKO4xXoCDahpyMG5wuU_8xsU74kyI'\n",
    "    RANGE_NAME = sheetrange\n",
    "    result = service.spreadsheets().values().get(spreadsheetId=SPREADSHEET_ID,\n",
    "                                                range=RANGE_NAME).execute()\n",
    "    values = result.get('values', [])\n",
    "    if not values:\n",
    "        print('No data found.')\n",
    "    else:\n",
    "        return values\n"
   ]
  },
  {
   "cell_type": "code",
   "execution_count": 220,
   "metadata": {},
   "outputs": [],
   "source": [
    "def writesheet(sheetrange,writeVal):\n",
    "    \"\"\"Shows basic usage of the Sheets API.\n",
    "    Prints values from a sample spreadsheet.\n",
    "    \"\"\"\n",
    "    store = file.Storage('token.json')\n",
    "    creds = store.get()\n",
    "    if not creds or creds.invalid:\n",
    "        flow = client.flow_from_clientsecrets('credentials.json', SCOPES)\n",
    "        creds = tools.run_flow(flow, store)\n",
    "    service = build('sheets', 'v4', http=creds.authorize(Http()))\n",
    "\n",
    "    # Call the Sheets API\n",
    "    SPREADSHEET_ID = '19ZXwhENPrLmLURoKO4xXoCDahpyMG5wuU_8xsU74kyI'\n",
    "    RANGE_NAME = sheetrange\n",
    "    values =[['=52+25']]\n",
    "    body = {'values': writeVal}\n",
    "    value_input_option = 'USER_ENTERED'\n",
    "    result = service.spreadsheets().values().update(spreadsheetId=SPREADSHEET_ID,range=RANGE_NAME,valueInputOption=value_input_option,body=body).execute()\n",
    "    print(result)"
   ]
  },
  {
   "cell_type": "code",
   "execution_count": null,
   "metadata": {},
   "outputs": [],
   "source": [
    "def delsheet(sheetrange):\n",
    "    \"\"\"Shows basic usage of the Sheets API.\n",
    "    Prints values from a sample spreadsheet.\n",
    "    \"\"\"\n",
    "    store = file.Storage('token.json')\n",
    "    creds = store.get()\n",
    "    if not creds or creds.invalid:\n",
    "        flow = client.flow_from_clientsecrets('credentials.json', SCOPES)\n",
    "        creds = tools.run_flow(flow, store)\n",
    "    service = build('sheets', 'v4', http=creds.authorize(Http()))\n",
    "\n",
    "    # Call the Sheets API\n",
    "    SPREADSHEET_ID = '19ZXwhENPrLmLURoKO4xXoCDahpyMG5wuU_8xsU74kyI'\n",
    "    RANGE_NAME = {'ranges' : [sheetrange]}\n",
    "    result = service.spreadsheets().values().batchClear(spreadsheetId=SPREADSHEET_ID,body=RANGE_NAME).execute()\n",
    "    print(result)"
   ]
  },
  {
   "cell_type": "code",
   "execution_count": 110,
   "metadata": {},
   "outputs": [
    {
     "data": {
      "text/plain": [
       "[]"
      ]
     },
     "execution_count": 110,
     "metadata": {},
     "output_type": "execute_result"
    }
   ],
   "source": [
    "isodata[5]"
   ]
  },
  {
   "cell_type": "code",
   "execution_count": null,
   "metadata": {},
   "outputs": [],
   "source": []
  }
 ],
 "metadata": {
  "kernelspec": {
   "display_name": "Python 3",
   "language": "python",
   "name": "python3"
  },
  "language_info": {
   "codemirror_mode": {
    "name": "ipython",
    "version": 3
   },
   "file_extension": ".py",
   "mimetype": "text/x-python",
   "name": "python",
   "nbconvert_exporter": "python",
   "pygments_lexer": "ipython3",
   "version": "3.6.5"
  }
 },
 "nbformat": 4,
 "nbformat_minor": 2
}

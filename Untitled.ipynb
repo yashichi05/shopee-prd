{
 "cells": [
  {
   "cell_type": "code",
   "execution_count": 205,
   "metadata": {},
   "outputs": [
    {
     "name": "stdout",
     "output_type": "stream",
     "text": [
      "驗證成功 995077681:20 紫紅色\n",
      "驗證成功 995077682:20 灰黑色\n",
      "驗證成功 995077683:20 透明色\n"
     ]
    }
   ],
   "source": [
    "#yahoo\n",
    "pdid = \"100488424390\"\n",
    "from bs4 import BeautifulSoup\n",
    "import requests\n",
    "import json\n",
    "url = \"https://tw.bid.yahoo.com/item/\"+pdid\n",
    "my_headers = {'user-agent': 'Mozilla/5.0 (Windows NT 10.0; Win64; x64) AppleWebKit/537.36 (KHTML, like Gecko) Chrome/68.0.3440.106 Safari/537.36'}\n",
    "gotrq = requests.get(url,headers = my_headers)\n",
    "soup = BeautifulSoup(gotrq.text, \"html.parser\") #\"html.parser\" html解析器 將html 轉為bs4格式操作\n",
    "#for item in soup.select(\".listing-title\"): #html 可以使用select 選擇想要的東西\n",
    "    #print(item.select(\"a\")[0].text)\n",
    "gotjson = soup.select(\"#isoredux-data\")[0].get(\"data-state\") #get 取得屬性\n",
    "load = json.loads(gotjson)  #轉成python dict\n",
    "\n",
    "for i in range(len(load[\"item\"][\"models\"])): #提取ID\n",
    "    specnameID = str(load[\"item\"][\"models\"][i][\"specCombination\"]).split(\":\")\n",
    "    specname = str(load[\"item\"][\"specs\"][0]['options'][i]['name'])\n",
    "    if specnameID[1] == str(load[\"item\"][\"specs\"][0]['options'][i]['id']):\n",
    "        text = '驗證成功 '\n",
    "    \n",
    "    print(text+load[\"item\"][\"models\"][i][\"id\"]+\":\"+ str(load[\"item\"][\"models\"][i][\"qty\"])+\" \"+specname)\n"
   ]
  },
  {
   "cell_type": "code",
   "execution_count": null,
   "metadata": {},
   "outputs": [],
   "source": [
    "from selenium import webdriver\n",
    "import time\n",
    "import json\n",
    "import requests\n",
    "\n",
    "\n",
    "#https://shopee.tw/api/v1/item_detail/?item_id=724636560&shop_id=2019696\n",
    "browser = webdriver.Chrome('chromedriver.exe') \n",
    "browser.get('https://shopee.tw/product/2019696/30324026/') \n",
    "#print(browser.execute_script(\"return document\"))\n",
    "#soup = BeautifulSoup(browser.execute_script(\"return document.documentElement.innerHTML\"), \"html.parser\")\n",
    "#timings = browser.execute_script(\"return window.performance.getEntries();\")\n",
    "browser.manage().logs().get(LogType.PERFORMANCE).getAll()\n",
    "\n",
    "#print(soup.select(\".shopee-page-wrapper\"))\n",
    "#print(getHttpResponseHeader(browser))\n",
    "\n",
    "browser.quit()\n"
   ]
  },
  {
   "cell_type": "code",
   "execution_count": null,
   "metadata": {},
   "outputs": [],
   "source": [
    "import json\n",
    "from selenium import webdriver\n",
    "from selenium.webdriver.common.desired_capabilities import DesiredCapabilities\n",
    "\n",
    "caps = DesiredCapabilities.CHROME\n",
    "caps['loggingPrefs'] = {'performance': 'ALL'}\n",
    "driver = webdriver.Chrome(desired_capabilities=caps)\n",
    "\n",
    "driver.get('https://shopee.tw/product/2019696/30324026/')\n",
    "\n",
    "logs = [json.loads(log['message'])['message'] for log in driver.get_log('performance')]\n",
    "\n",
    "print(logs)\n",
    "driver.close()\n"
   ]
  },
  {
   "cell_type": "code",
   "execution_count": 155,
   "metadata": {},
   "outputs": [
    {
     "name": "stdout",
     "output_type": "stream",
     "text": [
      "183603223008354:90 藍色\n",
      "183603223008365:90 粉色\n"
     ]
    }
   ],
   "source": [
    "#ruten\n",
    "pdid = \"21836584093054\"\n",
    "from bs4 import BeautifulSoup\n",
    "import requests\n",
    "import json\n",
    "url = \"https://goods.ruten.com.tw/item/show?\"+pdid\n",
    "my_headers = {'user-agent': 'Mozilla/5.0 (Windows NT 10.0; Win64; x64) AppleWebKit/537.36 (KHTML, like Gecko) Chrome/68.0.3440.106 Safari/537.36'}\n",
    "gotrq = requests.get(url,headers = my_headers)\n",
    "soup = BeautifulSoup(gotrq.text, \"html.parser\") #\"html.parser\" html解析器 將html 轉為bs4格式操作\n",
    "strnum = soup.select('script[type=\"text/javascript\"]')[16].text.find(\"RT.context = \") #提取JSON資料\n",
    "gotjson = soup.select('script[type=\"text/javascript\"]')[16].text[strnum+len(\"RT.context = \"):-2]\n",
    "load = json.loads(gotjson)  #轉成python dict\n",
    "if 'spec_info' in load.keys(): #是否有款式\n",
    "    for k,v in load['spec_info']['specs'].items():#for 出dict 資料\n",
    "        print(k+':'+v['spec_num']+\" \"+v['spec_name'])\n",
    "else:\n",
    "    print(load['remain_count'])\n",
    "\n"
   ]
  },
  {
   "cell_type": "code",
   "execution_count": 188,
   "metadata": {},
   "outputs": [
    {
     "name": "stdout",
     "output_type": "stream",
     "text": [
      "{'1': {'p_sseq': '1', 'p_spec': '', 'p_invt': '20'}}\n",
      "1:20 \n"
     ]
    }
   ],
   "source": [
    "#PC\n",
    "pdid = \"C1209241853\"\n",
    "from bs4 import BeautifulSoup\n",
    "import requests\n",
    "import json\n",
    "url = \"http://seller.pcstore.com.tw/S188431702/\"+pdid+\".htm\"\n",
    "my_headers = {'user-agent': 'Mozilla/5.0 (Windows NT 10.0; Win64; x64) AppleWebKit/537.36 (KHTML, like Gecko) Chrome/68.0.3440.106 Safari/537.36'}\n",
    "gotrq = requests.get(url,headers = my_headers)\n",
    "soup = BeautifulSoup(gotrq.text, \"html.parser\") #\"html.parser\" html解析器 將html 轉為bs4格式操作\n",
    "gotjson = soup.select('#specs')[0].text\n",
    "load = json.loads(gotjson)\n",
    "\n",
    "if type(load) == dict: #新上的都是字典檔\n",
    "    for k,v in load.items():\n",
    "        print(v['p_sseq']+\":\"+v['p_invt']+\" \"+v['p_spec'])\n",
    "else:#舊的都是陣列\n",
    "    for i in range(len(load)):\n",
    "        print(load[i]['p_sseq']+\":\"+load[i]['p_invt']+\" \"+load[i]['p_spec'])"
   ]
  },
  {
   "cell_type": "code",
   "execution_count": null,
   "metadata": {},
   "outputs": [],
   "source": []
  },
  {
   "cell_type": "code",
   "execution_count": null,
   "metadata": {},
   "outputs": [],
   "source": []
  },
  {
   "cell_type": "code",
   "execution_count": null,
   "metadata": {},
   "outputs": [],
   "source": []
  }
 ],
 "metadata": {
  "kernelspec": {
   "display_name": "Python 3",
   "language": "python",
   "name": "python3"
  },
  "language_info": {
   "codemirror_mode": {
    "name": "ipython",
    "version": 3
   },
   "file_extension": ".py",
   "mimetype": "text/x-python",
   "name": "python",
   "nbconvert_exporter": "python",
   "pygments_lexer": "ipython3",
   "version": "3.6.4"
  }
 },
 "nbformat": 4,
 "nbformat_minor": 2
}
